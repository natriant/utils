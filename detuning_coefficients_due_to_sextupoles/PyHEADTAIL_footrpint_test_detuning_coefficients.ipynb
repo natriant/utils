{
 "cells": [
  {
   "cell_type": "markdown",
   "metadata": {},
   "source": [
    "### Calcualte the detuning coefficients for a given amplitude detuning\n",
    "- PyHEADTAIL v1.13.5 (Python3).\n",
    "- The tune is calculated using **NAFF** (NAFFlib).\n",
    "- Tracking 1000 particles for 1000 turns is enough to determine the tune.\n",
    "- **We consider seperate the motion in the H and V plane.**\n",
    "- We considere that there is **no coupling** in the trasnvserse plane."
   ]
  },
  {
   "cell_type": "code",
   "execution_count": 1,
   "metadata": {},
   "outputs": [
    {
     "name": "stdout",
     "output_type": "stream",
     "text": [
      "PyHEADTAIL v1.14.1\n",
      "\n",
      "\n",
      "--> Use the longitudinal_tracking module instead.\n",
      "\n"
     ]
    },
    {
     "name": "stderr",
     "output_type": "stream",
     "text": [
      "/home/natalia/anaconda3/envs/run_pyheadtail/lib/python3.7/site-packages/PyHEADTAIL/trackers/simple_long_tracking.py:10: DeprecationWarning: \n",
      "\n",
      "*** DEPRECATED: \"simple_long_tracking\" will be replaced in a future PyHEADTAIL release!\n",
      "  simple_long_tracking()\n"
     ]
    }
   ],
   "source": [
    "#==========================================================\n",
    "#                       Imports\n",
    "#==========================================================\n",
    "from __future__ import division\n",
    "\n",
    "import os, sys, time\n",
    "import h5py as hp\n",
    "import numpy as np\n",
    "import matplotlib.pyplot as plt\n",
    "import pickle\n",
    "import csv\n",
    "import NAFFlib as pnf\n",
    "\n",
    "# Added by Themis\n",
    "import scipy\n",
    "#sys.path.append('/Applications/anaconda/pkgs/')\n",
    "#sys.path.append('/nfsbigdata1/tmastorigrp/src/')\n",
    "\n",
    "from scipy.constants import m_p, c, e\n",
    "from mpl_toolkits.mplot3d import Axes3D\n",
    "from math import *\n",
    "\n",
    "from PyHEADTAIL.particles.slicing import UniformBinSlicer\n",
    "from PyHEADTAIL.particles.generators import generate_Gaussian6DTwiss \n",
    "from PyHEADTAIL.trackers.detuners import Chromaticity, AmplitudeDetuning\n",
    "from PyHEADTAIL.trackers.transverse_tracking import TransverseMap\n",
    "from PyHEADTAIL.trackers.simple_long_tracking import RFSystems, LinearMap\n",
    "from PyHEADTAIL.monitors.monitors import BunchMonitor, SliceMonitor, ParticleMonitor\n",
    "from PyHEADTAIL.feedback.transverse_damper import TransverseDamper\n",
    "from PyHEADTAIL.impedances.wakes import CircularResonator, WakeTable, WakeField\n",
    "\n",
    "%matplotlib inline"
   ]
  },
  {
   "cell_type": "markdown",
   "metadata": {},
   "source": [
    "### Plotting parameters"
   ]
  },
  {
   "cell_type": "code",
   "execution_count": 2,
   "metadata": {},
   "outputs": [],
   "source": [
    "params = {'legend.fontsize': 20,\n",
    "          'figure.figsize': (8, 7),\n",
    "          'axes.labelsize': 25,\n",
    "          'axes.titlesize': 21,\n",
    "          'xtick.labelsize': 23,\n",
    "          'ytick.labelsize': 23,\n",
    "          'image.cmap': 'jet',\n",
    "          'lines.linewidth': 1,\n",
    "          'lines.markersize': 5,\n",
    "          'font.family': 'sans-serif'}\n",
    "\n",
    "\n",
    "plt.rc('text', usetex=False)\n",
    "plt.rc('font', family='serif')\n",
    "plt.rcParams.update(params)"
   ]
  },
  {
   "cell_type": "code",
   "execution_count": 3,
   "metadata": {},
   "outputs": [],
   "source": [
    "plt.close('all')"
   ]
  },
  {
   "cell_type": "markdown",
   "metadata": {},
   "source": [
    "### Define the conditions of the study"
   ]
  },
  {
   "cell_type": "code",
   "execution_count": 4,
   "metadata": {},
   "outputs": [],
   "source": [
    "#==========================================================\n",
    "#               Variables We Change\n",
    "#==========================================================\n",
    "n_turns = int(1e3)            #number of cycles to run the simulation for\n",
    "decTurns = int(1)               #how often to record data\n",
    "\n",
    "Q_x = 26.13                 #How many times the particles oscillate in phase space each turn \n",
    "\n",
    "Q_y = 26.18                           # Will need it to be 16.25 IF CC feedback is used\n",
    "                            # For this version of PyHEADTAIL Q_x should be an array\n",
    "\n",
    "filename = 'file.txt'      #Where the data for the run is saved"
   ]
  },
  {
   "cell_type": "code",
   "execution_count": 5,
   "metadata": {},
   "outputs": [],
   "source": [
    "#==========================================================\n",
    "#           Variables We (Usually) Do Not Change\n",
    "#==========================================================\n",
    "\n",
    "gamma          = 287.8\n",
    "p0             = m_p*c*np.sqrt(gamma**2 - 1)\n",
    "beta           = np.sqrt(1 - 1/gamma**2)\n",
    "circumference  = 6911.5623\n",
    "frev           = 299792458/circumference\n",
    "\n",
    "# PARAMETERS FOR TRANSVERSE MAP\n",
    "# =====================\n",
    "n_segments     = 1\n",
    "s              = np.arange(0, n_segments + 1) * circumference / n_segments\n",
    "alpha_x        = -0.8757651182 * np.ones(n_segments) \n",
    "beta_x         = 29.23897404 * np.ones(n_segments) \n",
    "D_x            = 0 * np.ones(n_segments)\n",
    "alpha_y        = 1.898525134  * np.ones(n_segments) \n",
    "beta_y         = 76.07315729 * np.ones(n_segments) \n",
    "D_y            = 0 * np.ones(n_segments)\n",
    "\n",
    "Qp_x           = 0 #10\n",
    "Qp_y           = 0\n",
    "\n",
    "# PARAMETERS FOR LONGITUDINAL MAP\n",
    "# =======================\n",
    "alpha           = 1.9e-3\n",
    "Q_s             = 0.0035\n",
    "h1, h2          = 4620, 9240\n",
    "V1, V2          = 4.5e6, 0e6\n",
    "dphi1, dphi2    = 0, np.pi\n",
    "p_increment     = 0 * e/c * circumference/(beta*c)\n",
    "\n",
    "\n",
    "# CREATE BEAM\n",
    "# ===========\n",
    "macroparticlenumber = 900\n",
    "\n",
    "charge    = e\n",
    "mass      = m_p\n",
    "intensity = 1.5e11\n",
    "\n",
    "R         = circumference/(2*np.pi)\n",
    "eta       = alpha-1/gamma**2\n",
    "beta_z    = np.abs(eta)*R/Q_s\n",
    "\n",
    "epsn_x    = 2e-6\n",
    "epsn_y    = 2e-6\n",
    "    \n",
    "epsn_z    = 2.5\n",
    "sigma_z   = 0.155 #2*0.0755\n",
    "\n",
    "sigma_x   = np.sqrt(epsn_x/(beta*gamma) * beta_x[0])\n",
    "sigma_xp  = sigma_x/beta_x[0]\n",
    "sigma_y   = np.sqrt(epsn_y/(beta*gamma) * beta_y[0])\n",
    "sigma_yp  = sigma_y/beta_y[0]\n",
    "sigma_dp  = sigma_z/beta_z\n",
    "epsn_z    = 4*np.pi * p0/e * sigma_z*sigma_dp\n",
    "\n",
    "\n",
    "# Create bunch just to create the object. The redifine all the coordinates\n",
    "bunch     = generate_Gaussian6DTwiss(\n",
    "    macroparticlenumber, intensity, charge, mass, circumference, gamma,\n",
    "    alpha_x, alpha_y, beta_x, beta_y, beta_z, epsn_x, epsn_y, epsn_z)\n",
    "\n",
    "# Create the initial condition\n",
    "steps = int(np.sqrt(macroparticlenumber))\n",
    "J_min = 10**(-12)\n",
    "Jx_max = 10**(-7)\n",
    "Jy_max = 10**(-7)\n",
    "Jx = np.linspace(J_min, Jx_max, steps)\n",
    "Jy = np.linspace(J_min, Jy_max, steps)\n",
    "\n",
    "x = np.sqrt(Jx*beta_x[0]*2)\n",
    "y = np.sqrt(Jy*beta_y[0]*2)\n",
    "\n",
    "# meshgrid\n",
    "xx, yy = np.meshgrid(x, y)\n",
    "\n",
    "\n",
    "\n",
    "\n",
    "bunch.x = xx.flatten()\n",
    "bunch.y = yy.flatten()\n",
    "\n",
    "\n",
    "bunch.xp = 0 * np.ones(macroparticlenumber)\n",
    "bunch.yp = 0 * np.ones(macroparticlenumber)\n",
    "bunch.z = 0 * np.ones(macroparticlenumber)\n",
    "bunch.dp = 0 * np.ones(macroparticlenumber)\n",
    "\n",
    "\n",
    "afile = open('bunch', 'wb')\n",
    "pickle.dump(bunch, afile)\n",
    "afile.close()"
   ]
  },
  {
   "cell_type": "markdown",
   "metadata": {},
   "source": [
    "### Define the detuning coefficients\n",
    "\n",
    "- The detuning coefficients here are obtained from PTC in the direcotry /madx/.\n",
    "- However to be used here they need to be multiplied with the reference moemntum due to the definition of the detuner module in PyHEADTAIL source code (/trackers/detunes.py).\n",
    "\n",
    "\\begin{equation}\n",
    "dQ_x = \\frac{\\alpha_{xx} J_x + \\alpha_{xy}J_y}{p_0}\n",
    "\\end{equation}\n",
    "\n",
    "\\begin{equation}\n",
    "dQ_y = \\frac{\\alpha_{yy} J_y + \\alpha_{yx}J_x}{p_0}\n",
    "\\end{equation}\n",
    "\n",
    ", where $p_0$ the reference momentum.\n",
    "\n",
    "- The factor 2 is a result of the definition of the actions $J_x$ and $J_y$."
   ]
  },
  {
   "cell_type": "code",
   "execution_count": 6,
   "metadata": {},
   "outputs": [
    {
     "data": {
      "text/plain": [
       "1.4431339682235239e-16"
      ]
     },
     "execution_count": 6,
     "metadata": {},
     "output_type": "execute_result"
    }
   ],
   "source": [
    "bunch.p0"
   ]
  },
  {
   "cell_type": "code",
   "execution_count": 7,
   "metadata": {},
   "outputs": [],
   "source": [
    "scale_factor = 2*bunch.p0"
   ]
  },
  {
   "cell_type": "code",
   "execution_count": 8,
   "metadata": {},
   "outputs": [],
   "source": [
    "app_x = 179.3585107*scale_factor\n",
    "app_xy = -441.3397664*scale_factor\n",
    "app_y = -30.78659311*scale_factor"
   ]
  },
  {
   "cell_type": "markdown",
   "metadata": {},
   "source": [
    "### Plot the initial distribution"
   ]
  },
  {
   "cell_type": "code",
   "execution_count": 9,
   "metadata": {},
   "outputs": [
    {
     "data": {
      "image/png": "[encoded data removed]",
      "text/plain": [
       "<Figure size 576x504 with 1 Axes>"
      ]
     },
     "metadata": {
      "needs_background": "light"
     },
     "output_type": "display_data"
    }
   ],
   "source": [
    "plt.plot(bunch.x, bunch.y, '.')\n",
    "plt.xlabel('x [m]')\n",
    "plt.ylabel('y [m]')\n",
    "plt.title('{} particles'.format(macroparticlenumber))\n",
    "plt.tight_layout()\n",
    "savefig = False\n",
    "if savefig:\n",
    "    plt.plot('initial_distribution.png')"
   ]
  },
  {
   "cell_type": "markdown",
   "metadata": {},
   "source": [
    "### Create the maps"
   ]
  },
  {
   "cell_type": "code",
   "execution_count": 10,
   "metadata": {},
   "outputs": [],
   "source": [
    "### CREATE THE TRANSVERSE MAP\n",
    "transverse_map = TransverseMap(s, alpha_x, beta_x, D_x, alpha_y, beta_y, D_y, Q_x, Q_y,\n",
    "    [Chromaticity(Qp_x, Qp_y),\n",
    "    AmplitudeDetuning(app_x, app_y, app_xy)]) \n",
    "\n",
    "\n",
    "### CREATE THE LONGITUDINAL MAP\n",
    "longitudinal_map = LinearMap([alpha], circumference, Q_s)"
   ]
  },
  {
   "cell_type": "markdown",
   "metadata": {},
   "source": [
    "### Set up the accelerator map and start tracking"
   ]
  },
  {
   "cell_type": "code",
   "execution_count": 11,
   "metadata": {},
   "outputs": [
    {
     "name": "stderr",
     "output_type": "stream",
     "text": [
      "/home/natalia/anaconda3/envs/run_pyheadtail/lib/python3.7/site-packages/ipykernel_launcher.py:1: DeprecationWarning: time.clock has been deprecated in Python 3.3 and will be removed from Python 3.8: use time.perf_counter or time.process_time instead\n",
      "  \"\"\"Entry point for launching an IPython kernel.\n"
     ]
    },
    {
     "name": "stdout",
     "output_type": "stream",
     "text": [
      "--> Begin tracking...\n",
      "--> Done.\n",
      "Simulation time in seconds: 36.490353999999996\n"
     ]
    },
    {
     "name": "stderr",
     "output_type": "stream",
     "text": [
      "/home/natalia/anaconda3/envs/run_pyheadtail/lib/python3.7/site-packages/ipykernel_launcher.py:42: DeprecationWarning: time.clock has been deprecated in Python 3.3 and will be removed from Python 3.8: use time.perf_counter or time.process_time instead\n"
     ]
    }
   ],
   "source": [
    "t0 = time.clock()\n",
    "\n",
    "#reload object from file\n",
    "file2 = open('bunch', 'rb')\n",
    "bunch = pickle.load(file2)\n",
    "file2.close()\n",
    "\n",
    "print('--> Begin tracking...')\n",
    "one_turn_map = [transverse_map[0]] + [longitudinal_map]\n",
    "n_damped_turns = int(n_turns/decTurns) # The total number of turns at which the data are damped.\n",
    "                       # We want this number as an integer, so it can be used in the next functions. \n",
    "X = []\n",
    "Y = []\n",
    "XP = []\n",
    "YP = []\n",
    "sigma = []\n",
    "delta = []\n",
    "    \n",
    "for i in range(n_turns):\n",
    "    \n",
    "   #These next two lines actually \"run\" the simulation - the computationally heavy part\n",
    "    for m in one_turn_map:\n",
    "        m.track(bunch)\n",
    "            \n",
    "    X.append(bunch.x)\n",
    "    Y.append(bunch.y)\n",
    "    XP.append(bunch.xp)\n",
    "    YP.append(bunch.yp)\n",
    "    sigma.append(bunch.z)\n",
    "    delta.append(bunch.dp)\n",
    "\n",
    "        \n",
    "dataExport = [X, Y, XP, YP, sigma, delta]\n",
    "f = open(filename, 'w')\n",
    "\n",
    "with f:\n",
    "    out = csv.writer(f, delimiter=',')\n",
    "    out.writerows(zip(*dataExport))\n",
    "\n",
    "print('--> Done.')\n",
    "\n",
    "print(\"Simulation time in seconds: \" + str(time.clock() - t0))"
   ]
  },
  {
   "cell_type": "markdown",
   "metadata": {},
   "source": [
    "### Organise you data\n",
    "- The tbt data obtained from the simulation are grouped with respect to turns.\n",
    "- We need to group them in a list for each particle."
   ]
  },
  {
   "cell_type": "code",
   "execution_count": 12,
   "metadata": {},
   "outputs": [],
   "source": [
    "x_data = {}\n",
    "px_data = {}\n",
    "y_data = {}\n",
    "py_data = {}\n",
    "for particle in range(macroparticlenumber):\n",
    "    x_data[particle] = []\n",
    "    px_data[particle] = []\n",
    "    y_data[particle] = []\n",
    "    py_data[particle] = []"
   ]
  },
  {
   "cell_type": "code",
   "execution_count": 13,
   "metadata": {},
   "outputs": [],
   "source": [
    "# maybe even 100 turns are enough\n",
    "for particle in range(macroparticlenumber):\n",
    "    for turn in range(n_turns):\n",
    "        x_data[particle].append(X[turn][particle])\n",
    "        px_data[particle].append(XP[turn][particle])\n",
    "        y_data[particle].append(Y[turn][particle])\n",
    "        py_data[particle].append(YP[turn][particle])"
   ]
  },
  {
   "cell_type": "markdown",
   "metadata": {},
   "source": [
    "### Compute the tune\n",
    "- Identify wheather there are any lost particles.\n",
    "- If not compute the tune (from the tbt data using NAFF)"
   ]
  },
  {
   "cell_type": "code",
   "execution_count": 14,
   "metadata": {},
   "outputs": [],
   "source": [
    "x_lost_particles = []\n",
    "Qx_list = []\n",
    "y_lost_particles = []\n",
    "Qy_list = []\n",
    "\n",
    "for particle in range(macroparticlenumber):\n",
    "    if np.isnan(x_data[particle]).any() or np.isnan(px_data[particle]).any():\n",
    "        x_lost_particles.append(particle)\n",
    "        print('particle {} lost'.format(particle))\n",
    "    else:        \n",
    "        signal_x = x_data[particle]\n",
    "        Qx_list.append(pnf.get_tune(np.array(signal_x)))\n",
    "        \n",
    "    if np.isnan(y_data[particle]).any() or np.isnan(py_data[particle]).any():\n",
    "        y_lost_particles.append(particle)\n",
    "        print('particle {} lost'.format(particle))\n",
    "    else:        \n",
    "        signal_y = y_data[particle]\n",
    "        Qy_list.append(pnf.get_tune(np.array(signal_y)))"
   ]
  },
  {
   "cell_type": "code",
   "execution_count": 18,
   "metadata": {},
   "outputs": [
    {
     "data": {
      "image/png": "[encoded data removed]",
      "text/plain": [
       "<Figure size 576x504 with 1 Axes>"
      ]
     },
     "metadata": {
      "needs_background": "light"
     },
     "output_type": "display_data"
    }
   ],
   "source": [
    "plt.scatter(Qx_list, Qy_list, c='C1')\n",
    "plt.ylim(0.1797, 0.1797+0.0004)\n",
    "plt.xlim(0.128, 0.128+0.004)\n",
    "plt.grid()\n",
    "plt.xlabel('Qx')\n",
    "plt.ylabel('Qy')\n",
    "savefig = False\n",
    "if savefig:\n",
    "    plt.savefig('footprint_pyheadtail.png')"
   ]
  },
  {
   "cell_type": "markdown",
   "metadata": {},
   "source": [
    "###  Save the tunes in a pickle"
   ]
  },
  {
   "cell_type": "code",
   "execution_count": 19,
   "metadata": {},
   "outputs": [],
   "source": [
    "my_tunes = {'Qx':Qx_list, 'Qy':Qy_list}\n",
    "pickle.dump(my_tunes, open('tunes_pyheadtail.pkl', 'wb'))"
   ]
  },
  {
   "cell_type": "code",
   "execution_count": null,
   "metadata": {},
   "outputs": [],
   "source": []
  }
 ],
 "metadata": {
  "kernelspec": {
   "display_name": "Python 3",
   "language": "python",
   "name": "python3"
  },
  "language_info": {
   "codemirror_mode": {
    "name": "ipython",
    "version": 3
   },
   "file_extension": ".py",
   "mimetype": "text/x-python",
   "name": "python",
   "nbconvert_exporter": "python",
   "pygments_lexer": "ipython3",
   "version": "3.7.6"
  }
 },
 "nbformat": 4,
 "nbformat_minor": 4
}
