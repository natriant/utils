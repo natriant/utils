{
 "cells": [
  {
   "cell_type": "code",
   "execution_count": 40,
   "metadata": {},
   "outputs": [],
   "source": [
    "import pandas as pd\n",
    "import numpy as np\n",
    "from math import *"
   ]
  },
  {
   "cell_type": "code",
   "execution_count": 41,
   "metadata": {},
   "outputs": [],
   "source": [
    "vx = 26.130\n",
    "vy = 26.180"
   ]
  },
  {
   "cell_type": "code",
   "execution_count": 52,
   "metadata": {},
   "outputs": [],
   "source": [
    "# save in the list only the sextupole elements present in the lattice\n",
    "sextupoles_list = []\n",
    "\n",
    "with open(\"twiss.tfs\", \"r\") as f:\n",
    "    for x in f:\n",
    "        if 'LSD' in x:\n",
    "            sextupoles_list.append(x)\n",
    "        if 'LSF' in x:\n",
    "            sextupoles_list.append(x)"
   ]
  },
  {
   "cell_type": "code",
   "execution_count": 53,
   "metadata": {},
   "outputs": [
    {
     "data": {
      "text/plain": [
       "108"
      ]
     },
     "execution_count": 53,
     "metadata": {},
     "output_type": "execute_result"
    }
   ],
   "source": [
    "len(sextupoles_list)"
   ]
  },
  {
   "cell_type": "code",
   "execution_count": 54,
   "metadata": {},
   "outputs": [
    {
     "data": {
      "text/plain": [
       "' \"LSF.62005\"                    85.8223                  0                  0       0.3086877835         97.6474199       -2.197265476       0.3338217257         22.4289023        0.578579739       0.0452045844                  0      0.02811716198\\n'"
      ]
     },
     "execution_count": 54,
     "metadata": {},
     "output_type": "execute_result"
    }
   ],
   "source": [
    "# see an example of a line\n",
    "sextupoles_list[0]"
   ]
  },
  {
   "cell_type": "code",
   "execution_count": 55,
   "metadata": {},
   "outputs": [],
   "source": [
    "# create the data frame to save the data for the sextupoles in a more easy to be managed way\n",
    "df = pd.DataFrame(columns=['name', 's', 'x', 'y', 'mux', 'betx', 'alfx', 'muy', 'bety', 'alfy', 'dx', 'dy', 'k2l' ])"
   ]
  },
  {
   "cell_type": "code",
   "execution_count": 56,
   "metadata": {},
   "outputs": [],
   "source": [
    "for line in sextupoles_list:\n",
    "    line_new = line.split() # splitted string\n",
    "    df = df.append({'name':line_new[0], 's':float(line_new[1]), 'x':float(line_new[2]), 'y':float(line_new[3]), 'mux':float(line_new[4]), 'betx':float(line_new[5]), 'alfx':float(line_new[6]), 'muy':float(line_new[7]), 'bety':float(line_new[8]), 'alfy':float(line_new[9]), 'dx':float(line_new[10]), 'dy':float(line_new[11]), 'k2l':float(line_new[12])}, ignore_index=True)"
   ]
  },
  {
   "cell_type": "code",
   "execution_count": 57,
   "metadata": {},
   "outputs": [
    {
     "data": {
      "text/html": [
       "<div>\n",
       "<style scoped>\n",
       "    .dataframe tbody tr th:only-of-type {\n",
       "        vertical-align: middle;\n",
       "    }\n",
       "\n",
       "    .dataframe tbody tr th {\n",
       "        vertical-align: top;\n",
       "    }\n",
       "\n",
       "    .dataframe thead th {\n",
       "        text-align: right;\n",
       "    }\n",
       "</style>\n",
       "<table border=\"1\" class=\"dataframe\">\n",
       "  <thead>\n",
       "    <tr style=\"text-align: right;\">\n",
       "      <th></th>\n",
       "      <th>name</th>\n",
       "      <th>s</th>\n",
       "      <th>x</th>\n",
       "      <th>y</th>\n",
       "      <th>mux</th>\n",
       "      <th>betx</th>\n",
       "      <th>alfx</th>\n",
       "      <th>muy</th>\n",
       "      <th>bety</th>\n",
       "      <th>alfy</th>\n",
       "      <th>dx</th>\n",
       "      <th>dy</th>\n",
       "      <th>k2l</th>\n",
       "    </tr>\n",
       "  </thead>\n",
       "  <tbody>\n",
       "    <tr>\n",
       "      <th>0</th>\n",
       "      <td>\"LSF.62005\"</td>\n",
       "      <td>85.8223</td>\n",
       "      <td>0.0</td>\n",
       "      <td>0.0</td>\n",
       "      <td>0.308688</td>\n",
       "      <td>97.647420</td>\n",
       "      <td>-2.197265</td>\n",
       "      <td>0.333822</td>\n",
       "      <td>22.428902</td>\n",
       "      <td>0.578580</td>\n",
       "      <td>0.045205</td>\n",
       "      <td>0.0</td>\n",
       "      <td>0.028117</td>\n",
       "    </tr>\n",
       "    <tr>\n",
       "      <th>1</th>\n",
       "      <td>\"LSD.62305\"</td>\n",
       "      <td>181.8174</td>\n",
       "      <td>0.0</td>\n",
       "      <td>0.0</td>\n",
       "      <td>0.657132</td>\n",
       "      <td>22.462653</td>\n",
       "      <td>0.570163</td>\n",
       "      <td>0.712355</td>\n",
       "      <td>96.719197</td>\n",
       "      <td>-2.176888</td>\n",
       "      <td>2.297399</td>\n",
       "      <td>0.0</td>\n",
       "      <td>-0.063556</td>\n",
       "    </tr>\n",
       "    <tr>\n",
       "      <th>2</th>\n",
       "      <td>\"LSF.62405\"</td>\n",
       "      <td>213.8131</td>\n",
       "      <td>0.0</td>\n",
       "      <td>0.0</td>\n",
       "      <td>0.792555</td>\n",
       "      <td>97.655096</td>\n",
       "      <td>-2.199297</td>\n",
       "      <td>0.818344</td>\n",
       "      <td>22.419784</td>\n",
       "      <td>0.579199</td>\n",
       "      <td>4.484299</td>\n",
       "      <td>0.0</td>\n",
       "      <td>0.028117</td>\n",
       "    </tr>\n",
       "    <tr>\n",
       "      <th>3</th>\n",
       "      <td>\"LSD.62505\"</td>\n",
       "      <td>245.8108</td>\n",
       "      <td>0.0</td>\n",
       "      <td>0.0</td>\n",
       "      <td>0.897580</td>\n",
       "      <td>22.563851</td>\n",
       "      <td>0.590399</td>\n",
       "      <td>0.954884</td>\n",
       "      <td>96.625972</td>\n",
       "      <td>-2.177427</td>\n",
       "      <td>2.002143</td>\n",
       "      <td>0.0</td>\n",
       "      <td>-0.064126</td>\n",
       "    </tr>\n",
       "    <tr>\n",
       "      <th>4</th>\n",
       "      <td>\"LSF.62605\"</td>\n",
       "      <td>277.8085</td>\n",
       "      <td>0.0</td>\n",
       "      <td>0.0</td>\n",
       "      <td>1.034262</td>\n",
       "      <td>95.912300</td>\n",
       "      <td>-2.158148</td>\n",
       "      <td>1.060788</td>\n",
       "      <td>22.470992</td>\n",
       "      <td>0.579063</td>\n",
       "      <td>2.383380</td>\n",
       "      <td>0.0</td>\n",
       "      <td>0.053950</td>\n",
       "    </tr>\n",
       "    <tr>\n",
       "      <th>...</th>\n",
       "      <td>...</td>\n",
       "      <td>...</td>\n",
       "      <td>...</td>\n",
       "      <td>...</td>\n",
       "      <td>...</td>\n",
       "      <td>...</td>\n",
       "      <td>...</td>\n",
       "      <td>...</td>\n",
       "      <td>...</td>\n",
       "      <td>...</td>\n",
       "      <td>...</td>\n",
       "      <td>...</td>\n",
       "      <td>...</td>\n",
       "    </tr>\n",
       "    <tr>\n",
       "      <th>103</th>\n",
       "      <td>\"LSD.61105\"</td>\n",
       "      <td>6709.3468</td>\n",
       "      <td>0.0</td>\n",
       "      <td>0.0</td>\n",
       "      <td>25.334413</td>\n",
       "      <td>23.149994</td>\n",
       "      <td>0.591225</td>\n",
       "      <td>25.435706</td>\n",
       "      <td>96.288649</td>\n",
       "      <td>-2.168407</td>\n",
       "      <td>1.937450</td>\n",
       "      <td>0.0</td>\n",
       "      <td>-0.063556</td>\n",
       "    </tr>\n",
       "    <tr>\n",
       "      <th>104</th>\n",
       "      <td>\"LSF.61205\"</td>\n",
       "      <td>6741.3445</td>\n",
       "      <td>0.0</td>\n",
       "      <td>0.0</td>\n",
       "      <td>25.467787</td>\n",
       "      <td>96.972085</td>\n",
       "      <td>-2.154601</td>\n",
       "      <td>25.541967</td>\n",
       "      <td>22.421499</td>\n",
       "      <td>0.574727</td>\n",
       "      <td>4.572135</td>\n",
       "      <td>0.0</td>\n",
       "      <td>0.028117</td>\n",
       "    </tr>\n",
       "    <tr>\n",
       "      <th>105</th>\n",
       "      <td>\"LSD.61305\"</td>\n",
       "      <td>6773.3422</td>\n",
       "      <td>0.0</td>\n",
       "      <td>0.0</td>\n",
       "      <td>25.575148</td>\n",
       "      <td>21.891687</td>\n",
       "      <td>0.572875</td>\n",
       "      <td>25.678091</td>\n",
       "      <td>97.057814</td>\n",
       "      <td>-2.186440</td>\n",
       "      <td>2.352356</td>\n",
       "      <td>0.0</td>\n",
       "      <td>-0.064126</td>\n",
       "    </tr>\n",
       "    <tr>\n",
       "      <th>106</th>\n",
       "      <td>\"LSF.61405\"</td>\n",
       "      <td>6805.3399</td>\n",
       "      <td>0.0</td>\n",
       "      <td>0.0</td>\n",
       "      <td>25.714211</td>\n",
       "      <td>96.374499</td>\n",
       "      <td>-2.198478</td>\n",
       "      <td>25.783694</td>\n",
       "      <td>22.479359</td>\n",
       "      <td>0.583781</td>\n",
       "      <td>3.452106</td>\n",
       "      <td>0.0</td>\n",
       "      <td>0.053950</td>\n",
       "    </tr>\n",
       "    <tr>\n",
       "      <th>107</th>\n",
       "      <td>\"LSD.61505\"</td>\n",
       "      <td>6837.3396</td>\n",
       "      <td>0.0</td>\n",
       "      <td>0.0</td>\n",
       "      <td>25.818590</td>\n",
       "      <td>23.108437</td>\n",
       "      <td>0.584455</td>\n",
       "      <td>25.920287</td>\n",
       "      <td>96.354035</td>\n",
       "      <td>-2.169557</td>\n",
       "      <td>0.941905</td>\n",
       "      <td>0.0</td>\n",
       "      <td>-0.063556</td>\n",
       "    </tr>\n",
       "  </tbody>\n",
       "</table>\n",
       "<p>108 rows × 13 columns</p>\n",
       "</div>"
      ],
      "text/plain": [
       "            name          s    x    y        mux       betx      alfx  \\\n",
       "0    \"LSF.62005\"    85.8223  0.0  0.0   0.308688  97.647420 -2.197265   \n",
       "1    \"LSD.62305\"   181.8174  0.0  0.0   0.657132  22.462653  0.570163   \n",
       "2    \"LSF.62405\"   213.8131  0.0  0.0   0.792555  97.655096 -2.199297   \n",
       "3    \"LSD.62505\"   245.8108  0.0  0.0   0.897580  22.563851  0.590399   \n",
       "4    \"LSF.62605\"   277.8085  0.0  0.0   1.034262  95.912300 -2.158148   \n",
       "..           ...        ...  ...  ...        ...        ...       ...   \n",
       "103  \"LSD.61105\"  6709.3468  0.0  0.0  25.334413  23.149994  0.591225   \n",
       "104  \"LSF.61205\"  6741.3445  0.0  0.0  25.467787  96.972085 -2.154601   \n",
       "105  \"LSD.61305\"  6773.3422  0.0  0.0  25.575148  21.891687  0.572875   \n",
       "106  \"LSF.61405\"  6805.3399  0.0  0.0  25.714211  96.374499 -2.198478   \n",
       "107  \"LSD.61505\"  6837.3396  0.0  0.0  25.818590  23.108437  0.584455   \n",
       "\n",
       "           muy       bety      alfy        dx   dy       k2l  \n",
       "0     0.333822  22.428902  0.578580  0.045205  0.0  0.028117  \n",
       "1     0.712355  96.719197 -2.176888  2.297399  0.0 -0.063556  \n",
       "2     0.818344  22.419784  0.579199  4.484299  0.0  0.028117  \n",
       "3     0.954884  96.625972 -2.177427  2.002143  0.0 -0.064126  \n",
       "4     1.060788  22.470992  0.579063  2.383380  0.0  0.053950  \n",
       "..         ...        ...       ...       ...  ...       ...  \n",
       "103  25.435706  96.288649 -2.168407  1.937450  0.0 -0.063556  \n",
       "104  25.541967  22.421499  0.574727  4.572135  0.0  0.028117  \n",
       "105  25.678091  97.057814 -2.186440  2.352356  0.0 -0.064126  \n",
       "106  25.783694  22.479359  0.583781  3.452106  0.0  0.053950  \n",
       "107  25.920287  96.354035 -2.169557  0.941905  0.0 -0.063556  \n",
       "\n",
       "[108 rows x 13 columns]"
      ]
     },
     "execution_count": 57,
     "metadata": {},
     "output_type": "execute_result"
    }
   ],
   "source": [
    "df"
   ]
  },
  {
   "cell_type": "code",
   "execution_count": 58,
   "metadata": {},
   "outputs": [],
   "source": [
    "# iterate over all the elements and do the calculations"
   ]
  },
  {
   "cell_type": "code",
   "execution_count": 59,
   "metadata": {},
   "outputs": [
    {
     "name": "stdout",
     "output_type": "stream",
     "text": [
      "axx =179.24296670460598 1/m\n"
     ]
    }
   ],
   "source": [
    "n = len(df['name'])\n",
    "my_sum = 0\n",
    "\n",
    "\n",
    "for i in range(0, n):\n",
    "    for j in range(0, n):\n",
    "        SiSj =  df['k2l'][i]*df['k2l'][j]\n",
    "        beta_x_ij = (df['betx'][i]**(3/2.))*(df['betx'][j]**(3/2.)) \n",
    "        frac1 = (cos(3*(pi*vx-abs(2*pi*(df['mux'][i]-df['mux'][j])))))/(sin(3*pi*vx))\n",
    "        frac2 = 3*(cos(pi*vx-abs(2*pi*(df['mux'][i]-df['mux'][j]))))/(sin(pi*vx))\n",
    "\n",
    "        my_sum+= SiSj*beta_x_ij*(frac1+frac2)\n",
    "\n",
    "axx = my_sum/(-128*pi)\n",
    "print('axx ={} 1/m'.format(axx))"
   ]
  },
  {
   "cell_type": "code",
   "execution_count": 60,
   "metadata": {},
   "outputs": [
    {
     "name": "stdout",
     "output_type": "stream",
     "text": [
      "axy =-441.41677107046513 1/m\n"
     ]
    }
   ],
   "source": [
    "n = len(df['name'])\n",
    "my_sum_a = 0\n",
    "my_sum_b = 0\n",
    "\n",
    "\n",
    "for i in range(0, n):\n",
    "    for j in range(0, n):\n",
    "        SiSj_a =  df['k2l'][i]*df['k2l'][j]\n",
    "        beta_x_ij_a = (df['betx'][i]**(1/2.))*(df['betx'][j]**(1/2.))*df['bety'][i]*df['bety'][j]\n",
    "        frac1_a = (cos(2*(pi*vy-abs(2*pi*(df['muy'][i]-df['muy'][j])))+pi*vx-abs(2*pi*(df['mux'][i]-df['mux'][j]))))/(sin(pi*(2*vy+vx)))\n",
    "        frac2_a = (cos(2*(pi*vy-abs(2*pi*(df['muy'][i]-df['muy'][j])))-(pi*vx-abs(2*pi*(df['mux'][i]-df['mux'][j])))))/(sin(pi*(2*vy-vx)))\n",
    "        \n",
    "        SiSj_b =  df['k2l'][i]*df['k2l'][j]\n",
    "        beta_x_ij_b = (df['betx'][i]**(3/2.))*(df['betx'][j]**(1/2.))*df['bety'][j]\n",
    "        frac1_b = (cos(pi*vx-abs(2*pi*(df['mux'][i]-df['mux'][j]))))/(sin(pi*vx))\n",
    "        \n",
    "        my_sum_a+= SiSj_a*beta_x_ij_a*(frac1_a + frac2_a)\n",
    "        my_sum_b += SiSj_b*beta_x_ij_b*frac1_b\n",
    "\n",
    "axy = (my_sum_a-2*my_sum_b)/(-64*pi)\n",
    "print('axy ={} 1/m'.format(axy))"
   ]
  },
  {
   "cell_type": "code",
   "execution_count": 61,
   "metadata": {},
   "outputs": [
    {
     "name": "stdout",
     "output_type": "stream",
     "text": [
      "ayy =-30.90209376580257 1/m\n"
     ]
    }
   ],
   "source": [
    "n = len(df['name'])\n",
    "my_sum = 0\n",
    "\n",
    "\n",
    "for i in range(0, n):\n",
    "    for j in range(0, n):\n",
    "        SiSj =  df['k2l'][i]*df['k2l'][j]\n",
    "        beta_x_ij = (df['betx'][i]**(1/2.))*(df['betx'][j]**(1/2.))*df['bety'][i]*df['bety'][j]\n",
    "        \n",
    "        frac1 = (cos(2*(pi*vy-abs(2*pi*(df['muy'][i]-df['muy'][j])))+pi*vx-abs(2*pi*(df['mux'][i]-df['mux'][j])))) / (sin(pi*(2*vy+vx)))\n",
    "        frac2 = (cos(2*(pi*vy-abs(2*pi*(df['muy'][i]-df['muy'][j])))-(pi*vx-abs(2*pi*(df['mux'][i]-df['mux'][j]))))) / (sin(pi*(2*vy-vx)))\n",
    "        frac3 = (4*cos(pi*vx-abs(2*pi*(df['mux'][i]-df['mux'][j]))))/(sin(pi*vx))\n",
    "        \n",
    "        my_sum+= SiSj*beta_x_ij*(frac1 - frac2 + frac3)\n",
    "\n",
    "ayy = my_sum/(-128*pi)\n",
    "print('ayy ={} 1/m'.format(ayy))     "
   ]
  },
  {
   "cell_type": "code",
   "execution_count": null,
   "metadata": {},
   "outputs": [],
   "source": []
  },
  {
   "cell_type": "code",
   "execution_count": null,
   "metadata": {},
   "outputs": [],
   "source": []
  }
 ],
 "metadata": {
  "kernelspec": {
   "display_name": "Python 3",
   "language": "python",
   "name": "python3"
  },
  "language_info": {
   "codemirror_mode": {
    "name": "ipython",
    "version": 3
   },
   "file_extension": ".py",
   "mimetype": "text/x-python",
   "name": "python",
   "nbconvert_exporter": "python",
   "pygments_lexer": "ipython3",
   "version": "3.7.3"
  }
 },
 "nbformat": 4,
 "nbformat_minor": 4
}
