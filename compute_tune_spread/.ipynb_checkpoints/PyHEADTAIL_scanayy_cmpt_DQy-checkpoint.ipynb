{
 "cells": [
  {
   "cell_type": "markdown",
   "metadata": {},
   "source": [
    "### Calcualte the detuning coefficients for a given amplitude detuning\n",
    "- PyHEADTAIL v1.13.5 (Python3).\n",
    "- The tune is calculated using **NAFF** (NAFFlib).\n",
    "- Tracking 900 particles for 1000 turns is enough to determine the tune.\n",
    "- The initial distribution is a grid in x-y up to 6 σx,y.\n",
    "- The tune spread is linear. Therefore is the difference of the tune of the particle with the maximum action from the one with the minimum."
   ]
  },
  {
   "cell_type": "code",
   "execution_count": 1,
   "metadata": {},
   "outputs": [
    {
     "name": "stdout",
     "output_type": "stream",
     "text": [
      "PyHEADTAIL v1.13.5\n",
      "\n",
      "\n",
      "--> Use the longitudinal_tracking module instead.\n",
      "\n"
     ]
    },
    {
     "name": "stderr",
     "output_type": "stream",
     "text": [
      "/home/natalia/anaconda3/envs/run_pyheadtail/lib/python3.7/site-packages/PyHEADTAIL/trackers/simple_long_tracking.py:10: DeprecationWarning: \n",
      "\n",
      "*** DEPRECATED: \"simple_long_tracking\" will be replaced in a future PyHEADTAIL release!\n",
      "  simple_long_tracking()\n"
     ]
    }
   ],
   "source": [
    "#==========================================================\n",
    "#                       Imports\n",
    "#==========================================================\n",
    "from __future__ import division\n",
    "\n",
    "import os, sys, time\n",
    "import h5py as hp\n",
    "import numpy as np\n",
    "import matplotlib.pyplot as plt\n",
    "import pickle\n",
    "import csv\n",
    "import NAFFlib as pnf\n",
    "\n",
    "# Added by Themis\n",
    "import scipy\n",
    "\n",
    "from scipy.constants import m_p, c, e\n",
    "from mpl_toolkits.mplot3d import Axes3D\n",
    "from math import *\n",
    "\n",
    "from PyHEADTAIL.particles.slicing import UniformBinSlicer\n",
    "from PyHEADTAIL.particles.generators import generate_Gaussian6DTwiss \n",
    "from PyHEADTAIL.trackers.detuners import Chromaticity, AmplitudeDetuning\n",
    "from PyHEADTAIL.trackers.transverse_tracking import TransverseMap\n",
    "from PyHEADTAIL.trackers.simple_long_tracking import RFSystems, LinearMap\n",
    "from PyHEADTAIL.monitors.monitors import BunchMonitor, SliceMonitor, ParticleMonitor\n",
    "from PyHEADTAIL.feedback.transverse_damper import TransverseDamper\n",
    "from PyHEADTAIL.impedances.wakes import CircularResonator, WakeTable, WakeField\n",
    "\n",
    "%matplotlib inline"
   ]
  },
  {
   "cell_type": "markdown",
   "metadata": {},
   "source": [
    "### Plotting parameters"
   ]
  },
  {
   "cell_type": "code",
   "execution_count": 2,
   "metadata": {},
   "outputs": [],
   "source": [
    "params = {'legend.fontsize': 20,\n",
    "          'figure.figsize': (8, 7),\n",
    "          'axes.labelsize': 25,\n",
    "          'axes.titlesize': 21,\n",
    "          'xtick.labelsize': 23,\n",
    "          'ytick.labelsize': 23,\n",
    "          'image.cmap': 'jet',\n",
    "          'lines.linewidth': 1,\n",
    "          'lines.markersize': 5,\n",
    "          'font.family': 'sans-serif'}\n",
    "\n",
    "\n",
    "plt.rc('text', usetex=False)\n",
    "plt.rc('font', family='serif')\n",
    "plt.rcParams.update(params)"
   ]
  },
  {
   "cell_type": "code",
   "execution_count": 3,
   "metadata": {},
   "outputs": [],
   "source": [
    "plt.close('all')"
   ]
  },
  {
   "cell_type": "markdown",
   "metadata": {},
   "source": [
    "### Define the conditions of the study"
   ]
  },
  {
   "cell_type": "code",
   "execution_count": 4,
   "metadata": {},
   "outputs": [],
   "source": [
    "#==========================================================\n",
    "#               Variables We Change\n",
    "#==========================================================\n",
    "n_turns = int(1e3)            #number of cycles to run the simulation for\n",
    "decTurns = int(1)               #how often to record data\n",
    "\n",
    "Q_x = 26.13                 #How many times the particles oscillate in phase space each turn \n",
    "\n",
    "Q_y = 26.18                           # Will need it to be 16.25 IF CC feedback is used\n",
    "                            # For this version of PyHEADTAIL Q_x should be an array\n",
    "\n",
    "filename = './input/file.txt'      #Where the data for the run is saved"
   ]
  },
  {
   "cell_type": "code",
   "execution_count": 29,
   "metadata": {},
   "outputs": [],
   "source": [
    "#==========================================================\n",
    "#           Variables We (Usually) Do Not Change\n",
    "#==========================================================\n",
    "\n",
    "gamma          = 287.8\n",
    "p0             = m_p*c*np.sqrt(gamma**2 - 1)\n",
    "beta           = np.sqrt(1 - 1/gamma**2)\n",
    "circumference  = 6911.5623\n",
    "frev           = 299792458/circumference\n",
    "\n",
    "# PARAMETERS FOR TRANSVERSE MAP\n",
    "# =====================\n",
    "n_segments     = 1\n",
    "s              = np.arange(0, n_segments + 1) * circumference / n_segments\n",
    "alpha_x        = -0.8757651182 * np.ones(n_segments) \n",
    "beta_x         = 29.23897404 * np.ones(n_segments) \n",
    "D_x            = 0 * np.ones(n_segments)\n",
    "alpha_y        = 1.898525134 * np.ones(n_segments) \n",
    "beta_y         = 76.07315729 * np.ones(n_segments)\n",
    "D_y            = 0 * np.ones(n_segments)\n",
    "\n",
    "Qp_x           = 0 #10\n",
    "Qp_y           = 0\n",
    "\n",
    "# PARAMETERS FOR LONGITUDINAL MAP\n",
    "# =======================\n",
    "alpha           = 1.9e-3\n",
    "Q_s             = 0.0035\n",
    "h1, h2          = 4620, 9240\n",
    "V1, V2          = 4.5e6, 0e6\n",
    "dphi1, dphi2    = 0, np.pi\n",
    "p_increment     = 0 * e/c * circumference/(beta*c)\n",
    "\n",
    "\n",
    "# CREATE BEAM\n",
    "# ===========\n",
    "macroparticlenumber = 900\n",
    "\n",
    "charge    = e\n",
    "mass      = m_p\n",
    "intensity = 1.5e11\n",
    "\n",
    "R         = circumference/(2*np.pi)\n",
    "eta       = alpha-1/gamma**2\n",
    "beta_z    = np.abs(eta)*R/Q_s\n",
    "\n",
    "epsn_x    = 2e-6\n",
    "epsn_y    = 2e-6\n",
    "\n",
    "sigma_z   = 0.155 #2*0.0755\n",
    "\n",
    "sigma_x   = np.sqrt(epsn_x/(beta*gamma) * beta_x[0])\n",
    "sigma_xp  = sigma_x/beta_x[0]\n",
    "sigma_y   = np.sqrt(epsn_y/(beta*gamma) * beta_y[0])\n",
    "sigma_yp  = sigma_y/beta_y[0]\n",
    "sigma_dp  = sigma_z/beta_z\n",
    "epsn_z    = 4*np.pi * p0/e * sigma_z*sigma_dp\n",
    "\n",
    "\n",
    "# Create bunch just to create the object. The redifine all the coordinates\n",
    "bunch     = generate_Gaussian6DTwiss(\n",
    "    macroparticlenumber, intensity, charge, mass, circumference, gamma,\n",
    "    alpha_x, alpha_y, beta_x, beta_y, beta_z, epsn_x, epsn_y, epsn_z)"
   ]
  },
  {
   "cell_type": "markdown",
   "metadata": {},
   "source": [
    "#### Create the initial conditions in σ (up to 3 σ)\n",
    "\n",
    "For the horizontal beam size $\\sigma_x$:\n",
    "\n",
    "\\begin{equation}\n",
    "\\sigma_x = \\sqrt{\\epsilon_{x_{geom}}  \\beta_x(s)}\n",
    "\\end{equation}\n",
    "\n",
    ", where $\\beta_x(s)$ the beta function at the location s of the lattice. Here we study at the location of the CC in SPS (are the values that are used here for the one turn map).\n",
    "\n",
    "\\begin{equation}\n",
    "\\epsilon_{x_{norm}} = \\epsilon_{x_{geom}}  \\beta_0 \\gamma_0\n",
    "\\end{equation}\n",
    "\n",
    ", where $ \\beta_0 \\gamma_0 $ the relativistic parameters of the reference particle.\n",
    "\n",
    "The same appleis for the vertical plane y."
   ]
  },
  {
   "cell_type": "code",
   "execution_count": 26,
   "metadata": {},
   "outputs": [
    {
     "name": "stdout",
     "output_type": "stream",
     "text": [
      "6.9493122765769245e-09 1.3898624553153849e-08\n"
     ]
    }
   ],
   "source": [
    "# Compute the geometric emittances\n",
    "ex_geom = epsn_x/(beta*gamma)  \n",
    "ey_geom = epsn_y/(beta*gamma)  \n",
    "print(ex_geom, ey_geom)"
   ]
  },
  {
   "cell_type": "code",
   "execution_count": 27,
   "metadata": {},
   "outputs": [
    {
     "name": "stdout",
     "output_type": "stream",
     "text": [
      "0.000450766859086475 0.0010003504225155689\n"
     ]
    }
   ],
   "source": [
    "# Compute the sigmas\n",
    "sigma_x = np.sqrt(ex_geom*beta_x[0])\n",
    "sigma_y = np.sqrt(ey_geom*beta_y[0])\n",
    "print(sigma_x, sigma_y)"
   ]
  },
  {
   "cell_type": "markdown",
   "metadata": {},
   "source": [
    "#### Create the initial condition\n",
    "\n",
    "As the detuning from octupoles is linear with action we need to create a distribution which is linearly and evenly spaced in action.  \n",
    "\n",
    "\\begin{equation}\n",
    "x = \\sqrt{2 \\beta_x(s) J_x}\n",
    "\\end{equation}\n",
    "\n",
    "or\n",
    "\n",
    "\\begin{equation}\n",
    "J_x = \\frac{x^2 }{\\beta_x(s)}\n",
    "\\end{equation}\n",
    ", where $\\beta_x(s)$ the beta function at the location s of the lattice.\n",
    "\n",
    "Same applies for the vertical plane."
   ]
  },
  {
   "cell_type": "code",
   "execution_count": 28,
   "metadata": {},
   "outputs": [
    {
     "name": "stdout",
     "output_type": "stream",
     "text": [
      "Jx min = 1e-13, Jx max=3.1271905244596165e-08\n",
      "Jy min = 1e-13, Jy max=6.9493122765769245e-09\n"
     ]
    }
   ],
   "source": [
    "steps = int(np.sqrt(macroparticlenumber))\n",
    "\n",
    "# Define the upper limit of the distibution\n",
    "xmax, ymax = 3*sigma_x, 3*sigma_y\n",
    "\n",
    "# Change to action phase variables just to create the linspace\n",
    "Jxmin, Jymin = 10**(-13), 10**(-13) # for zero you cannot calculate the tune\n",
    "Jxmax, Jymax = xmax**2/(beta_x[0]), ymax**2/(beta_y[0])\n",
    "\n",
    "print('Jx min = {}, Jx max={}'.format(Jxmin, Jxmax))\n",
    "print('Jy min = {}, Jy max={}'.format(Jymin, Jymax))\n",
    "\n",
    "Jx = np.linspace(10**(-13), Jxmax, steps)\n",
    "Jy = np.linspace(10**(-13), Jymax, steps)\n",
    "\n",
    "# Return to x-y\n",
    "x = np.sqrt(Jx*2*beta_x[0])\n",
    "y = np.sqrt(Jy*2*beta_y[0])\n",
    "\n",
    "# meshgrid\n",
    "xx, yy = np.meshgrid(x, y)\n",
    "\n",
    "bunch.x = xx.flatten()\n",
    "bunch.y = yy.flatten()\n",
    "\n",
    "#bunch.x =  0 * np.ones(macroparticlenumber)\n",
    "bunch.xp = 0 * np.ones(macroparticlenumber)\n",
    "bunch.yp = 0 * np.ones(macroparticlenumber)\n",
    "bunch.z = 0 * np.ones(macroparticlenumber)\n",
    "bunch.dp = 0 * np.ones(macroparticlenumber)\n",
    "\n",
    "\n",
    "afile = open('./input/bunch', 'wb')\n",
    "pickle.dump(bunch, afile)\n",
    "afile.close()"
   ]
  },
  {
   "cell_type": "markdown",
   "metadata": {},
   "source": [
    "#### Keep the index of the maximum and minimum action \n",
    "The detuning should be linear with action. Therefore the tune spread will be computed as the difference in the tune of the particle with maximum and minimum actions."
   ]
  },
  {
   "cell_type": "code",
   "execution_count": 9,
   "metadata": {},
   "outputs": [
    {
     "name": "stdout",
     "output_type": "stream",
     "text": [
      "indedx 2Jmax = 870, index 2Jmin = 0\n"
     ]
    }
   ],
   "source": [
    "y_norm = bunch.y/sqrt(beta_y) # the index 0 corresponds to turn\n",
    "py_norm = bunch.yp*sqrt(beta_x) + bunch.y*alpha_x/sqrt(beta_x)\n",
    "Jy2_list_initial = (y_norm**2 + py_norm**2) # actually this quantity is 2*Jy\n",
    "\n",
    "J_max = np.amax(Jy2_list_initial)\n",
    "J_min = np.amin(Jy2_list_initial)\n",
    "# Find the indeces of the maximum and minimum action\n",
    "index_Jmax = np.where(Jy2_list_initial == np.amax(J_max))[0][0]\n",
    "index_Jmin = np.where(Jy2_list_initial == np.amin(J_min))[0][0]\n",
    "print('indedx 2Jmax = {}, index 2Jmin = {}'.format(index_Jmax, index_Jmin))"
   ]
  },
  {
   "cell_type": "markdown",
   "metadata": {},
   "source": [
    "### Plot the initial distribution"
   ]
  },
  {
   "cell_type": "code",
   "execution_count": 10,
   "metadata": {},
   "outputs": [
    {
     "data": {
      "image/png": "[encoded data removed]",
      "text/plain": [
       "<Figure size 576x504 with 1 Axes>"
      ]
     },
     "metadata": {
      "needs_background": "light"
     },
     "output_type": "display_data"
    }
   ],
   "source": [
    "plt.plot(bunch.x, bunch.y, '.')\n",
    "plt.xlabel('x [m]')\n",
    "plt.ylabel('y [m]')\n",
    "plt.title('{} particles'.format(macroparticlenumber))\n",
    "plt.ticklabel_format(axis=\"x\", style=\"sci\",  scilimits=(0,0))\n",
    "plt.ticklabel_format(axis=\"y\", style=\"sci\",  scilimits=(0,0))\n",
    "plt.tight_layout()\n",
    "savefig = False\n",
    "if savefig:\n",
    "    plt.savefig('initial_distribution_pyheadtail_6sigma_xy.png')"
   ]
  },
  {
   "cell_type": "markdown",
   "metadata": {},
   "source": [
    "### Define the detuning coefficients\n",
    "\n",
    "- The detuning coefficients here are obtained from PTC in the direcotry /madx/.\n",
    "- However to be used here they need to be multiplied with the reference moemntum due to the definition of the detuner module in PyHEADTAIL source code (/trackers/detunes.py).\n",
    "\n",
    "\\begin{equation}\n",
    "dQ_x = \\frac{\\alpha_{xx} J_x + \\alpha_{xy}J_y}{p_0}\n",
    "\\end{equation}\n",
    "\n",
    "\\begin{equation}\n",
    "dQ_y = \\frac{\\alpha_{yy} J_y + \\alpha_{yx}J_x}{p_0}\n",
    "\\end{equation}\n",
    "\n",
    ", where $p_0$ the reference momentum.\n",
    "\n",
    "- The factor 2 is a result of the definition of the actions $J_x$ and $J_y$."
   ]
  },
  {
   "cell_type": "code",
   "execution_count": 11,
   "metadata": {},
   "outputs": [
    {
     "data": {
      "text/plain": [
       "1.4431339903887914e-16"
      ]
     },
     "execution_count": 11,
     "metadata": {},
     "output_type": "execute_result"
    }
   ],
   "source": [
    "bunch.p0"
   ]
  },
  {
   "cell_type": "code",
   "execution_count": 12,
   "metadata": {},
   "outputs": [],
   "source": [
    "scale_factor = 2*bunch.p0 \n",
    "# ATTENTION when using this scaling factor for PyHEADTAIL. The factor 2 maybe is not required. "
   ]
  },
  {
   "cell_type": "code",
   "execution_count": 13,
   "metadata": {},
   "outputs": [],
   "source": [
    "app_x = 179.3585107*scale_factor \n",
    "app_xy = 0.0 #-441.3397664*scale_factor \n",
    "# define the lis of app_y values you are gonna scan. defined directly in pyheadtail units\n",
    "a = np.linspace(-1e-17, -1e-11, 20)\n",
    "b = np.linspace(-1e-12, 0, 10)\n",
    "c = np.concatenate((a,b), axis=0)\n",
    "app_y_list = np.sort(c)[::-1]"
   ]
  },
  {
   "cell_type": "markdown",
   "metadata": {},
   "source": [
    "### Create loop over the app_y_values"
   ]
  },
  {
   "cell_type": "code",
   "execution_count": 14,
   "metadata": {},
   "outputs": [
    {
     "name": "stderr",
     "output_type": "stream",
     "text": [
      "/home/natalia/anaconda3/envs/run_pyheadtail/lib/python3.7/site-packages/ipykernel_launcher.py:13: DeprecationWarning: time.clock has been deprecated in Python 3.3 and will be removed from Python 3.8: use time.perf_counter or time.process_time instead\n",
      "  del sys.path[0]\n"
     ]
    },
    {
     "name": "stdout",
     "output_type": "stream",
     "text": [
      "--> Begin tracking...\n",
      "--> Done.\n",
      "Simulation time in seconds: 35.735174\n"
     ]
    },
    {
     "name": "stderr",
     "output_type": "stream",
     "text": [
      "/home/natalia/anaconda3/envs/run_pyheadtail/lib/python3.7/site-packages/ipykernel_launcher.py:55: DeprecationWarning: time.clock has been deprecated in Python 3.3 and will be removed from Python 3.8: use time.perf_counter or time.process_time instead\n"
     ]
    },
    {
     "name": "stdout",
     "output_type": "stream",
     "text": [
      "for ayy=0.0, DQy=-4.163336342344337e-16\n",
      "--> Begin tracking...\n",
      "--> Done.\n",
      "Simulation time in seconds: 39.80026300000001\n",
      "for ayy=-1e-17, DQy=-2.1669278316149843e-09\n",
      "--> Begin tracking...\n",
      "--> Done.\n",
      "Simulation time in seconds: 41.559239000000005\n",
      "for ayy=-1.111111111111111e-13, DQy=-2.4076061857586373e-05\n",
      "--> Begin tracking...\n",
      "--> Done.\n",
      "Simulation time in seconds: 37.75732600000002\n",
      "for ayy=-2.222222222222222e-13, DQy=-4.81550989135382e-05\n",
      "--> Begin tracking...\n",
      "--> Done.\n",
      "Simulation time in seconds: 39.03810800000002\n",
      "for ayy=-3.333333333333333e-13, DQy=-7.223090080632488e-05\n",
      "--> Begin tracking...\n",
      "--> Done.\n",
      "Simulation time in seconds: 37.85914199999999\n",
      "for ayy=-4.444444444444444e-13, DQy=-9.631091209433285e-05\n",
      "--> Begin tracking...\n",
      "--> Done.\n",
      "Simulation time in seconds: 38.91441200000003\n",
      "for ayy=-5.263252631578948e-13, DQy=-0.00011405110908124794\n",
      "--> Begin tracking...\n",
      "--> Done.\n",
      "Simulation time in seconds: 38.71072800000002\n",
      "for ayy=-5.555555555555556e-13, DQy=-0.00012038511443232536\n",
      "--> Begin tracking...\n",
      "--> Done.\n",
      "Simulation time in seconds: 41.89511599999997\n",
      "for ayy=-6.666666666666666e-13, DQy=-0.00014446215115748728\n",
      "--> Begin tracking...\n",
      "--> Done.\n",
      "Simulation time in seconds: 40.31037199999997\n",
      "for ayy=-7.777777777777778e-13, DQy=-0.00016853921843407171\n",
      "--> Begin tracking...\n",
      "--> Done.\n",
      "Simulation time in seconds: 39.02802700000001\n",
      "for ayy=-8.888888888888889e-13, DQy=-0.00019261631854514127\n",
      "--> Begin tracking...\n",
      "--> Done.\n",
      "Simulation time in seconds: 39.55945800000001\n",
      "for ayy=-1e-12, DQy=-0.00021669344528615908\n",
      "--> Begin tracking...\n",
      "--> Done.\n",
      "Simulation time in seconds: 37.42921800000005\n",
      "for ayy=-1.0526405263157894e-12, DQy=-0.00022810034439438298\n",
      "--> Begin tracking...\n",
      "--> Done.\n",
      "Simulation time in seconds: 36.97066899999993\n",
      "for ayy=-1.5789557894736842e-12, DQy=-0.00034214969865259404\n",
      "--> Begin tracking...\n",
      "--> Done.\n",
      "Simulation time in seconds: 35.21641699999998\n",
      "for ayy=-2.105271052631579e-12, DQy=-0.0004561975546623631\n",
      "--> Begin tracking...\n",
      "--> Done.\n",
      "Simulation time in seconds: 36.721723\n",
      "for ayy=-2.631586315789474e-12, DQy=-0.0005702483440566675\n",
      "--> Begin tracking...\n",
      "--> Done.\n",
      "Simulation time in seconds: 37.54985599999998\n",
      "for ayy=-3.1579015789473687e-12, DQy=-0.0006842951662496544\n",
      "--> Begin tracking...\n",
      "--> Done.\n",
      "Simulation time in seconds: 37.71299399999998\n",
      "for ayy=-3.684216842105263e-12, DQy=-0.0007983465895644581\n",
      "--> Begin tracking...\n",
      "--> Done.\n",
      "Simulation time in seconds: 36.88104200000009\n",
      "for ayy=-4.210532105263158e-12, DQy=-0.0009123957202661348\n",
      "--> Begin tracking...\n",
      "--> Done.\n",
      "Simulation time in seconds: 36.036138999999935\n",
      "for ayy=-4.736847368421053e-12, DQy=-0.00102644574317734\n",
      "--> Begin tracking...\n",
      "--> Done.\n",
      "Simulation time in seconds: 35.87580700000001\n",
      "for ayy=-5.263162631578948e-12, DQy=-0.0011404938842139722\n",
      "--> Begin tracking...\n",
      "--> Done.\n",
      "Simulation time in seconds: 35.97765499999991\n",
      "for ayy=-5.789477894736842e-12, DQy=-0.001254543296121291\n",
      "--> Begin tracking...\n",
      "--> Done.\n",
      "Simulation time in seconds: 37.09565299999997\n",
      "for ayy=-6.315793157894737e-12, DQy=-0.001368593274880231\n",
      "--> Begin tracking...\n",
      "--> Done.\n",
      "Simulation time in seconds: 40.53781300000003\n",
      "for ayy=-6.8421084210526324e-12, DQy=-0.0014826430206123231\n",
      "--> Begin tracking...\n",
      "--> Done.\n",
      "Simulation time in seconds: 38.326194999999984\n",
      "for ayy=-7.368423684210525e-12, DQy=-0.0015966896980076917\n",
      "--> Begin tracking...\n",
      "--> Done.\n",
      "Simulation time in seconds: 37.49962999999991\n",
      "for ayy=-7.89473894736842e-12, DQy=-0.0017107401358968932\n",
      "--> Begin tracking...\n",
      "--> Done.\n",
      "Simulation time in seconds: 37.39329900000007\n",
      "for ayy=-8.421054210526316e-12, DQy=-0.0018247893279894067\n",
      "--> Begin tracking...\n",
      "--> Done.\n",
      "Simulation time in seconds: 37.18870300000003\n",
      "for ayy=-8.94736947368421e-12, DQy=-0.0019388386524261947\n",
      "--> Begin tracking...\n",
      "--> Done.\n",
      "Simulation time in seconds: 36.83612100000005\n",
      "for ayy=-9.473684736842106e-12, DQy=-0.0020528849020548245\n",
      "--> Begin tracking...\n",
      "--> Done.\n",
      "Simulation time in seconds: 38.42702999999983\n",
      "for ayy=-1e-11, DQy=-0.002166936791363344\n"
     ]
    }
   ],
   "source": [
    "DQy_list = []\n",
    "for app_y in app_y_list:\n",
    "    ### CREATE THE TRANSVERSE MAP\n",
    "    transverse_map = TransverseMap(s, alpha_x, beta_x, D_x, alpha_y, beta_y, D_y, Q_x, Q_y,\n",
    "    [Chromaticity(Qp_x, Qp_y),\n",
    "    AmplitudeDetuning(app_x, app_y, app_xy)]) \n",
    "\n",
    "\n",
    "    ### CREATE THE LONGITUDINAL MAP\n",
    "    longitudinal_map = LinearMap([alpha], circumference, Q_s)\n",
    "    \n",
    "    ### Set up the accelerator map and start tracking\n",
    "    t0 = time.clock()\n",
    "\n",
    "    #reload object from file, use the same distribution for all studies\n",
    "    file2 = open('./input/bunch', 'rb')\n",
    "    bunch = pickle.load(file2)\n",
    "    file2.close()\n",
    "\n",
    "    print('--> Begin tracking...')\n",
    "    one_turn_map = [transverse_map[0]] + [longitudinal_map]\n",
    "    n_damped_turns = int(n_turns/decTurns) # The total number of turns at which the data are damped.\n",
    "                           # We want this number as an integer, so it can be used in the next functions. \n",
    "    X = []\n",
    "    Y = []\n",
    "    XP = []\n",
    "    YP = []\n",
    "    sigma = []\n",
    "    delta = []\n",
    "\n",
    "    for i in range(n_turns):\n",
    "       #These next two lines actually \"run\" the simulation - the computationally heavy part\n",
    "        for m in one_turn_map:\n",
    "            m.track(bunch)\n",
    "\n",
    "        X.append(bunch.x)\n",
    "        Y.append(bunch.y)\n",
    "        XP.append(bunch.xp)\n",
    "        YP.append(bunch.yp)\n",
    "        sigma.append(bunch.z)\n",
    "        delta.append(bunch.dp)\n",
    "\n",
    "        \n",
    "    dataExport = [X, Y, XP, YP, sigma, delta]\n",
    "    f = open(filename, 'w')\n",
    "\n",
    "    \n",
    "    \n",
    "    with f:\n",
    "        out = csv.writer(f, delimiter=',')\n",
    "        out.writerows(zip(*dataExport))\n",
    "\n",
    "    print('--> Done.')\n",
    "\n",
    "    print(\"Simulation time in seconds: \" + str(time.clock() - t0))\n",
    "\n",
    "    \n",
    "    ### organise the tbt data. Group them in a list for each particle\n",
    "    y_data = {}\n",
    "    py_data = {}\n",
    "    for particle in range(macroparticlenumber):\n",
    "        y_data[particle] = []\n",
    "        py_data[particle] = []\n",
    "    # maybe even 100 turns are enough\n",
    "    for particle in range(macroparticlenumber):\n",
    "        for turn in range(n_turns):\n",
    "            y_data[particle].append(Y[turn][particle])\n",
    "            py_data[particle].append(YP[turn][particle])\n",
    "    # Compute the tunes\n",
    "    y_lost_particles = []\n",
    "    Qy_list = []\n",
    "\n",
    "    for particle in range(macroparticlenumber):\n",
    "        if np.isnan(y_data[particle]).any() or np.isnan(py_data[particle]).any():\n",
    "            y_lost_particles.append(particle)\n",
    "            print('particle {} lost'.format(particle))\n",
    "        else:        \n",
    "            signal_y = y_data[particle]\n",
    "            Qy_list.append(pnf.get_tune(np.array(signal_y)))\n",
    "            \n",
    "    # Compute the tune spread in the plane of interest\n",
    "    DQy = Qy_list[index_Jmax] - Qy_list[index_Jmin]\n",
    "    DQy_list.append(DQy)\n",
    "    print('for ayy={}, DQy={}'.format(app_y, DQy))\n"
   ]
  },
  {
   "cell_type": "markdown",
   "metadata": {},
   "source": [
    "###  Save the tune spread for each value of ayy in a pickle"
   ]
  },
  {
   "cell_type": "code",
   "execution_count": 15,
   "metadata": {},
   "outputs": [],
   "source": [
    "my_tunes = {'ayy (1/m)':app_y_list/scale_factor, 'DQy':DQy_list}\n",
    "pickle.dump(my_tunes, open('./output/DQy_vs_ayy_xy_final.pkl', 'wb'))"
   ]
  },
  {
   "cell_type": "markdown",
   "metadata": {},
   "source": [
    "#### Print the minimum and maximum action at the last turn"
   ]
  },
  {
   "cell_type": "code",
   "execution_count": 167,
   "metadata": {},
   "outputs": [
    {
     "name": "stdout",
     "output_type": "stream",
     "text": [
      "At the last turn Jymin = 1.9999999999997729e-13, Jymax = 6.25438104891926e-08\n"
     ]
    }
   ],
   "source": [
    "y_norm = Y[-1]/sqrt(beta_y) # the index 0 corresponds to turn\n",
    "py_norm = YP[-1]*sqrt(beta_x) + Y[-1]*alpha_x/sqrt(beta_x)\n",
    "Jy2_list_final = (y_norm**2 + py_norm**2) # actually this quantity is 2*Jy\n",
    "print('At the last turn Jymin = {}, Jymax = {}'.format(Jy2_list_final[index_Jmin], Jy2_list_final[index_Jmax]))"
   ]
  },
  {
   "cell_type": "markdown",
   "metadata": {},
   "source": [
    "The final action is slightly different than the initial one. Is this difference acceptable?"
   ]
  }
 ],
 "metadata": {
  "kernelspec": {
   "display_name": "Python 3",
   "language": "python",
   "name": "python3"
  },
  "language_info": {
   "codemirror_mode": {
    "name": "ipython",
    "version": 3
   },
   "file_extension": ".py",
   "mimetype": "text/x-python",
   "name": "python",
   "nbconvert_exporter": "python",
   "pygments_lexer": "ipython3",
   "version": "3.7.3"
  }
 },
 "nbformat": 4,
 "nbformat_minor": 4
}
