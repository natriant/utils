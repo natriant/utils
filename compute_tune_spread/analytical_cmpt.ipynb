{
 "cells": [
  {
   "cell_type": "markdown",
   "metadata": {},
   "source": [
    "### Analytical computation of the detuning with ampltidue due to octupole non-linearity\n",
    "\n",
    "\\begin{equation}\n",
    "\\Delta Q_x = \\alpha_{xx} J_x + \\alpha_{xy} J_y \n",
    "\\end{equation}\n",
    "\n",
    "\\begin{equation}\n",
    "\\Delta Q_y = \\alpha_{yy}  J_y + app_{yx} J_x \n",
    "\\end{equation}\n",
    "\n",
    "Here $\\alpha_{xx}, \\alpha_{yy}$ and $\\alpha_{xy}=\\alpha_{xx}$ (1/m) are the detuning coefficients. The actions Jx and Jy are defined as:\n",
    "\n",
    "\\begin{equation}\n",
    "Jx = \\frac{x^2}{2\\beta(s)_x}\n",
    "\\end{equation}\n",
    "\n",
    "where $x$ is the amplitude of the betatron oscillation of each particle and $\\beta(s)_x$ is the beta function at the location s of the lattice and."
   ]
  },
  {
   "cell_type": "code",
   "execution_count": 28,
   "metadata": {},
   "outputs": [],
   "source": [
    "import numpy as np\n",
    "import pickle\n",
    "from scipy.constants import m_p, c"
   ]
  },
  {
   "cell_type": "code",
   "execution_count": 50,
   "metadata": {},
   "outputs": [],
   "source": [
    "def dQx_cmpt(Jx, Jy, app_x, app_xy):\n",
    "        return (app_x*Jx+app_xy*Jy)\n",
    "    \n",
    "def dQy_cmpt(Jx, Jy, app_y, app_xy):\n",
    "    return (app_y*Jy+app_xy*Jx)"
   ]
  },
  {
   "cell_type": "markdown",
   "metadata": {},
   "source": [
    "#### Give the necessary parameters to calculate the beam $\\sigma$"
   ]
  },
  {
   "cell_type": "code",
   "execution_count": 30,
   "metadata": {},
   "outputs": [],
   "source": [
    "# normalised transvesre emittance\n",
    "epsn_x    = 2e-6 # m\n",
    "epsn_y    = 2e-6 # m\n",
    "# relativistic parameters\n",
    "gamma          = 287.8\n",
    "p0             = m_p*c*np.sqrt(gamma**2 - 1)\n",
    "beta           = np.sqrt(1 - 1/gamma**2)\n",
    "# twiss parameters\n",
    "beta_x = 29.23897404\n",
    "beta_y = 76.07315729"
   ]
  },
  {
   "cell_type": "markdown",
   "metadata": {},
   "source": [
    "#### Create the initial conditions in σ (up to 3 σ)\n",
    "\n",
    "For the horizontal beam size $\\sigma_x$:\n",
    "\n",
    "\\begin{equation}\n",
    "\\sigma_x = \\sqrt{\\epsilon_{x_{geom}}  \\beta_x(s)}\n",
    "\\end{equation}\n",
    "\n",
    ", where $\\beta_x(s)$ the beta function at the location s of the lattice. Here we study at the location of the CC in SPS (are the values that are used here for the one turn map).\n",
    "\n",
    "\\begin{equation}\n",
    "\\epsilon_{x_{norm}} = \\epsilon_{x_{geom}}  \\beta_0 \\gamma_0\n",
    "\\end{equation}\n",
    "\n",
    ", where $ \\beta_0 \\gamma_0 $ the relativistic parameters of the reference particle.\n",
    "\n",
    "The same appleis for the vertical plane y."
   ]
  },
  {
   "cell_type": "code",
   "execution_count": 39,
   "metadata": {},
   "outputs": [
    {
     "name": "stdout",
     "output_type": "stream",
     "text": [
      "ε_x_geom = 6.9493122765769245e-09 m, ε_x_geom = 6.9493122765769245e-09 m \n"
     ]
    }
   ],
   "source": [
    "# Compute the geometric emittances in m\n",
    "ex_geom = epsn_x/(beta*gamma)  \n",
    "ey_geom = epsn_y/(beta*gamma)  \n",
    "print('ε_x_geom = {} m, ε_x_geom = {} m '.format(ex_geom, ey_geom))"
   ]
  },
  {
   "cell_type": "code",
   "execution_count": 38,
   "metadata": {},
   "outputs": [
    {
     "name": "stdout",
     "output_type": "stream",
     "text": [
      "σ_x = 0.000450766859086475 m, σ_y = 0.0007270874265680602 m\n"
     ]
    }
   ],
   "source": [
    "# Compute the sigmas \n",
    "sigma_x = np.sqrt(ex_geom*beta_x)\n",
    "sigma_y = np.sqrt(ey_geom*beta_y)\n",
    "print('σ_x = {} m, σ_y = {} m'.format(sigma_x, sigma_y))"
   ]
  },
  {
   "cell_type": "markdown",
   "metadata": {},
   "source": [
    "##### The detuning with amplitude is linear with action. Therefore, Jx,y may correspond to the maximum value of the action, the rms action (1$\\sigma$) or the action up to specific $\\sigma$.\n",
    "##### Define in how many $\\sigma$ you want to compute the tune spread"
   ]
  },
  {
   "cell_type": "code",
   "execution_count": 41,
   "metadata": {},
   "outputs": [],
   "source": [
    "my_sigmas_x = 1*sigma_x\n",
    "my_sigmas_y = 1*sigma_y"
   ]
  },
  {
   "cell_type": "code",
   "execution_count": 56,
   "metadata": {},
   "outputs": [
    {
     "name": "stdout",
     "output_type": "stream",
     "text": [
      "In 1.0σ Jx = 3.4746561382884626e-09 m and Jy = 3.4746561382884622e-09 m\n"
     ]
    }
   ],
   "source": [
    "Jx = my_sigmas_x**2/(2*beta_x)\n",
    "Jy = my_sigmas_y**2/(2*beta_y)\n",
    "print('At {}σ Jx = {} m and Jy = {} m'.format(my_sigmas_x/sigma_x, Jx, Jy))"
   ]
  },
  {
   "cell_type": "markdown",
   "metadata": {},
   "source": [
    "#### Define the detuning coefficients  (units 1/m)p0\n",
    "\n",
    "If you want to define them in PyEHADTAIL units you need to multiple with the scale factor 2*p0."
   ]
  },
  {
   "cell_type": "code",
   "execution_count": 57,
   "metadata": {},
   "outputs": [],
   "source": [
    "scale_factor = 2*p0 # only if the coefficients are given in PyHEADTAIL units."
   ]
  },
  {
   "cell_type": "code",
   "execution_count": 58,
   "metadata": {},
   "outputs": [],
   "source": [
    "app_x = 0.0 \n",
    "app_xy = 0.0 \n",
    "app_y = 0.01 *1e9"
   ]
  },
  {
   "cell_type": "markdown",
   "metadata": {},
   "source": [
    "#### Compute the tune spread"
   ]
  },
  {
   "cell_type": "code",
   "execution_count": 63,
   "metadata": {},
   "outputs": [
    {
     "name": "stdout",
     "output_type": "stream",
     "text": [
      "At 1.0σ the ΔQy = 0.03474656138288462\n"
     ]
    }
   ],
   "source": [
    "Dqy = dQy_cmpt(Jx, Jy, app_y, app_xy)\n",
    "print('At {}σ the ΔQy = {}'.format(my_sigmas_y/sigma_y, Dqy))"
   ]
  },
  {
   "cell_type": "code",
   "execution_count": 64,
   "metadata": {},
   "outputs": [
    {
     "name": "stdout",
     "output_type": "stream",
     "text": [
      "At 1.0σ the ΔQx = 0.03474656138288463\n"
     ]
    }
   ],
   "source": [
    "Dqx = dQx_cmpt(Jx, Jy, app_x, app_xy)\n",
    "print('At {}σ the ΔQx = {}'.format(my_sigmas_x/sigma_x, Dqx))"
   ]
  },
  {
   "cell_type": "code",
   "execution_count": 25,
   "metadata": {},
   "outputs": [
    {
     "name": "stdout",
     "output_type": "stream",
     "text": [
      "[0.06]\n"
     ]
    }
   ],
   "source": [
    "print(np.array(DQy_list))"
   ]
  },
  {
   "cell_type": "markdown",
   "metadata": {},
   "source": [
    "####  Save the tune spread for each value of ayy in a pickle"
   ]
  },
  {
   "cell_type": "code",
   "execution_count": 11,
   "metadata": {},
   "outputs": [],
   "source": [
    "my_tunes = {'ayy (1/m)':app_y/scale_factor, 'DQy':DQy_list}\n",
    "pickle.dump(my_tunes, open('./output/DQy_vs_ayy_analytical_appx{}_apxy{}_final.pkl'.format(app_x, app_xy), 'wb'))"
   ]
  },
  {
   "cell_type": "code",
   "execution_count": null,
   "metadata": {},
   "outputs": [],
   "source": [
    "\n",
    "\n"
   ]
  },
  {
   "cell_type": "code",
   "execution_count": null,
   "metadata": {},
   "outputs": [],
   "source": []
  },
  {
   "cell_type": "code",
   "execution_count": null,
   "metadata": {},
   "outputs": [],
   "source": []
  },
  {
   "cell_type": "code",
   "execution_count": null,
   "metadata": {},
   "outputs": [],
   "source": []
  },
  {
   "cell_type": "code",
   "execution_count": null,
   "metadata": {},
   "outputs": [],
   "source": [
    "# in PyHEADTAIL units\n",
    "app_x = 0.0 #179.3585107*scale_factor\n",
    "app_xy = 0.0 # -441.3397664*scale_factor 0.0\n",
    "a = np.linspace(-1e-17, -1e-11, 20)\n",
    "b = np.linspace(-1e-12, 0, 10)\n",
    "c = np.concatenate((a,b), axis=0)\n",
    "app_y = np.sort(c)[::-1]\n",
    "app_y = [0.01*1e9*scale_factor]"
   ]
  }
 ],
 "metadata": {
  "kernelspec": {
   "display_name": "Python 3",
   "language": "python",
   "name": "python3"
  },
  "language_info": {
   "codemirror_mode": {
    "name": "ipython",
    "version": 3
   },
   "file_extension": ".py",
   "mimetype": "text/x-python",
   "name": "python",
   "nbconvert_exporter": "python",
   "pygments_lexer": "ipython3",
   "version": "3.7.6"
  }
 },
 "nbformat": 4,
 "nbformat_minor": 4
}
