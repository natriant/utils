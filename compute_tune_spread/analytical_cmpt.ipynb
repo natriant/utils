{
 "cells": [
  {
   "cell_type": "markdown",
   "metadata": {},
   "source": [
    "### Analytical computation of the detuning with ampltidue due to octupole non-linearity\n",
    "\n",
    "\\begin{equation}\n",
    "\\Delta Q_x = \\alpha_{xx} J_x + \\alpha_{xy} J_y \n",
    "\\end{equation}\n",
    "\n",
    "\\begin{equation}\n",
    "\\Delta Q_y = \\alpha_{yy}  J_y + \\alpha_{yx} J_x \n",
    "\\end{equation}\n",
    "\n",
    "Here $\\alpha_{xx}, \\alpha_{yy}$ and $\\alpha_{xy}=\\alpha_{xx}$ (1/m) are the detuning coefficients. \n",
    "\n",
    "The trasnvesrse actions Jx and Jy are given by:\n",
    "\n",
    "\\begin{equation}\n",
    "J_{x,y} = \\frac{x,y^2}{\\beta(s)_{x,y}}\n",
    "\\end{equation}\n",
    "\n",
    "where $x$ is the amplitude of the betatron oscillation of each particle and $\\beta(s)_x$ is the beta function at the location s of the lattice and.\n",
    "\n",
    "Also note that:\n",
    "\\begin{equation}\n",
    "\\epsilon_{x,y_{geom}} = \\langle J_{x,y} \\rangle,\n",
    "\\end{equation}\n",
    "where $\\epsilon_{x,y_{geom}}$ the geometric emittance. \n",
    "\n",
    "The normalised emittance $\\epsilon_{x,y}$ is given by:\n",
    "\\begin{equation}\n",
    "\\epsilon_{x,y} = \\epsilon_{x,y_{geom}} \\beta_0 \\gamma_0,\n",
    "\\end{equation}\n",
    "\n",
    "where $\\beta_0$, $\\gamma_0$ the relativistic parameters."
   ]
  },
  {
   "cell_type": "code",
   "execution_count": 1,
   "metadata": {},
   "outputs": [],
   "source": [
    "import numpy as np\n",
    "import pickle\n",
    "from scipy.constants import m_p, c"
   ]
  },
  {
   "cell_type": "code",
   "execution_count": 4,
   "metadata": {},
   "outputs": [],
   "source": [
    "def dQx_cmpt(Jx, Jy, app_x, app_xy):\n",
    "        return (app_x*2*Jx+app_xy*2*Jy)\n",
    "    \n",
    "def dQy_cmpt(Jx, Jy, app_y, app_xy):\n",
    "    return (app_y*2*Jy+app_xy*2*Jx)"
   ]
  },
  {
   "cell_type": "markdown",
   "metadata": {},
   "source": [
    "#### Give the necessary parameters to calculate the beam $\\sigma$"
   ]
  },
  {
   "cell_type": "code",
   "execution_count": 5,
   "metadata": {},
   "outputs": [],
   "source": [
    "# normalised transvesre emittance\n",
    "epsn_x    = 2e-6 # m\n",
    "epsn_y    = 2e-6 # m\n",
    "# relativistic parameters\n",
    "gamma          = 287.8\n",
    "p0             = m_p*c*np.sqrt(gamma**2 - 1)\n",
    "beta           = np.sqrt(1 - 1/gamma**2)\n",
    "# twiss parameters\n",
    "beta_x = 29.23897404\n",
    "beta_y = 72. #76.07315729"
   ]
  },
  {
   "cell_type": "markdown",
   "metadata": {},
   "source": [
    "#### Create the initial conditions in σ (up to 3 σ)\n",
    "\n",
    "For the horizontal beam size $\\sigma_x$:\n",
    "\n",
    "\\begin{equation}\n",
    "\\sigma_x = \\sqrt{\\epsilon_{x_{geom}}  \\beta_x(s)}\n",
    "\\end{equation}\n",
    "\n",
    ", where $\\beta_x(s)$ the beta function at the location s of the lattice. Here we study at the location of the CC in SPS (are the values that are used here for the one turn map).\n",
    "\n",
    "\\begin{equation}\n",
    "\\epsilon_{x_{norm}} = \\epsilon_{x_{geom}}  \\beta_0 \\gamma_0\n",
    "\\end{equation}\n",
    "\n",
    ", where $ \\beta_0 \\gamma_0 $ the relativistic parameters of the reference particle.\n",
    "\n",
    "The same appleis for the vertical plane y."
   ]
  },
  {
   "cell_type": "code",
   "execution_count": 6,
   "metadata": {},
   "outputs": [
    {
     "name": "stdout",
     "output_type": "stream",
     "text": [
      "ε_x_geom = 6.9493122765769245e-09 m, ε_x_geom = 6.9493122765769245e-09 m \n"
     ]
    }
   ],
   "source": [
    "# Compute the geometric emittances in m\n",
    "ex_geom = epsn_x/(beta*gamma)  \n",
    "ey_geom = epsn_y/(beta*gamma)  \n",
    "print('ε_x_geom = {} m, ε_x_geom = {} m '.format(ex_geom, ey_geom))"
   ]
  },
  {
   "cell_type": "code",
   "execution_count": 7,
   "metadata": {},
   "outputs": [
    {
     "name": "stdout",
     "output_type": "stream",
     "text": [
      "σ_x = 0.000450766859086475 m, σ_y = 0.0007073545673235866 m\n"
     ]
    }
   ],
   "source": [
    "# Compute the sigmas \n",
    "sigma_x = np.sqrt(ex_geom*beta_x)\n",
    "sigma_y = np.sqrt(ey_geom*beta_y)\n",
    "print('σ_x = {} m, σ_y = {} m'.format(sigma_x, sigma_y))"
   ]
  },
  {
   "cell_type": "markdown",
   "metadata": {},
   "source": [
    "##### The detuning with amplitude is linear with action. Below you can specify for how many $\\sigma$ you want to compute the action Jx,y. \n",
    "If the fistribution is Gaussian the action at 1$\\sigma$, $J_{x,y_{RMS}}$, is equal witn $\\langle J_{x,y} \\rangle$."
   ]
  },
  {
   "cell_type": "code",
   "execution_count": 8,
   "metadata": {},
   "outputs": [],
   "source": [
    "my_sigmas_x = 1*sigma_x\n",
    "my_sigmas_y = 1*sigma_y"
   ]
  },
  {
   "cell_type": "code",
   "execution_count": 9,
   "metadata": {},
   "outputs": [
    {
     "name": "stdout",
     "output_type": "stream",
     "text": [
      "At 1.0σ Jx = 6.949312276576925e-09 m and Jy = 6.949312276576923e-09 m\n"
     ]
    }
   ],
   "source": [
    "Jx = my_sigmas_x**2/(beta_x)\n",
    "Jy = my_sigmas_y**2/(beta_y)\n",
    "print('At {}σ Jx = {} m and Jy = {} m'.format(my_sigmas_x/sigma_x, Jx, Jy))"
   ]
  },
  {
   "cell_type": "markdown",
   "metadata": {},
   "source": [
    "#### Define the detuning coefficients  (units 1/m)p0\n",
    "\n",
    "If you want to define them in PyEHADTAIL units you need to multiple with the scale factor 2*p0."
   ]
  },
  {
   "cell_type": "code",
   "execution_count": 10,
   "metadata": {},
   "outputs": [],
   "source": [
    "scale_factor = 2*p0 # only if the coefficients are given in PyHEADTAIL units. \n",
    "# ATTENTION when using the scaling factor for PyHEADTAIL. The factor 2 maybe is not required. "
   ]
  },
  {
   "cell_type": "code",
   "execution_count": 15,
   "metadata": {},
   "outputs": [],
   "source": [
    "app_x = 0.0 \n",
    "app_xy = 0.0 \n",
    "app_y = 1e5"
   ]
  },
  {
   "cell_type": "markdown",
   "metadata": {},
   "source": [
    "#### Compute the tune spread"
   ]
  },
  {
   "cell_type": "code",
   "execution_count": 14,
   "metadata": {},
   "outputs": [
    {
     "name": "stdout",
     "output_type": "stream",
     "text": [
      "At 1.0σ the ΔQy = 0.004169587365946153\n"
     ]
    }
   ],
   "source": [
    "Dqy = dQy_cmpt(Jx, Jy, app_y, app_xy)\n",
    "print('At {}σ the ΔQy = {}'.format(my_sigmas_y/sigma_y, Dqy))"
   ]
  },
  {
   "cell_type": "code",
   "execution_count": 13,
   "metadata": {},
   "outputs": [
    {
     "name": "stdout",
     "output_type": "stream",
     "text": [
      "At 1.0σ the ΔQx = 0.0\n"
     ]
    }
   ],
   "source": [
    "Dqx = dQx_cmpt(Jx, Jy, app_x, app_xy)\n",
    "print('At {}σ the ΔQx = {}'.format(my_sigmas_x/sigma_x, Dqx))"
   ]
  },
  {
   "cell_type": "code",
   "execution_count": 14,
   "metadata": {},
   "outputs": [
    {
     "ename": "NameError",
     "evalue": "name 'DQy_list' is not defined",
     "output_type": "error",
     "traceback": [
      "\u001b[0;31m---------------------------------------------------------------------------\u001b[0m",
      "\u001b[0;31mNameError\u001b[0m                                 Traceback (most recent call last)",
      "\u001b[0;32m<ipython-input-14-8610e979e7a6>\u001b[0m in \u001b[0;36m<module>\u001b[0;34m\u001b[0m\n\u001b[0;32m----> 1\u001b[0;31m \u001b[0mprint\u001b[0m\u001b[0;34m(\u001b[0m\u001b[0mnp\u001b[0m\u001b[0;34m.\u001b[0m\u001b[0marray\u001b[0m\u001b[0;34m(\u001b[0m\u001b[0mDQy_list\u001b[0m\u001b[0;34m)\u001b[0m\u001b[0;34m)\u001b[0m\u001b[0;34m\u001b[0m\u001b[0;34m\u001b[0m\u001b[0m\n\u001b[0m",
      "\u001b[0;31mNameError\u001b[0m: name 'DQy_list' is not defined"
     ]
    }
   ],
   "source": [
    "print(np.array(DQy_list))"
   ]
  },
  {
   "cell_type": "markdown",
   "metadata": {},
   "source": [
    "####  Save the tune spread for each value of ayy in a pickle"
   ]
  },
  {
   "cell_type": "code",
   "execution_count": 11,
   "metadata": {},
   "outputs": [],
   "source": [
    "my_tunes = {'ayy (1/m)':app_y/scale_factor, 'DQy':DQy_list}\n",
    "pickle.dump(my_tunes, open('./output/DQy_vs_ayy_analytical_appx{}_apxy{}_final.pkl'.format(app_x, app_xy), 'wb'))"
   ]
  },
  {
   "cell_type": "code",
   "execution_count": null,
   "metadata": {},
   "outputs": [],
   "source": [
    "\n",
    "\n"
   ]
  },
  {
   "cell_type": "code",
   "execution_count": null,
   "metadata": {},
   "outputs": [],
   "source": []
  },
  {
   "cell_type": "code",
   "execution_count": null,
   "metadata": {},
   "outputs": [],
   "source": []
  },
  {
   "cell_type": "code",
   "execution_count": null,
   "metadata": {},
   "outputs": [],
   "source": []
  }
 ],
 "metadata": {
  "kernelspec": {
   "display_name": "Python 3",
   "language": "python",
   "name": "python3"
  },
  "language_info": {
   "codemirror_mode": {
    "name": "ipython",
    "version": 3
   },
   "file_extension": ".py",
   "mimetype": "text/x-python",
   "name": "python",
   "nbconvert_exporter": "python",
   "pygments_lexer": "ipython3",
   "version": "3.7.3"
  }
 },
 "nbformat": 4,
 "nbformat_minor": 4
}
