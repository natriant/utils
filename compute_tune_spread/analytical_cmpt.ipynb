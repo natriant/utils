{
 "cells": [
  {
   "cell_type": "markdown",
   "metadata": {},
   "source": [
    "### Analytical computation of the detuning with ampltidue according to the PyHEADTAIL function\n",
    "\n",
    "\\begin{equation}\n",
    "dQ_x = \\frac{app_x J_x + app_{x,y} J_y}{p0} \n",
    "\\end{equation}\n",
    "\n",
    "\\begin{equation}\n",
    "dQ_y = \\frac{app_y J_y + app_{x,y} J_x}{p0} \n",
    "\\end{equation}\n",
    "\n",
    "where $p_0$ the reference momentum.\n",
    "p0 = βγ*m_p*c, where βγ, the \n",
    "relativistic parameters, m_p the proton mass in kg and c the speed of light in m/s. \n",
    "\n",
    "\n"
   ]
  },
  {
   "cell_type": "code",
   "execution_count": 1,
   "metadata": {},
   "outputs": [],
   "source": [
    "import numpy as np\n",
    "import pickle"
   ]
  },
  {
   "cell_type": "code",
   "execution_count": 2,
   "metadata": {},
   "outputs": [],
   "source": [
    "def dQx_cmpt(Jx, Jy, app_x, app_xy, p0):\n",
    "        return (app_x*Jx+app_xy*Jy)/p0\n",
    "    \n",
    "def dQy_cmpt(Jx, Jy, app_y, app_xy, p0):\n",
    "    return (app_y*Jy+app_xy*Jx)/p0"
   ]
  },
  {
   "cell_type": "markdown",
   "metadata": {},
   "source": [
    "#### Give the necessary parameters\n",
    "\n",
    "They can be obtained from the PyHEADTAIL script in this directory."
   ]
  },
  {
   "cell_type": "code",
   "execution_count": 3,
   "metadata": {},
   "outputs": [],
   "source": [
    "p0 = 1.4431339903887914e-16\n",
    "scale_factor = 2*p0"
   ]
  },
  {
   "cell_type": "code",
   "execution_count": 4,
   "metadata": {},
   "outputs": [],
   "source": [
    "# Initial action values \n",
    "Jx_min, Jx_max = 1e-13, 3.127190524459616e-08 \n",
    "Jy_min, Jy_max = 1.9999999999997729e-13, 3.127190524459616e-08 "
   ]
  },
  {
   "cell_type": "code",
   "execution_count": 5,
   "metadata": {},
   "outputs": [],
   "source": [
    "# in PyHEADTAIL units\n",
    "app_x = 6.243e-14 #179.3585107*scale_factor\n",
    "app_xy = 0.0 # -441.3397664*scale_factor 0.0\n",
    "a = np.linspace(-1e-17, -1e-11, 20)\n",
    "b = np.linspace(-1e-12, 0, 10)\n",
    "c = np.concatenate((a,b), axis=0)\n",
    "app_y = np.sort(c)[::-1]"
   ]
  },
  {
   "cell_type": "code",
   "execution_count": 9,
   "metadata": {},
   "outputs": [],
   "source": [
    "DQy_list = []\n",
    "for my_app_y in (app_y):\n",
    "    Dqy = dQy_cmpt(Jx_max, Jy_max, my_app_y, app_xy, p0)\n",
    "    DQy_list.append(Dqy)    "
   ]
  },
  {
   "cell_type": "code",
   "execution_count": 10,
   "metadata": {},
   "outputs": [
    {
     "name": "stdout",
     "output_type": "stream",
     "text": [
      "[ 0.00000000e+00 -2.16694399e-05 -2.40771554e-01 -4.81543108e-01\n",
      " -7.22314663e-01 -9.63086217e-01 -1.14051736e+00 -1.20385777e+00\n",
      " -1.44462933e+00 -1.68540088e+00 -1.92617243e+00 -2.16694399e+00\n",
      " -2.28101306e+00 -3.42150876e+00 -4.56200445e+00 -5.70250015e+00\n",
      " -6.84299584e+00 -7.98349154e+00 -9.12398723e+00 -1.02644829e+01\n",
      " -1.14049786e+01 -1.25454743e+01 -1.36859700e+01 -1.48264657e+01\n",
      " -1.59669614e+01 -1.71074571e+01 -1.82479528e+01 -1.93884485e+01\n",
      " -2.05289442e+01 -2.16694399e+01]\n"
     ]
    }
   ],
   "source": [
    "print(np.array(DQy_list)*1e4)"
   ]
  },
  {
   "cell_type": "markdown",
   "metadata": {},
   "source": [
    "####  Save the tune spread for each value of ayy in a pickle"
   ]
  },
  {
   "cell_type": "code",
   "execution_count": 11,
   "metadata": {},
   "outputs": [],
   "source": [
    "my_tunes = {'ayy (1/m)':app_y/scale_factor, 'DQy':DQy_list}\n",
    "pickle.dump(my_tunes, open('./output/DQy_vs_ayy_analytical_appx{}_apxy{}_final.pkl'.format(app_x, app_xy), 'wb'))"
   ]
  },
  {
   "cell_type": "code",
   "execution_count": null,
   "metadata": {},
   "outputs": [],
   "source": []
  }
 ],
 "metadata": {
  "kernelspec": {
   "display_name": "Python 3",
   "language": "python",
   "name": "python3"
  },
  "language_info": {
   "codemirror_mode": {
    "name": "ipython",
    "version": 3
   },
   "file_extension": ".py",
   "mimetype": "text/x-python",
   "name": "python",
   "nbconvert_exporter": "python",
   "pygments_lexer": "ipython3",
   "version": "3.7.3"
  }
 },
 "nbformat": 4,
 "nbformat_minor": 4
}
