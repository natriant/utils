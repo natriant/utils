{
 "cells": [
  {
   "cell_type": "code",
   "execution_count": 1,
   "metadata": {},
   "outputs": [],
   "source": [
    "import numpy as np"
   ]
  },
  {
   "cell_type": "code",
   "execution_count": 1,
   "metadata": {
    "pycharm": {
     "is_executing": false
    }
   },
   "outputs": [],
   "source": [
    "def revolution_frequency(beta_0, clight, C0):\n",
    "    # returns the revolution frequency of the reference particle in Hz\n",
    "    return(beta_0*c)/C0 "
   ]
  },
  {
   "cell_type": "code",
   "execution_count": 2,
   "metadata": {
    "pycharm": {
     "is_executing": false
    }
   },
   "outputs": [],
   "source": [
    "def slip_factor(alpha_p, gamma_0):\n",
    "    return alpha_p - 1/(gamma_0**2) "
   ]
  },
  {
   "cell_type": "code",
   "execution_count": 3,
   "metadata": {
    "pycharm": {
     "is_executing": false
    }
   },
   "outputs": [],
   "source": [
    "def calculate_Qs(V_RF, f_RF, lag, alpha_p, gamma_0, C0, PC0, clight): # Wolski p.170\n",
    "    eta = slip_factor(alpha_p, gamma_0)\n",
    "    omega_rf = 2*np.pi*f_RF\n",
    "    phase = lag*np.pi/180.\n",
    "    Qs = np.sqrt(-(V_RF*omega_rf*C0*eta*np.cos(phase))/(PC0*clight))/(2*np.pi)\n",
    "    return Qs"
   ]
  },
  {
   "cell_type": "code",
   "execution_count": 4,
   "metadata": {
    "pycharm": {
     "is_executing": false
    }
   },
   "outputs": [],
   "source": [
    "def calculate_Vrf(Qs, f_RF, lag, alpha_p, gamma_0, C0, PC0, clight): # calculate Vrf needed for given Qs\n",
    "    eta = slip_factor(alpha_p, gamma_0)\n",
    "    omega_rf = 2*np.pi*f_RF\n",
    "    phase = lag*np.pi/180.\n",
    "    V_rf = - ((2*np.pi*Qs)**2)* PC0* clight/(omega_rf*C0*eta*np.cos(phase))\n",
    "    return V_rf"
   ]
  },
  {
   "cell_type": "code",
   "execution_count": 5,
   "metadata": {
    "pycharm": {
     "is_executing": false
    }
   },
   "outputs": [],
   "source": [
    "def calculate_harmonic_number(f_RF, beta_0, clight, C0):\n",
    "    f_rev = revolution_frequency(beta_0, clight, C0)\n",
    "    h = f_rev/f_RF\n",
    "    return h"
   ]
  },
  {
   "cell_type": "code",
   "execution_count": 6,
   "metadata": {
    "pycharm": {
     "is_executing": false
    }
   },
   "outputs": [],
   "source": [
    "def bunch_length_rad_to_m(phi, clight, f_RF ):\n",
    "    L = phi*c/(2*np.pi*f_RF)\n",
    "    return L"
   ]
  },
  {
   "cell_type": "markdown",
   "metadata": {},
   "source": [
    "\\begin{equation}\n",
    "L = \\frac{\\phi C}{2 \\pi h} =  \\frac{\\phi C f_{rev}}{2 \\pi f_{RF}} =  \\frac{\\phi C c/C}{2 \\pi f_{RF}} =  \\frac{\\phi c}{2 \\pi f_{RF}} \n",
    "\\end{equation}\n",
    "\n",
    "where L and $\\phi$ the rms bunch length in m and rad respectively, C the machine circumference (m), c the speed of light (m/s), f_rev and f_RF the revolution and RF frequency respectively (Hz)."
   ]
  },
  {
   "cell_type": "markdown",
   "metadata": {},
   "source": [
    "#### Constants"
   ]
  },
  {
   "cell_type": "code",
   "execution_count": 7,
   "metadata": {
    "pycharm": {
     "is_executing": false
    }
   },
   "outputs": [],
   "source": [
    "m0 = 0.9382720813e9 # proton rest mass, [eV/c^2] \n",
    "clight = 299792458 # speed of light [m/s]"
   ]
  },
  {
   "cell_type": "markdown",
   "metadata": {},
   "source": [
    "#### Parameters from MAD-X"
   ]
  },
  {
   "cell_type": "code",
   "execution_count": 8,
   "metadata": {
    "pycharm": {
     "is_executing": false
    }
   },
   "outputs": [],
   "source": [
    "C0 = 6911.5038 # SPS circumference [m]  \n",
    "alpha_p = 0.001908372004  # compaction factor, property of the optics"
   ]
  },
  {
   "cell_type": "markdown",
   "metadata": {},
   "source": [
    "#### Energy calculations\n",
    "- Option A: Give E_0 and get P0*C\n",
    "- Option B: Give P0*C and get E_0\n",
    ", where E_0 is the total energy of the reference particle [eV] and P0 * C is the reference momentum times the speed of ligth --> [eV]"
   ]
  },
  {
   "cell_type": "code",
   "execution_count": 9,
   "metadata": {
    "pycharm": {
     "is_executing": false
    }
   },
   "outputs": [],
   "source": [
    "option_A = False\n",
    "option_B = True"
   ]
  },
  {
   "cell_type": "code",
   "execution_count": 10,
   "metadata": {
    "pycharm": {
     "is_executing": false
    }
   },
   "outputs": [
    {
     "traceback": [
      "\u001b[0;31m---------------------------------------------------------------------------\u001b[0m",
      "\u001b[0;31mNameError\u001b[0m                                 Traceback (most recent call last)",
      "\u001b[0;32m<ipython-input-10-a3f6578a0c3e>\u001b[0m in \u001b[0;36m<module>\u001b[0;34m\u001b[0m\n\u001b[1;32m      6\u001b[0m \u001b[0;32mif\u001b[0m \u001b[0moption_B\u001b[0m\u001b[0;34m:\u001b[0m\u001b[0;34m\u001b[0m\u001b[0;34m\u001b[0m\u001b[0m\n\u001b[1;32m      7\u001b[0m     \u001b[0mPC0\u001b[0m \u001b[0;34m=\u001b[0m \u001b[0;36m269.99e9\u001b[0m \u001b[0;31m# [eV]\u001b[0m\u001b[0;34m\u001b[0m\u001b[0;34m\u001b[0m\u001b[0m\n\u001b[0;32m----> 8\u001b[0;31m     \u001b[0mE_0\u001b[0m \u001b[0;34m=\u001b[0m \u001b[0mnp\u001b[0m\u001b[0;34m.\u001b[0m\u001b[0msqrt\u001b[0m\u001b[0;34m(\u001b[0m\u001b[0mPC0\u001b[0m\u001b[0;34m**\u001b[0m\u001b[0;36m2\u001b[0m\u001b[0;34m+\u001b[0m\u001b[0mE_rest\u001b[0m\u001b[0;34m**\u001b[0m\u001b[0;36m2\u001b[0m\u001b[0;34m)\u001b[0m\u001b[0;34m\u001b[0m\u001b[0;34m\u001b[0m\u001b[0m\n\u001b[0m\u001b[1;32m      9\u001b[0m     \u001b[0mprint\u001b[0m\u001b[0;34m(\u001b[0m\u001b[0mE_0\u001b[0m\u001b[0;34m)\u001b[0m\u001b[0;34m\u001b[0m\u001b[0;34m\u001b[0m\u001b[0m\n\u001b[1;32m     10\u001b[0m \u001b[0;34m\u001b[0m\u001b[0m\n",
      "\u001b[0;31mNameError\u001b[0m: name 'np' is not defined"
     ],
     "ename": "NameError",
     "evalue": "name 'np' is not defined",
     "output_type": "error"
    }
   ],
   "source": [
    "E_rest = m0 # [eV]\n",
    "if option_A:\n",
    "    E_0 = 270.0*1e9 # total energy of the reference particle [eV]\n",
    "    PC0 = np.sqrt(E_0**2-E_rest**2)  # Acutally it is P0*C --> reference momentum times the speed of ligth [eV]\n",
    "    print(PC0)\n",
    "if option_B:\n",
    "    PC0 = 269.99e9 # [eV]\n",
    "    E_0 = np.sqrt(PC0**2+E_rest**2)\n",
    "    print(E_0)"
   ]
  },
  {
   "cell_type": "markdown",
   "metadata": {},
   "source": [
    "#### Relativistic parameters of the reference particle"
   ]
  },
  {
   "cell_type": "code",
   "execution_count": 11,
   "metadata": {
    "pycharm": {
     "is_executing": false
    }
   },
   "outputs": [
    {
     "traceback": [
      "\u001b[0;31m---------------------------------------------------------------------------\u001b[0m",
      "\u001b[0;31mNameError\u001b[0m                                 Traceback (most recent call last)",
      "\u001b[0;32m<ipython-input-11-daf396afbb39>\u001b[0m in \u001b[0;36m<module>\u001b[0;34m\u001b[0m\n\u001b[0;32m----> 1\u001b[0;31m \u001b[0mgamma_0\u001b[0m \u001b[0;34m=\u001b[0m  \u001b[0mE_0\u001b[0m\u001b[0;34m/\u001b[0m\u001b[0mE_rest\u001b[0m \u001b[0;31m# gamma realtivistic of the reference particle\u001b[0m\u001b[0;34m\u001b[0m\u001b[0;34m\u001b[0m\u001b[0m\n\u001b[0m\u001b[1;32m      2\u001b[0m \u001b[0mbeta_0\u001b[0m \u001b[0;34m=\u001b[0m \u001b[0mnp\u001b[0m\u001b[0;34m.\u001b[0m\u001b[0msqrt\u001b[0m\u001b[0;34m(\u001b[0m\u001b[0;36m1\u001b[0m\u001b[0;34m-\u001b[0m\u001b[0;36m1\u001b[0m\u001b[0;34m/\u001b[0m\u001b[0mgamma_0\u001b[0m\u001b[0;34m**\u001b[0m\u001b[0;36m2\u001b[0m\u001b[0;34m)\u001b[0m \u001b[0;31m# beta realtivistic of the reference particle\u001b[0m\u001b[0;34m\u001b[0m\u001b[0;34m\u001b[0m\u001b[0m\n\u001b[1;32m      3\u001b[0m \u001b[0;34m\u001b[0m\u001b[0m\n",
      "\u001b[0;31mNameError\u001b[0m: name 'E_0' is not defined"
     ],
     "ename": "NameError",
     "evalue": "name 'E_0' is not defined",
     "output_type": "error"
    }
   ],
   "source": [
    "gamma_0 =  E_0/E_rest # gamma realtivistic of the reference particle  \n",
    "beta_0 = np.sqrt(1-1/gamma_0**2) # beta realtivistic of the reference particle"
   ]
  },
  {
   "cell_type": "markdown",
   "metadata": {},
   "source": [
    "#### RF parameters"
   ]
  },
  {
   "cell_type": "code",
   "execution_count": 12,
   "metadata": {
    "pycharm": {
     "is_executing": false
    }
   },
   "outputs": [],
   "source": [
    "V_RF = 2.37e6 # V\n",
    "lag_RF_deg = 180. # deg\n",
    "f_RF = 200.266e6 # Hz"
   ]
  },
  {
   "cell_type": "markdown",
   "metadata": {},
   "source": [
    "#### Calculations"
   ]
  },
  {
   "cell_type": "code",
   "execution_count": 13,
   "metadata": {
    "pycharm": {
     "is_executing": false
    }
   },
   "outputs": [
    {
     "traceback": [
      "\u001b[0;31m---------------------------------------------------------------------------\u001b[0m",
      "\u001b[0;31mNameError\u001b[0m                                 Traceback (most recent call last)",
      "\u001b[0;32m<ipython-input-13-16a4e804d411>\u001b[0m in \u001b[0;36m<module>\u001b[0;34m\u001b[0m\n\u001b[0;32m----> 1\u001b[0;31m \u001b[0mQs\u001b[0m \u001b[0;34m=\u001b[0m \u001b[0mcalculate_Qs\u001b[0m\u001b[0;34m(\u001b[0m\u001b[0mV_RF\u001b[0m\u001b[0;34m,\u001b[0m \u001b[0mf_RF\u001b[0m\u001b[0;34m,\u001b[0m \u001b[0mlag_RF_deg\u001b[0m\u001b[0;34m,\u001b[0m \u001b[0malpha_p\u001b[0m\u001b[0;34m,\u001b[0m \u001b[0mgamma_0\u001b[0m\u001b[0;34m,\u001b[0m \u001b[0mC0\u001b[0m\u001b[0;34m,\u001b[0m \u001b[0mPC0\u001b[0m\u001b[0;34m,\u001b[0m \u001b[0mclight\u001b[0m\u001b[0;34m)\u001b[0m\u001b[0;34m\u001b[0m\u001b[0;34m\u001b[0m\u001b[0m\n\u001b[0m\u001b[1;32m      2\u001b[0m \u001b[0;34m\u001b[0m\u001b[0m\n",
      "\u001b[0;31mNameError\u001b[0m: name 'gamma_0' is not defined"
     ],
     "ename": "NameError",
     "evalue": "name 'gamma_0' is not defined",
     "output_type": "error"
    }
   ],
   "source": [
    "Qs = calculate_Qs(V_RF, f_RF, lag_RF_deg, alpha_p, gamma_0, C0, PC0, clight)"
   ]
  },
  {
   "cell_type": "code",
   "execution_count": 14,
   "metadata": {
    "pycharm": {
     "is_executing": false
    }
   },
   "outputs": [
    {
     "traceback": [
      "\u001b[0;31m---------------------------------------------------------------------------\u001b[0m",
      "\u001b[0;31mNameError\u001b[0m                                 Traceback (most recent call last)",
      "\u001b[0;32m<ipython-input-14-c347ff4ad5c1>\u001b[0m in \u001b[0;36m<module>\u001b[0;34m\u001b[0m\n\u001b[0;32m----> 1\u001b[0;31m \u001b[0mprint\u001b[0m\u001b[0;34m(\u001b[0m\u001b[0mQs\u001b[0m\u001b[0;34m)\u001b[0m\u001b[0;34m\u001b[0m\u001b[0;34m\u001b[0m\u001b[0m\n\u001b[0m\u001b[1;32m      2\u001b[0m \u001b[0;34m\u001b[0m\u001b[0m\n",
      "\u001b[0;31mNameError\u001b[0m: name 'Qs' is not defined"
     ],
     "ename": "NameError",
     "evalue": "name 'Qs' is not defined",
     "output_type": "error"
    }
   ],
   "source": [
    "print(Qs)"
   ]
  },
  {
   "cell_type": "code",
   "execution_count": 15,
   "metadata": {
    "pycharm": {
     "is_executing": false
    }
   },
   "outputs": [
    {
     "traceback": [
      "\u001b[0;36m  File \u001b[0;32m\"<ipython-input-15-392112ab2c9f>\"\u001b[0;36m, line \u001b[0;32m3\u001b[0m\n\u001b[0;31m    print('V_rf = {} MV'.format(V_RF/1e6))ee\u001b[0m\n\u001b[0m                                           ^\u001b[0m\n\u001b[0;31mSyntaxError\u001b[0m\u001b[0;31m:\u001b[0m invalid syntax\n"
     ],
     "ename": "SyntaxError",
     "evalue": "invalid syntax (<ipython-input-15-392112ab2c9f>, line 3)",
     "output_type": "error"
    }
   ],
   "source": [
    "Qs = 0.0035\n",
    "V_RF = calculate_Vrf(Qs, f_RF, lag_RF_deg, alpha_p, gamma_0, C0, PC0, clight)\n",
    "print('V_rf = {} MV'.format(V_RF/1e6))ee"
   ]
  },
  {
   "cell_type": "code",
   "execution_count": 15,
   "metadata": {
    "pycharm": {
     "is_executing": false
    }
   },
   "outputs": [],
   "source": []
  },
  {
   "cell_type": "code",
   "execution_count": null,
   "metadata": {},
   "outputs": [],
   "source": []
  }
 ],
 "metadata": {
  "kernelspec": {
   "display_name": "Python 3",
   "language": "python",
   "name": "python3"
  },
  "language_info": {
   "codemirror_mode": {
    "name": "ipython",
    "version": 3
   },
   "file_extension": ".py",
   "mimetype": "text/x-python",
   "name": "python",
   "nbconvert_exporter": "python",
   "pygments_lexer": "ipython3",
   "version": "3.7.3"
  }
 },
 "nbformat": 4,
 "nbformat_minor": 4
}