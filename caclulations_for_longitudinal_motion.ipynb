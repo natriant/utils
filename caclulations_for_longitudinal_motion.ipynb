{
 "cells": [
  {
   "cell_type": "code",
   "execution_count": 1,
   "metadata": {},
   "outputs": [],
   "source": [
    "import numpy as np"
   ]
  },
  {
   "cell_type": "code",
   "execution_count": 2,
   "metadata": {},
   "outputs": [],
   "source": [
    "def revolution_frequency(beta_0, clight, C0):\n",
    "    # returns the revolution frequency of the reference particle in Hz\n",
    "    return(beta_0*c)/C0 "
   ]
  },
  {
   "cell_type": "code",
   "execution_count": 3,
   "metadata": {},
   "outputs": [],
   "source": [
    "def slip_factor(alpha_p, gamma_0):\n",
    "    return alpha_p - 1/(gamma_0**2) "
   ]
  },
  {
   "cell_type": "code",
   "execution_count": 4,
   "metadata": {},
   "outputs": [],
   "source": [
    "def calculate_Qs(V_RF, f_RF, lag, alpha_p, gamma_0, C0, PC0, clight): # Wolski p.170\n",
    "    eta = slip_factor(alpha_p, gamma_0)\n",
    "    omega_rf = 2*np.pi*f_RF\n",
    "    phase = lag*np.pi/180.\n",
    "    Qs = np.sqrt(-(V_RF*omega_rf*C0*eta*np.cos(phase))/(PC0*clight))/(2*np.pi)\n",
    "    return Qs"
   ]
  },
  {
   "cell_type": "code",
   "execution_count": 5,
   "metadata": {},
   "outputs": [],
   "source": [
    "def calculate_Vrf(Qs, f_RF, lag, alpha_p, gamma_0, C0, PC0, clight): # calculate Vrf needed for given Qs\n",
    "    eta = slip_factor(alpha_p, gamma_0)\n",
    "    omega_rf = 2*np.pi*f_RF\n",
    "    phase = lag*np.pi/180.\n",
    "    V_rf = - ((2*np.pi*Qs)**2)* PC0* clight/(omega_rf*C0*eta*np.cos(phase))\n",
    "    return V_rf"
   ]
  },
  {
   "cell_type": "code",
   "execution_count": 1,
   "metadata": {},
   "outputs": [],
   "source": [
    "def calculate_harmonic_number(f_RF, beta_0, clight, C0):\n",
    "    f_rev = revolution_frequency(beta_0, clight, C0)\n",
    "    h = f_rev/f_RF\n",
    "    return h"
   ]
  },
  {
   "cell_type": "markdown",
   "metadata": {},
   "source": [
    "#### Constants"
   ]
  },
  {
   "cell_type": "code",
   "execution_count": 6,
   "metadata": {},
   "outputs": [],
   "source": [
    "m0 = 0.9382720813e9 # proton rest mass, [eV/c^2] \n",
    "clight = 299792458 # speed of light [m/s]"
   ]
  },
  {
   "cell_type": "markdown",
   "metadata": {},
   "source": [
    "#### Parameters from MAD-X"
   ]
  },
  {
   "cell_type": "code",
   "execution_count": 7,
   "metadata": {},
   "outputs": [],
   "source": [
    "C0 = 6911.5038 # SPS circumference [m]  \n",
    "alpha_p = 0.001908372004  # compaction factor, property of the optics"
   ]
  },
  {
   "cell_type": "markdown",
   "metadata": {},
   "source": [
    "#### Energy calculations\n",
    "- Option A: Give E_0 and get P0*C\n",
    "- Option B: Give P0*C and get E_0\n",
    ", where E_0 is the total energy of the reference particle [eV] and P0 * C is the reference momentum times the speed of ligth --> [eV]"
   ]
  },
  {
   "cell_type": "code",
   "execution_count": 13,
   "metadata": {},
   "outputs": [],
   "source": [
    "option_A = False\n",
    "option_B = True"
   ]
  },
  {
   "cell_type": "code",
   "execution_count": 16,
   "metadata": {},
   "outputs": [
    {
     "name": "stdout",
     "output_type": "stream",
     "text": [
      "269991630341.5692\n"
     ]
    }
   ],
   "source": [
    "E_rest = m0 # [eV]\n",
    "if option_A:\n",
    "    E_0 = 270.0*1e9 # total energy of the reference particle [eV]\n",
    "    PC0 = np.sqrt(E_0**2-E_rest**2)  # Acutally it is P0*C --> reference momentum times the speed of ligth [eV]\n",
    "    print(PC0)\n",
    "if option_B:\n",
    "    PC0 = 269.99e9 # [eV]\n",
    "    E_0 = np.sqrt(PC0**2+E_rest**2)\n",
    "    print(E_0)"
   ]
  },
  {
   "cell_type": "markdown",
   "metadata": {},
   "source": [
    "#### Relativistic parameters of the reference particle"
   ]
  },
  {
   "cell_type": "code",
   "execution_count": 14,
   "metadata": {},
   "outputs": [],
   "source": [
    "gamma_0 =  E_0/E_rest # gamma realtivistic of the reference particle  \n",
    "beta_0 = np.sqrt(1-1/gamma_0**2) # beta realtivistic of the reference particle"
   ]
  },
  {
   "cell_type": "markdown",
   "metadata": {},
   "source": [
    "#### RF parameters"
   ]
  },
  {
   "cell_type": "code",
   "execution_count": 15,
   "metadata": {},
   "outputs": [],
   "source": [
    "V_RF = 2.37e6 # V\n",
    "lag_RF_deg = 180. # deg\n",
    "f_RF = 200.266e6 # Hz"
   ]
  },
  {
   "cell_type": "markdown",
   "metadata": {},
   "source": [
    "#### Calculations"
   ]
  },
  {
   "cell_type": "code",
   "execution_count": 16,
   "metadata": {},
   "outputs": [],
   "source": [
    "Qs = calculate_Qs(V_RF, f_RF, lag_RF_deg, alpha_p, gamma_0, C0, PC0, clight)"
   ]
  },
  {
   "cell_type": "code",
   "execution_count": 17,
   "metadata": {},
   "outputs": [
    {
     "name": "stdout",
     "output_type": "stream",
     "text": [
      "0.003497327047104464\n"
     ]
    }
   ],
   "source": [
    "print(Qs)"
   ]
  },
  {
   "cell_type": "code",
   "execution_count": 17,
   "metadata": {},
   "outputs": [
    {
     "name": "stdout",
     "output_type": "stream",
     "text": [
      "V_rf = 2.37362409297696 MV\n"
     ]
    }
   ],
   "source": [
    "Qs = 0.0035\n",
    "V_RF = calculate_Vrf(Qs, f_RF, lag_RF_deg, alpha_p, gamma_0, C0, PC0, clight)\n",
    "print('V_rf = {} MV'.format(V_RF/1e6))ee"
   ]
  },
  {
   "cell_type": "code",
   "execution_count": null,
   "metadata": {},
   "outputs": [],
   "source": []
  },
  {
   "cell_type": "code",
   "execution_count": null,
   "metadata": {},
   "outputs": [],
   "source": []
  }
 ],
 "metadata": {
  "kernelspec": {
   "display_name": "Python 3",
   "language": "python",
   "name": "python3"
  },
  "language_info": {
   "codemirror_mode": {
    "name": "ipython",
    "version": 3
   },
   "file_extension": ".py",
   "mimetype": "text/x-python",
   "name": "python",
   "nbconvert_exporter": "python",
   "pygments_lexer": "ipython3",
   "version": "3.7.3"
  }
 },
 "nbformat": 4,
 "nbformat_minor": 4
}
