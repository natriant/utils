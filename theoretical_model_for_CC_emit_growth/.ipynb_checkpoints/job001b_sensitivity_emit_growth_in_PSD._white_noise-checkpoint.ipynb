{
 "cells": [
  {
   "cell_type": "markdown",
   "metadata": {},
   "source": [
    "## Sensitivity of the theoretical formula on the power spectral density values"
   ]
  },
  {
   "cell_type": "markdown",
   "metadata": {},
   "source": [
    "Introduction: In the directory below one can find the script we use to compute the power spectral density (PSD) at the betatron tune of the noise signal for our simulations. \n",
    "\n",
    "https://github.com/natriant/utils/tree/master/noise_studies_playground/PSD_computation\n",
    "\n",
    "Issue: However, to obtain representative values of the power spectral density we should use the average of 1000 or more $\\mid Y_k \\mid ^2$.\n",
    "\n",
    "Mehtodology: With this script we study the sensitivity of the theoretical formula on the power spectral density values. Specifically we compute the power spctral density of the noise signal taking into account only one $\\mid Y_k \\mid ^2$.\n"
   ]
  },
  {
   "cell_type": "code",
   "execution_count": 5,
   "metadata": {},
   "outputs": [],
   "source": [
    "import numpy as np\n",
    "import matplotlib.pyplot as plt"
   ]
  },
  {
   "cell_type": "markdown",
   "metadata": {},
   "source": [
    "#### Functions to create the noise and compute the PSD"
   ]
  },
  {
   "cell_type": "code",
   "execution_count": 4,
   "metadata": {},
   "outputs": [],
   "source": [
    "def create_noise(N, colored=False):        \n",
    "    if colored: # A.Wolski's method\n",
    "        phi_0 = 1e-8  # amplitude of noise, aka stdPhaseNoise \n",
    "        Delta_psi = 0.18 # the peak of the spectrum\n",
    "\n",
    "        psi_t_list = []\n",
    "        psi_t = 0\n",
    "\n",
    "        # parameters for ksi\n",
    "        mean = 0.0\n",
    "        std = 0.06\n",
    "        for i in range(N):\n",
    "            psi_t_list.append(psi_t)\n",
    "            ksi = np.random.normal(mean, std)  # different seed on each turn\n",
    "            psi_t = psi_t + 2 * np.pi * Delta_psi + 2 * np.pi * ksi\n",
    "\n",
    "        # Construct the noise signal\n",
    "        y = phi_0 * np.cos(psi_t_list)\n",
    "        \n",
    "    else:\n",
    "        mu, stdPhaseNoise = 0, 1e-8\n",
    "        y = np.random.normal(mu, stdPhaseNoise, N)\n",
    "    \n",
    "    return y"
   ]
  },
  {
   "cell_type": "code",
   "execution_count": 43,
   "metadata": {},
   "outputs": [],
   "source": [
    "def compute_PSD(N, frev, noise_flag):\n",
    "    time = np.arange(N)/frev # convert from turns to time\n",
    "    Dt = time[1]-time[0] # sampling (s)\n",
    "    freq = np.linspace(0, N/time[-1], N)\n",
    "    Df = freq[1]-freq[0]\n",
    "   \n",
    "    #### To obtain a more precise value of PSD, we use the average of 10000 FFTs\n",
    "    fft_list = []\n",
    "    for i in range(1):#(1000):\n",
    "        y_noise = create_noise(N, noise_flag)\n",
    "        fft = np.fft.fft(y_noise)\n",
    "        fft_list.append(fft)\n",
    "        \n",
    "    mean_dft = np.mean(np.abs(fft_list)**2, axis=0)\n",
    "    PSD = mean_dft/(Df*N**2) # power spectral density\n",
    "    \n",
    "    \n",
    "    # compute the PSD at the frequency of interest. \n",
    "    # In our case in the betatron frequency, vb. \n",
    "    # find the closest value to the vb at the frequency list\n",
    "    vb = 0.18\n",
    "    closest_to_vb = freq[min(range(len(freq)), key=lambda i: abs(freq[i] - vb*frev))] # Hz\n",
    "    PSD_vb_index = [i for i in range(len(freq)) if freq[i] == closest_to_vb]\n",
    "    PSD_vb = PSD[PSD_vb_index] # rad^2/Hz or V^2/Hz\n",
    "    \n",
    "    \n",
    "    return PSD, freq, PSD_vb"
   ]
  },
  {
   "cell_type": "markdown",
   "metadata": {},
   "source": [
    "#### Functions to compute the theoretical emittance growth rate"
   ]
  },
  {
   "cell_type": "code",
   "execution_count": 44,
   "metadata": {},
   "outputs": [],
   "source": [
    "def emit_growth_phase_noise(betay, Vcc, frev, Eb, CDeltaPhi, PSD_phi):\n",
    "    ey_rate = betay*(Vcc*frev/(2*Eb))**2*CDeltaPhi*PSD_phi\n",
    "    return ey_rate #2*ey_rate"
   ]
  },
  {
   "cell_type": "code",
   "execution_count": 45,
   "metadata": {},
   "outputs": [],
   "source": [
    "def emit_growth_amplitude_noise(betay, Vcc, frev, Eb, CDeltaA, PSD_A):\n",
    "    ey_rate = betay*(Vcc*frev/(2*Eb))**2*CDeltaA*PSD_A\n",
    "    return 4*ey_rate"
   ]
  },
  {
   "cell_type": "markdown",
   "metadata": {},
   "source": [
    "### Create the noise signal"
   ]
  },
  {
   "cell_type": "code",
   "execution_count": 46,
   "metadata": {},
   "outputs": [],
   "source": [
    "N = 1000 # length of the signal\n",
    "frev = 43.45e3 # the revolution frequency of SPS\n",
    "noise_flag = False # False for white noise, True for colroed noise"
   ]
  },
  {
   "cell_type": "code",
   "execution_count": 47,
   "metadata": {},
   "outputs": [],
   "source": [
    "PSD, freq, PSD_vb = compute_PSD(N, frev, noise_flag)"
   ]
  },
  {
   "cell_type": "code",
   "execution_count": 48,
   "metadata": {},
   "outputs": [
    {
     "name": "stdout",
     "output_type": "stream",
     "text": [
      "The PSD at the betatron tune is:[6.22346038e-21]\n"
     ]
    }
   ],
   "source": [
    "print('The PSD at the betatron tune is:{}'.format(PSD_vb))"
   ]
  },
  {
   "cell_type": "markdown",
   "metadata": {},
   "source": [
    "### Compute the emittance growth rate"
   ]
  },
  {
   "cell_type": "code",
   "execution_count": 50,
   "metadata": {},
   "outputs": [],
   "source": [
    "betay = 76 # m\n",
    "# Beam parameters\n",
    "Vcc = 1e6# V\n",
    "frev = 43.45e3 # Hz\n",
    "Eb = 270e9 # eV\n",
    "CDeltaPhi = 0.52 # approx\n",
    "scale_factor = Eb/Vcc # scaling factor to rms noise, σ\n",
    "beta_0 = 0.999999\n",
    "gamma_0 = 287.7\n",
    "CDeltaA = 0.24 # approx"
   ]
  },
  {
   "cell_type": "markdown",
   "metadata": {},
   "source": [
    "### Phase noise"
   ]
  },
  {
   "cell_type": "code",
   "execution_count": 51,
   "metadata": {},
   "outputs": [],
   "source": [
    "ey_geom_rate_phi = emit_growth_phase_noise(betay, Vcc, frev, Eb, CDeltaPhi, PSD_vb*(scale_factor)**2)\n",
    "ey_norm_rate_phi = ey_geom_rate_phi*beta_0*gamma_0"
   ]
  },
  {
   "cell_type": "code",
   "execution_count": 53,
   "metadata": {},
   "outputs": [
    {
     "name": "stdout",
     "output_type": "stream",
     "text": [
      "Phase noise with PSD=2e-11 rad^2/Hz: dey/dt normalised = [33.39703127] nm/s\n"
     ]
    }
   ],
   "source": [
    "print('Phase noise with PSD={} rad^2/Hz: dey/dt normalised = {} nm/s'.format(PSD_phi, ey_norm_rate_phi*1e9))"
   ]
  },
  {
   "cell_type": "markdown",
   "metadata": {},
   "source": [
    "### Amplitude noise"
   ]
  },
  {
   "cell_type": "code",
   "execution_count": 6,
   "metadata": {},
   "outputs": [],
   "source": [
    "ey_geom_rate_A = emit_growth_amplitude_noise(betay, Vcc, frev, Eb, CDeltaA, PSD_A)\n",
    "ey_norm_rate_A = ey_geom_rate_A*beta_0*gamma_0"
   ]
  },
  {
   "cell_type": "code",
   "execution_count": 8,
   "metadata": {},
   "outputs": [
    {
     "name": "stdout",
     "output_type": "stream",
     "text": [
      "Amplitude noise with PSD=3.3e-11 1/Hz: dey/dt normalised = 3.201884848289093 nm/s\n"
     ]
    }
   ],
   "source": [
    "print('Amplitude noise with PSD={} 1/Hz: dey/dt normalised = {} nm/s'.format(PSD_A, ey_norm_rate_A*1e9))"
   ]
  },
  {
   "cell_type": "code",
   "execution_count": null,
   "metadata": {},
   "outputs": [],
   "source": []
  }
 ],
 "metadata": {
  "kernelspec": {
   "display_name": "Python 3",
   "language": "python",
   "name": "python3"
  },
  "language_info": {
   "codemirror_mode": {
    "name": "ipython",
    "version": 3
   },
   "file_extension": ".py",
   "mimetype": "text/x-python",
   "name": "python",
   "nbconvert_exporter": "python",
   "pygments_lexer": "ipython3",
   "version": "3.7.3"
  }
 },
 "nbformat": 4,
 "nbformat_minor": 4
}
