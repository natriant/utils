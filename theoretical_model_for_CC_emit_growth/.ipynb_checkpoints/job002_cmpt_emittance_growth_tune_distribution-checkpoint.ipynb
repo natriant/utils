{
 "cells": [
  {
   "cell_type": "markdown",
   "metadata": {},
   "source": [
    "The formulas are based on Eq. (20) and (21) from PhysRevSTAB.18.101001"
   ]
  },
  {
   "cell_type": "markdown",
   "metadata": {},
   "source": [
    "We cosnider:\n",
    "- no dependence on tune distribution\n",
    "- overlapse only with the firt betatron sideband\n",
    "\n",
    "Note: In (20), the noise PSD is sampled twice at +/- the betatron tune. Similarly, in (22), the noise PSD is sampled four times at the two synchrotron sidebands of each of the two betatron sidebands. So, you need a factor of 2 in your expression for phase noise and a factor of 4 for that of amplitude noise (assuming of course that the noise is the same at the those sidebands). by Themis"
   ]
  },
  {
   "cell_type": "code",
   "execution_count": 155,
   "metadata": {},
   "outputs": [],
   "source": [
    "def emit_growth_phase_noise(betay, Vcc, frev, Eb, CDeltaPhi, PSD_phi, rho_b):     \n",
    "    ey_rate = betay*(Vcc*frev/(2*Eb))**2*CDeltaPhi*PSD_phi\n",
    "    result = integrate.quad(lambda vb: ey_rate*rho_b(vb), 0.18, 0.1807)\n",
    "    print(result)\n",
    "    return 4*result"
   ]
  },
  {
   "cell_type": "code",
   "execution_count": 156,
   "metadata": {},
   "outputs": [],
   "source": [
    "import scipy.integrate as integrate"
   ]
  },
  {
   "cell_type": "markdown",
   "metadata": {},
   "source": [
    "### SPS parameters"
   ]
  },
  {
   "cell_type": "code",
   "execution_count": 157,
   "metadata": {},
   "outputs": [
    {
     "name": "stdout",
     "output_type": "stream",
     "text": [
      "PSD phi = 2.4785999999999997e-09 rad^2/Hz\n"
     ]
    }
   ],
   "source": [
    "betay = 76 # m\n",
    "# Beam parameters\n",
    "Vcc = 1e6# V\n",
    "frev = 43.45e3 # Hz\n",
    "Eb = 270e9 # eV\n",
    "CDeltaPhi = 0.52 # approx\n",
    "A = 1e-8 # rms kick in the simulation\n",
    "scale_factor = Eb/Vcc # scaling factor to rms noise, σ\n",
    "A = 1e-8 \n",
    "PSD_phi = (A*scale_factor)**2/frev\n",
    "PSD_phi = 3.4e-20*(scale_factor)**2\n",
    "print('PSD phi = {} rad^2/Hz'.format(PSD_phi))\n",
    "beta_0 = 0.999999\n",
    "gamma_0 = 287.7\n",
    "PSD_A = (A*scale_factor)**2/frev\n",
    "CDeltaA = 0.24 # approx"
   ]
  },
  {
   "cell_type": "code",
   "execution_count": 158,
   "metadata": {},
   "outputs": [],
   "source": [
    "import numpy as np\n",
    "def tune_distribution(x, mu, b):\n",
    "    return (1/b) * np.exp(-(x-mu)/b)"
   ]
  },
  {
   "cell_type": "code",
   "execution_count": 159,
   "metadata": {},
   "outputs": [],
   "source": [
    "import pickle\n",
    "# load tune list for ayy = 3e5\n",
    "Q_list = pickle.load(open('Q_list.pkl', 'rb'))"
   ]
  },
  {
   "cell_type": "code",
   "execution_count": 160,
   "metadata": {},
   "outputs": [],
   "source": [
    "rho_b = lambda vb : tune_distribution(vb, 0.18, 7e-4)"
   ]
  },
  {
   "cell_type": "code",
   "execution_count": 162,
   "metadata": {},
   "outputs": [
    {
     "name": "stdout",
     "output_type": "stream",
     "text": [
      "(4.0088087583477634e-10, 4.450671784836672e-24)\n"
     ]
    }
   ],
   "source": [
    "ey_geom_rate_phi = emit_growth_phase_noise(betay, Vcc, frev, Eb, CDeltaPhi, PSD_phi, rho_b)\n",
    "ey_norm_rate_phi = ey_geom_rate_phi[0]*beta_0*gamma_0*2"
   ]
  },
  {
   "cell_type": "code",
   "execution_count": 163,
   "metadata": {},
   "outputs": [
    {
     "data": {
      "text/plain": [
       "(4.0088087583477634e-10,\n",
       " 4.450671784836672e-24,\n",
       " 4.0088087583477634e-10,\n",
       " 4.450671784836672e-24,\n",
       " 4.0088087583477634e-10,\n",
       " 4.450671784836672e-24,\n",
       " 4.0088087583477634e-10,\n",
       " 4.450671784836672e-24)"
      ]
     },
     "execution_count": 163,
     "metadata": {},
     "output_type": "execute_result"
    }
   ],
   "source": [
    "ey_geom_rate_phi"
   ]
  },
  {
   "cell_type": "code",
   "execution_count": 164,
   "metadata": {},
   "outputs": [
    {
     "name": "stdout",
     "output_type": "stream",
     "text": [
      "Phase noise with PSD=2.4785999999999997e-09 rad^2/Hz: dey/dt normalised = 230.66662528847436 nm/s\n"
     ]
    }
   ],
   "source": [
    "print('Phase noise with PSD={} rad^2/Hz: dey/dt normalised = {} nm/s'.format(PSD_phi, ey_norm_rate_phi*1e9))"
   ]
  },
  {
   "cell_type": "code",
   "execution_count": null,
   "metadata": {},
   "outputs": [],
   "source": []
  },
  {
   "cell_type": "code",
   "execution_count": null,
   "metadata": {},
   "outputs": [],
   "source": []
  },
  {
   "cell_type": "code",
   "execution_count": null,
   "metadata": {},
   "outputs": [],
   "source": []
  },
  {
   "cell_type": "code",
   "execution_count": null,
   "metadata": {},
   "outputs": [],
   "source": []
  },
  {
   "cell_type": "code",
   "execution_count": null,
   "metadata": {},
   "outputs": [],
   "source": []
  },
  {
   "cell_type": "code",
   "execution_count": null,
   "metadata": {},
   "outputs": [],
   "source": []
  }
 ],
 "metadata": {
  "kernelspec": {
   "display_name": "Python 3",
   "language": "python",
   "name": "python3"
  },
  "language_info": {
   "codemirror_mode": {
    "name": "ipython",
    "version": 3
   },
   "file_extension": ".py",
   "mimetype": "text/x-python",
   "name": "python",
   "nbconvert_exporter": "python",
   "pygments_lexer": "ipython3",
   "version": "3.7.3"
  }
 },
 "nbformat": 4,
 "nbformat_minor": 4
}
