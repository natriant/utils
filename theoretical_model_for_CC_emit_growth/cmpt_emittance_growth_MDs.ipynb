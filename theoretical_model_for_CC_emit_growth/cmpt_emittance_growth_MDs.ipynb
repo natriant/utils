{
 "cells": [
  {
   "cell_type": "markdown",
   "metadata": {},
   "source": [
    "## Compute the emittance growth for white noise case considering that we are not dependent on the tune distribution"
   ]
  },
  {
   "cell_type": "markdown",
   "metadata": {},
   "source": [
    "## Put this scrip in SWAN at the direcotry with the MDs abalysis scritps"
   ]
  },
  {
   "cell_type": "markdown",
   "metadata": {},
   "source": [
    "The formulas are based on Eq. (20) and (21) from PhysRevSTAB.18.101001"
   ]
  },
  {
   "cell_type": "markdown",
   "metadata": {},
   "source": [
    "We cosnider:\n",
    "- no dependence on tune distribution\n",
    "- overlapse only with the firt betatron sideband\n",
    "\n",
    "Note: In (20), the noise PSD is sampled twice at +/- the betatron tune. Similarly, in (22), the noise PSD is sampled four times at the two synchrotron sidebands of each of the two betatron sidebands. So, you need a factor of 2 in your expression for phase noise and a factor of 4 for that of amplitude noise (assuming of course that the noise is the same at the those sidebands). by Themis"
   ]
  },
  {
   "cell_type": "code",
   "execution_count": 5,
   "metadata": {},
   "outputs": [],
   "source": [
    "def emit_growth_phase_noise(betay, Vcc, frev, Eb, CDeltaPhi, PSD_phi):\n",
    "    ey_rate = betay*(Vcc*frev/(2*Eb))**2*CDeltaPhi*PSD_phi\n",
    "    return ey_rate"
   ]
  },
  {
   "cell_type": "code",
   "execution_count": 6,
   "metadata": {},
   "outputs": [],
   "source": [
    "def emit_growth_amplitude_noise(betay, Vcc, frev, Eb, CDeltaA, PSD_A):\n",
    "    ey_rate = betay*(Vcc*frev/(2*Eb))**2*CDeltaA*PSD_A\n",
    "    return 2*ey_rate"
   ]
  },
  {
   "cell_type": "code",
   "execution_count": 7,
   "metadata": {},
   "outputs": [],
   "source": [
    "def Lf_to_Sf(PSD): # convert the noise PSD from dBc/Hz to rad^2/Hz for PN or V^2/Hz for AN\n",
    "    return 2*10**(PSD/10)"
   ]
  },
  {
   "cell_type": "markdown",
   "metadata": {},
   "source": [
    "### SPS parameters"
   ]
  },
  {
   "cell_type": "code",
   "execution_count": 8,
   "metadata": {},
   "outputs": [],
   "source": [
    "betay = 73 # m, at CC2, CC1: 76 m \n",
    "# Beam parameters\n",
    "Vcc = 1e6# V\n",
    "frev = 43.45e3 # Hz\n",
    "Eb = 270e9 # eV\n",
    "CDeltaPhi = 0.52 # approx\n",
    "beta_0 = 0.999999\n",
    "gamma_0 = 287.7\n",
    "CDeltaA = 0.24 # approx"
   ]
  },
  {
   "cell_type": "code",
   "execution_count": 9,
   "metadata": {},
   "outputs": [],
   "source": [
    "# PSD in dBc/Hz\n",
    "PSD_PN = -102\n",
    "PSD_AN = -107"
   ]
  },
  {
   "cell_type": "code",
   "execution_count": 10,
   "metadata": {},
   "outputs": [
    {
     "name": "stdout",
     "output_type": "stream",
     "text": [
      "PSD_phi = 1.2619146889603885e-10 rad^2/Hz\n",
      "PSD_A = 3.9905246299377657e-11 V^2/Hz\n"
     ]
    }
   ],
   "source": [
    "# PSD in rad^2/Hz or V^2/Hz\n",
    "PSD_phi = Lf_to_Sf(PSD_PN)\n",
    "PSD_A = Lf_to_Sf(PSD_AN)\n",
    "print('PSD_phi = {} rad^2/Hz'.format(PSD_phi))\n",
    "print('PSD_A = {} V^2/Hz'.format(PSD_A))"
   ]
  },
  {
   "cell_type": "code",
   "execution_count": 11,
   "metadata": {},
   "outputs": [],
   "source": [
    "ey_geom_rate_phi = emit_growth_phase_noise(betay, Vcc, frev, Eb, CDeltaPhi, PSD_phi)\n",
    "ey_norm_rate_phi = ey_geom_rate_phi*beta_0*gamma_0"
   ]
  },
  {
   "cell_type": "code",
   "execution_count": 12,
   "metadata": {},
   "outputs": [],
   "source": [
    "ey_geom_rate_A = emit_growth_amplitude_noise(betay, Vcc, frev, Eb, CDeltaA, PSD_A)\n",
    "ey_norm_rate_A = ey_geom_rate_A*beta_0*gamma_0"
   ]
  },
  {
   "cell_type": "code",
   "execution_count": 13,
   "metadata": {},
   "outputs": [
    {
     "name": "stdout",
     "output_type": "stream",
     "text": [
      "Phase noise with PSD=1.2619146889603885e-10 rad^2/Hz: dey/dt normalised = 8.922522852245299 nm/s or 32.12108226808308 um/h \n"
     ]
    }
   ],
   "source": [
    "print('Phase noise with PSD={} rad^2/Hz: dey/dt normalised = {} nm/s or {} um/h '.format(PSD_phi, ey_norm_rate_phi*1e9,  ey_norm_rate_phi*1e9*1e-3*3600 ))\n"
   ]
  },
  {
   "cell_type": "code",
   "execution_count": 14,
   "metadata": {},
   "outputs": [
    {
     "name": "stdout",
     "output_type": "stream",
     "text": [
      "Amplitude noise with PSD=3.9905246299377657e-11 rad^2/Hz: dey/dt normalised = 2.6045072019689672 nm/s or 9.376225927088283 um/h \n"
     ]
    }
   ],
   "source": [
    "print('Amplitude noise with PSD={} rad^2/Hz: dey/dt normalised = {} nm/s or {} um/h '.format(PSD_A, ey_norm_rate_A*1e9,  ey_norm_rate_A*1e9*1e-3*3600 ))"
   ]
  },
  {
   "cell_type": "markdown",
   "metadata": {},
   "source": [
    "### dey+dex"
   ]
  },
  {
   "cell_type": "code",
   "execution_count": 15,
   "metadata": {},
   "outputs": [
    {
     "data": {
      "text/plain": [
       "41.49730819517136"
      ]
     },
     "execution_count": 15,
     "metadata": {},
     "output_type": "execute_result"
    }
   ],
   "source": [
    "(ey_norm_rate_phi+ey_norm_rate_A)*1e9*1e-3*3600"
   ]
  },
  {
   "cell_type": "code",
   "execution_count": null,
   "metadata": {},
   "outputs": [],
   "source": []
  },
  {
   "cell_type": "code",
   "execution_count": null,
   "metadata": {},
   "outputs": [],
   "source": []
  }
 ],
 "metadata": {
  "kernelspec": {
   "display_name": "Python 3",
   "language": "python",
   "name": "python3"
  },
  "language_info": {
   "codemirror_mode": {
    "name": "ipython",
    "version": 3
   },
   "file_extension": ".py",
   "mimetype": "text/x-python",
   "name": "python",
   "nbconvert_exporter": "python",
   "pygments_lexer": "ipython3",
   "version": "3.7.3"
  }
 },
 "nbformat": 4,
 "nbformat_minor": 4
}
