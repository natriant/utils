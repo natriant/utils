{
 "cells": [
  {
   "cell_type": "markdown",
   "metadata": {},
   "source": [
    "## Compute the emittance growth for white noise case including the contribution of the tune distribution "
   ]
  },
  {
   "cell_type": "code",
   "execution_count": 1,
   "metadata": {},
   "outputs": [],
   "source": [
    "import scipy.integrate as integrate\n",
    "import numpy as np\n",
    "import pickle\n",
    "import matplotlib.pyplot as plt\n",
    "from scipy.constants import m_p, c\n",
    "import pandas as pd"
   ]
  },
  {
   "cell_type": "code",
   "execution_count": 2,
   "metadata": {},
   "outputs": [],
   "source": [
    "def emit_growth_phase_noise(betay, Vcc, frev, Eb, CDeltaPhi, noise_psd, rho_b): \n",
    "    \n",
    "    ey_rate = betay*(Vcc*frev/(2*Eb))**2*CDeltaPhi\n",
    "    \n",
    "    \n",
    "    #result = integrate.quad(lambda vb: noise_psd(vb*frev)*rho_b(vb), 0.1, 2)\n",
    "    x = np.linspace(0.,1, 100000)\n",
    "    dx = x[1]-x[0]\n",
    "    y = np.array(noise_psd(x*frev)*rho_b(x))\n",
    "    result = integrate.trapz(y,dx=dx)\n",
    "    \n",
    "    #print(result)\n",
    "    \n",
    "    #print(2*ey_rate)\n",
    "    return 2*result*ey_rate"
   ]
  },
  {
   "cell_type": "code",
   "execution_count": 3,
   "metadata": {},
   "outputs": [],
   "source": [
    "def expon_distribution(x, mu, b): \n",
    "    return np.heaviside(x-mu, 1)*(1/b) * np.exp(-(x-mu)/b)\n",
    "  "
   ]
  },
  {
   "cell_type": "code",
   "execution_count": 4,
   "metadata": {},
   "outputs": [],
   "source": [
    "def gaussian_distribution(x, mu, c, alpha):\n",
    "    return alpha*np.exp(-(x-mu)**2/(2*c**2))"
   ]
  },
  {
   "cell_type": "code",
   "execution_count": 5,
   "metadata": {},
   "outputs": [],
   "source": [
    "def cmpt_rms_JxJy(epsn_x, epsn_y, beta_0, gamma_0, betay, betax):\n",
    "    # Compute the geometric emittances in m\n",
    "    ex_geom = epsn_x/(beta_0*gamma_0)  \n",
    "    ey_geom = epsn_y/(beta_0*gamma_0)  \n",
    "    \n",
    "    # Compute the beam sigmas \n",
    "    sigma_x = np.sqrt(ex_geom*betax)\n",
    "    sigma_y = np.sqrt(ey_geom*betay)\n",
    "    print('σ_x = {} m, σ_y = {} m'.format(sigma_x, sigma_y))\n",
    "\n",
    "    my_sigmas_x = 1*sigma_x\n",
    "    my_sigmas_y = 1*sigma_y\n",
    "    \n",
    "    Jx = my_sigmas_x**2/(betax)\n",
    "    Jy = my_sigmas_y**2/(betay)\n",
    "    print('At {}σ Jx = {} m and Jy = {} m'.format(my_sigmas_x/sigma_x, Jx, Jy))\n",
    "    \n",
    "    return Jx, Jy"
   ]
  },
  {
   "cell_type": "code",
   "execution_count": 6,
   "metadata": {},
   "outputs": [],
   "source": [
    "def dQy_cmpt(Jx, Jy, app_y, app_xy):\n",
    "    return (app_y*2*Jy+app_xy*2*Jx)"
   ]
  },
  {
   "cell_type": "markdown",
   "metadata": {},
   "source": [
    "### SPS parameters"
   ]
  },
  {
   "cell_type": "code",
   "execution_count": 7,
   "metadata": {},
   "outputs": [],
   "source": [
    "betay = 73. # m\n",
    "betax = 29. # m \n",
    "# Beam parameters\n",
    "Vcc = 1e6# V\n",
    "frev = 43.45e3 # Hz\n",
    "Eb = 270e9 # eV\n",
    "CDeltaPhi = 0.52 # approx\n",
    "scale_factor = Eb/Vcc # scaling factor to rms noise, σ\n",
    "# normalised transvesre emittance\n",
    "epsn_x    = 2e-6 # m\n",
    "epsn_y    = 2e-6 # m\n",
    "# relativistic parameters\n",
    "gamma_0 = 287.7\n",
    "p0 = m_p*c*np.sqrt(gamma_0**2 - 1)\n",
    "beta_0 = np.sqrt(1 - 1/gamma_0**2)"
   ]
  },
  {
   "cell_type": "markdown",
   "metadata": {},
   "source": [
    "### Function for tune distribution"
   ]
  },
  {
   "cell_type": "code",
   "execution_count": 12,
   "metadata": {},
   "outputs": [],
   "source": [
    "rho_b = lambda vb : expon_distribution(vb, 0.18, 0.0014)"
   ]
  },
  {
   "cell_type": "code",
   "execution_count": 13,
   "metadata": {},
   "outputs": [
    {
     "data": {
      "text/plain": [
       "(1.000000000369618, 1.6411272954959723e-09)"
      ]
     },
     "execution_count": 13,
     "metadata": {},
     "output_type": "execute_result"
    }
   ],
   "source": [
    "# Sanity check, it should equal 1\n",
    "integrate.quad(lambda vb: rho_b(vb), 0.1, 2) "
   ]
  },
  {
   "cell_type": "markdown",
   "metadata": {},
   "source": [
    "### A) Create a list of tune distributions distributions, for given standard deviation"
   ]
  },
  {
   "cell_type": "markdown",
   "metadata": {},
   "source": [
    "To use the function dQy_cmpt we need to compute the Jy and Jx"
   ]
  },
  {
   "cell_type": "code",
   "execution_count": 14,
   "metadata": {},
   "outputs": [
    {
     "name": "stdout",
     "output_type": "stream",
     "text": [
      "σ_x = 0.00044899900395007383 m, σ_y = 0.0007123735872133087 m\n",
      "At 1.0σ Jx = 6.9517277775227045e-09 m and Jy = 6.951727777522706e-09 m\n"
     ]
    }
   ],
   "source": [
    "Jx, Jy = cmpt_rms_JxJy(epsn_x, epsn_y, beta_0, gamma_0, betay, betax)"
   ]
  },
  {
   "cell_type": "code",
   "execution_count": 15,
   "metadata": {},
   "outputs": [],
   "source": [
    "app_x = 0.0 \n",
    "app_xy = 0.0 \n",
    "app_y_list = np.linspace(-3e5, 3e5, 10)"
   ]
  },
  {
   "cell_type": "code",
   "execution_count": 16,
   "metadata": {},
   "outputs": [
    {
     "name": "stdout",
     "output_type": "stream",
     "text": [
      "[-0.004171036666513623, -0.003244139629510596, -0.002317242592507569, -0.0013903455555045413, -0.00046344851850151347, 0.0004634485185015143, 0.0013903455555045413, 0.002317242592507569, 0.003244139629510597, 0.004171036666513623]\n"
     ]
    }
   ],
   "source": [
    "# create the list with the rms DQy of interest = std of the tune distribution\n",
    "rms_DQy_list = []\n",
    "for app_y in app_y_list:\n",
    "    Dqy = dQy_cmpt(Jx, Jy, app_y, app_xy)\n",
    "    rms_DQy_list.append(Dqy)\n",
    "print(rms_DQy_list)"
   ]
  },
  {
   "cell_type": "markdown",
   "metadata": {},
   "source": [
    "### Create list of the PSDs\n",
    "Import tha file, created from: /home/natalia/PhD_projects/utils/noise_studies_playground/PSD_computation/job002_compute_PSD_colored_iterate_over_rmsKsi.ipynb\n"
   ]
  },
  {
   "cell_type": "code",
   "execution_count": 33,
   "metadata": {},
   "outputs": [],
   "source": [
    "df1 = pd.read_pickle('rmsksi_vs_PSD.pkl')\n",
    "psd_vb_list = list(df1['PSD_vb_list'])"
   ]
  },
  {
   "cell_type": "code",
   "execution_count": 38,
   "metadata": {},
   "outputs": [],
   "source": [
    "psd_vb_liist = [psd_vb_list[0]]"
   ]
  },
  {
   "cell_type": "code",
   "execution_count": 58,
   "metadata": {},
   "outputs": [],
   "source": [
    "dey_dict = {} \n",
    "emity_list = []\n",
    "for psd in psd_vb_liist:\n",
    "    \n",
    "    \n",
    "    alpha = psd*(scale_factor)**2 \n",
    "    mu = 0.18*frev\n",
    "    c = 0.06*frev # the rms width of the colored noise\n",
    "    noise_psd = lambda f : gaussian_distribution(f, mu, c, alpha)\n",
    "    \n",
    "    \n",
    "    for rms_DQy in rms_DQy_list[:int(len(rms_DQy_list)/2)]: \n",
    "        rho_b = lambda vb : expon_distribution(vb, 0.18, np.abs(rms_DQy))\n",
    "        \n",
    "        emit_y_geom = emit_growth_phase_noise(betay, Vcc, frev, Eb, CDeltaPhi, noise_psd, rho_b)\n",
    "        \n",
    "        emity_list.append(emit_y_geom*beta_0*gamma_0)"
   ]
  },
  {
   "cell_type": "code",
   "execution_count": 59,
   "metadata": {},
   "outputs": [],
   "source": [
    "emity_list_reverse = emity_list[::-1]"
   ]
  },
  {
   "cell_type": "code",
   "execution_count": 63,
   "metadata": {},
   "outputs": [],
   "source": [
    "emity_total = emity_list + emity_list_reverse"
   ]
  },
  {
   "cell_type": "code",
   "execution_count": 75,
   "metadata": {},
   "outputs": [
    {
     "data": {
      "image/png": "[encoded data removed]",
      "text/plain": [
       "<Figure size 432x288 with 1 Axes>"
      ]
     },
     "metadata": {
      "needs_background": "light"
     },
     "output_type": "display_data"
    }
   ],
   "source": [
    "plt.plot(rms_DQy_list, np.array(emity_total)*1e9, '.-', c='C0', label=r'$\\rm rms(\\xi)/2\\pi=0.04$')\n",
    "plt.grid(linestyle='--')\n",
    "plt.xlabel(r'$\\rm RMS(\\Delta Q_y)$', fontsize=16)\n",
    "plt.ylabel(r'$\\rm d\\epsilon _y/dt (nm/s)$', fontsize = 16)\n",
    "plt.tight_layout()\n",
    "plt.legend(fontsize=14)\n",
    "plt.savefig('dey_theory_PSD3_2e-20_ayy1e5.png')\n"
   ]
  },
  {
   "cell_type": "markdown",
   "metadata": {},
   "source": [
    "### Compute the PSD of the signal"
   ]
  },
  {
   "cell_type": "code",
   "execution_count": 54,
   "metadata": {},
   "outputs": [],
   "source": [
    "PSD_vb = psd_vb_list[0] #1.58e-20  # rad^2/Hz\n",
    "alpha = PSD_vb*(scale_factor)**2 # scaled to the simulations\n",
    "mu = 0.18*frev\n",
    "c = 0.06*frev # the rms width of the colored noise\n",
    "noise_psd = lambda f : gaussian_distribution(f, mu, c, alpha)"
   ]
  },
  {
   "cell_type": "code",
   "execution_count": 55,
   "metadata": {},
   "outputs": [
    {
     "data": {
      "text/plain": [
       "2.5833825493844083e-09"
      ]
     },
     "execution_count": 55,
     "metadata": {},
     "output_type": "execute_result"
    }
   ],
   "source": [
    "noise_psd(7821) # test psd tat the betatron sideband"
   ]
  },
  {
   "cell_type": "code",
   "execution_count": 56,
   "metadata": {},
   "outputs": [
    {
     "data": {
      "text/plain": [
       "[<matplotlib.lines.Line2D at 0x7f00aef2d320>]"
      ]
     },
     "execution_count": 56,
     "metadata": {},
     "output_type": "execute_result"
    },
    {
     "data": {
      "image/png": "[encoded data removed]",
      "text/plain": [
       "<Figure size 432x288 with 1 Axes>"
      ]
     },
     "metadata": {
      "needs_background": "light"
     },
     "output_type": "display_data"
    }
   ],
   "source": [
    "x = np.linspace(0.15,0.2, 10000)\n",
    "plt.plot(x, rho_b(x))\n",
    "plt.plot(x, 1e11*noise_psd(x*frev))\n",
    "plt.plot(x, rho_b(x)*1e9*noise_psd(x*frev))"
   ]
  },
  {
   "cell_type": "markdown",
   "metadata": {},
   "source": [
    "### Call the function computing the emittance"
   ]
  },
  {
   "cell_type": "code",
   "execution_count": 65,
   "metadata": {},
   "outputs": [
    {
     "data": {
      "text/plain": [
       "(-3.170158442932027e+189, 3.6938885642614266e+179)"
      ]
     },
     "execution_count": 65,
     "metadata": {},
     "output_type": "execute_result"
    }
   ],
   "source": [
    "# Sanity check, it should equal 1\n",
    "integrate.quad(lambda vb: rho_b(vb), 0.1, 2) "
   ]
  },
  {
   "cell_type": "code",
   "execution_count": 63,
   "metadata": {},
   "outputs": [],
   "source": [
    "ey_geom_rate_phi = emit_growth_phase_noise(betay, Vcc, frev, Eb, CDeltaPhi, noise_psd, rho_b)\n",
    "ey_norm_rate_phi = ey_geom_rate_phi*beta_0*gamma_0"
   ]
  },
  {
   "cell_type": "code",
   "execution_count": 64,
   "metadata": {},
   "outputs": [
    {
     "name": "stdout",
     "output_type": "stream",
     "text": [
      "dey/dt = -4.5378538743397567e+46 nm/s\n"
     ]
    }
   ],
   "source": [
    "print('dey/dt = {} nm/s'.format(ey_norm_rate_phi*1e9))"
   ]
  },
  {
   "cell_type": "code",
   "execution_count": 59,
   "metadata": {},
   "outputs": [
    {
     "name": "stdout",
     "output_type": "stream",
     "text": [
      "dey/dt = 181.93022888850038 nm/s\n"
     ]
    }
   ],
   "source": [
    "print('dey/dt = {} nm/s'.format(ey_norm_rate_phi*1e9))"
   ]
  },
  {
   "cell_type": "markdown",
   "metadata": {},
   "source": [
    "print('dey/dt = {} nm/s'.format(ey_norm_rate_phi*1e9))"
   ]
  },
  {
   "cell_type": "code",
   "execution_count": null,
   "metadata": {},
   "outputs": [],
   "source": []
  },
  {
   "cell_type": "code",
   "execution_count": null,
   "metadata": {},
   "outputs": [],
   "source": []
  }
 ],
 "metadata": {
  "kernelspec": {
   "display_name": "Python 3",
   "language": "python",
   "name": "python3"
  },
  "language_info": {
   "codemirror_mode": {
    "name": "ipython",
    "version": 3
   },
   "file_extension": ".py",
   "mimetype": "text/x-python",
   "name": "python",
   "nbconvert_exporter": "python",
   "pygments_lexer": "ipython3",
   "version": "3.7.3"
  }
 },
 "nbformat": 4,
 "nbformat_minor": 4
}
