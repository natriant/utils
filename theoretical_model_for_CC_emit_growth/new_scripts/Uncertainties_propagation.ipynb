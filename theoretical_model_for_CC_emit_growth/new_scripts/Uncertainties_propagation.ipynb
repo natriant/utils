{
 "cells": [
  {
   "cell_type": "code",
   "execution_count": 1,
   "metadata": {},
   "outputs": [],
   "source": [
    "import numpy as np\n",
    "from math import *\n",
    "import pickle as pkl\n",
    "from my_functions import *"
   ]
  },
  {
   "cell_type": "markdown",
   "metadata": {},
   "source": [
    "### Machine parameters used for the computation of the theoretical expected growth"
   ]
  },
  {
   "cell_type": "code",
   "execution_count": 2,
   "metadata": {},
   "outputs": [],
   "source": [
    "numBunches = 4\n",
    "# Machine and beam parameters\n",
    "betay = 73  # m in CC2, ~76 in CC1 (MAD-X)\n",
    "Vcc = 1e6  # V\n",
    "frev = 43.45e3  # Hz\n",
    "Eb = 270e9  # eV\n",
    "sigma_z = 0.138  # rms bunch length, m\n",
    "beta_0 = 0.999999  # cmpt it from the rest\n",
    "gamma_0 = 287.7  # cmt it\n",
    "clight = 299792458  # light speed in meters/second\n",
    "f_RF = 400.789e6  # CC frequency in Hz"
   ]
  },
  {
   "cell_type": "markdown",
   "metadata": {},
   "source": [
    "### Measured phase and amplitude noise\n",
    "The order of the arrays is the following:\n",
    "\n",
    "[Coast1-Setting1, Coast1-Setting2, Coast2-Setting1, Coast2-Setting2, Coast2-Setting2, Coast3-Setting1, Coast3-Setting2, Coast3-Setting3]\n"
   ]
  },
  {
   "cell_type": "code",
   "execution_count": 11,
   "metadata": {},
   "outputs": [],
   "source": [
    "L_PN_dB = np.array([-122.75, -101.48, -115.22, -111.28, -111.03, -106.46, -101.48])\n",
    "sigma_L_PN_dB = np.array([0.47, 0.83, 0.61, 0.6, 0.83, 0.3, 0.76]) # uncertainty in the computation of the PN from the measured spectrum, averaged values over 1kHz\n",
    "L_AN_dB = np.array([-128.15, -115.21, -124.06, -115.71, -116.92, -112.73, -106.99])\n",
    "sigma_L_AN_dB = np.array([0.57, 0.66, 0.5, 0.4, 0.37, 0.3, 0.42 ])"
   ]
  },
  {
   "cell_type": "markdown",
   "metadata": {},
   "source": [
    "### Load the effective PN (computed in another sctipr)"
   ]
  },
  {
   "cell_type": "code",
   "execution_count": 12,
   "metadata": {},
   "outputs": [],
   "source": [
    "effective_PN_dict = pkl.load(open('effective_PN_4bunches_MD5.pkl', 'rb'))"
   ]
  },
  {
   "cell_type": "markdown",
   "metadata": {},
   "source": [
    "### Uncertainties of the measured PN and AN when converted in rad^2/Hz, eq.10 and eq.11"
   ]
  },
  {
   "cell_type": "code",
   "execution_count": 13,
   "metadata": {},
   "outputs": [],
   "source": [
    "sigma_S_PN_rad = np.log(10)*ssb_2_dsb(L_PN_dB)*sigma_L_PN_dB/5\n",
    "sigma_S_AN_rad = np.log(10)*ssb_2_dsb(L_AN_dB)*sigma_L_AN_dB/5"
   ]
  },
  {
   "cell_type": "markdown",
   "metadata": {},
   "source": [
    "### Load the bunch lengths at the beggining of each setting"
   ]
  },
  {
   "cell_type": "code",
   "execution_count": 14,
   "metadata": {},
   "outputs": [
    {
     "name": "stdout",
     "output_type": "stream",
     "text": [
      "['bunch_1', 'bunch_2', 'bunch_3', 'bunch_4']\n"
     ]
    }
   ],
   "source": [
    "# Load the initial bunch lengths for each coast settings\n",
    "b = pkl.load(open('initial_bunch_lengths_4sigmat_seconds.pkl', 'rb'))\n",
    "keys_b = list(b.keys())\n",
    "print(keys_b)"
   ]
  },
  {
   "cell_type": "markdown",
   "metadata": {},
   "source": [
    "#### covnert bunch length from ns to rad"
   ]
  },
  {
   "cell_type": "code",
   "execution_count": 15,
   "metadata": {},
   "outputs": [],
   "source": [
    "sigma_phi_dict = {}\n",
    "for key in keys_b: # iterate over the 4 bunches\n",
    "    sigma_t = np.array(b[key])/4 # 1 sigma_t in seconds to be used in the function that converts to m\n",
    "    sigma_z = bunch_length_time_to_m(sigma_t, clight)\n",
    "    sigma_phi = bunch_length_m_to_rad(sigma_z, clight, f_RF)  # rms bunch length in rad\n",
    "    sigma_phi_dict[key] = sigma_phi"
   ]
  },
  {
   "cell_type": "markdown",
   "metadata": {},
   "source": [
    "### Compute the theoretical expected growth rate for every noise setting\n",
    "- Different for each bunch due to different bunch lengths"
   ]
  },
  {
   "cell_type": "code",
   "execution_count": 19,
   "metadata": {},
   "outputs": [
    {
     "name": "stdout",
     "output_type": "stream",
     "text": [
      "Uncertainty on the theoretical expected growths due to the uncertainty of the noise in rad^2/Hz [6.09212125e-14 1.33980136e-11 4.30221744e-13 1.02076677e-12\n",
      " 1.52259864e-12 1.55128882e-12 1.22732682e-11]\n"
     ]
    }
   ],
   "source": [
    "sigma_dey_total_dict = {}\n",
    "for key in keys_b:\n",
    "    myC_PN = cmpt_bunch_length_correction_factor(sigma_phi_dict[key], 'PN')\n",
    "    myC_AN = cmpt_bunch_length_correction_factor(sigma_phi_dict[key], 'AN')\n",
    "    C_PN = betay*(Vcc*frev/(2*Eb))**2*myC_PN\n",
    "    C_AN = betay * (Vcc * frev / (2 * Eb)) ** 2 * myC_AN\n",
    "\n",
    "    sigma_dey_PN = C_PN*sigma_S_PN_rad # σ(dey/dt)_PN, eq.14\n",
    "    sigma_dey_AN = C_AN * sigma_S_AN_rad #σ(dey/dt)_PN, eq.15\n",
    "\n",
    "    sigma_dey_total_dict[key] = np.sqrt(sigma_dey_PN**2+sigma_dey_AN**2) # eq.17\n",
    "\n",
    "print('Uncertainty on the theoretical expected growths due to the uncertainty of the noise in rad^2/Hz {}'.format(sigma_dey_total_dict[key]))\n"
   ]
  },
  {
   "cell_type": "markdown",
   "metadata": {},
   "source": [
    "### Compute the uncertainty of the effective noise, eq.19"
   ]
  },
  {
   "cell_type": "code",
   "execution_count": 21,
   "metadata": {},
   "outputs": [
    {
     "name": "stdout",
     "output_type": "stream",
     "text": [
      "[2.32052056e-13 5.43758050e-11 1.69068379e-12 4.14046654e-12\n",
      " 6.03810110e-12 6.27919611e-12 4.99115216e-11]\n"
     ]
    }
   ],
   "source": [
    "# uncertainty on the effective noise in rad^2/Hz\n",
    "sigma_S_PN_rad__eff_dict ={}\n",
    "for key in keys_b:\n",
    "    myC_PN = cmpt_bunch_length_correction_factor(sigma_phi_dict[key], 'PN')\n",
    "    myC_AN = cmpt_bunch_length_correction_factor(sigma_phi_dict[key], 'AN')\n",
    "\n",
    "    C_PN = betay * (Vcc * frev / (2 * Eb)) ** 2 * myC_PN\n",
    "    C_AN = betay * (Vcc * frev / (2 * Eb)) ** 2 * myC_AN\n",
    "\n",
    "    sigma_dey_PN = C_PN * sigma_S_PN_rad\n",
    "    sigma_dey_AN = C_AN * sigma_S_AN_rad\n",
    "\n",
    "    sigma_S_PN_rad__eff_dict[key] = np.sqrt(sigma_dey_PN**2+sigma_dey_AN**2)/C_PN\n",
    "\n",
    "print(sigma_S_PN_rad__eff_dict[key])"
   ]
  },
  {
   "cell_type": "markdown",
   "metadata": {},
   "source": [
    "### uncertainty on the effective noise in dbc/Hz, eq.22"
   ]
  },
  {
   "cell_type": "code",
   "execution_count": 22,
   "metadata": {},
   "outputs": [
    {
     "name": "stdout",
     "output_type": "stream",
     "text": [
      "Uncertainty for bunch 1 on the effective PN in dBc/Hz [0.77411334 1.60121669 1.10288431 0.91765618 1.37061347 0.50113722\n",
      " 1.22274528]\n"
     ]
    }
   ],
   "source": [
    "sigma_L_PN_db__eff_dict = {}\n",
    "\n",
    "for key in keys_b:\n",
    "    sigma_L_PN_db__eff_dict[key] = np.log10(e)*sigma_S_PN_rad__eff_dict[key]*10/ssb_2_dsb(np.array(effective_PN_dict[key])) # not sure for x10, maybe x5\n",
    "\n",
    "print('Uncertainty for bunch 1 on the effective PN in dBc/Hz {}'.format(sigma_L_PN_db__eff_dict['bunch_1']))\n"
   ]
  },
  {
   "cell_type": "code",
   "execution_count": null,
   "metadata": {},
   "outputs": [],
   "source": []
  }
 ],
 "metadata": {
  "kernelspec": {
   "display_name": "Python 3",
   "language": "python",
   "name": "python3"
  },
  "language_info": {
   "codemirror_mode": {
    "name": "ipython",
    "version": 3
   },
   "file_extension": ".py",
   "mimetype": "text/x-python",
   "name": "python",
   "nbconvert_exporter": "python",
   "pygments_lexer": "ipython3",
   "version": "3.7.3"
  }
 },
 "nbformat": 4,
 "nbformat_minor": 4
}
