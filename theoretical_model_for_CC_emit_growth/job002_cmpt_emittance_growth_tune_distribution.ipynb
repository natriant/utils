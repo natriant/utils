{
 "cells": [
  {
   "cell_type": "markdown",
   "metadata": {},
   "source": [
    "## Compute the emittance growth for white noise case including the contribution of the tune distribution "
   ]
  },
  {
   "cell_type": "markdown",
   "metadata": {},
   "source": [
    "The formulas are based on Eq. (20) and (21) from PhysRevSTAB.18.101001"
   ]
  },
  {
   "cell_type": "markdown",
   "metadata": {},
   "source": [
    "We cosnider:\n",
    "- no dependence on tune distribution\n",
    "- overlapse only with the firt betatron sideband\n",
    "\n",
    "Note: In (20), the noise PSD is sampled twice at +/- the betatron tune. Similarly, in (22), the noise PSD is sampled four times at the two synchrotron sidebands of each of the two betatron sidebands. So, you need a factor of 2 in your expression for phase noise and a factor of 4 for that of amplitude noise (assuming of course that the noise is the same at the those sidebands). by Themis"
   ]
  },
  {
   "cell_type": "code",
   "execution_count": 7,
   "metadata": {},
   "outputs": [],
   "source": [
    "import scipy.integrate as integrate\n",
    "import numpy as np\n",
    "import pickle"
   ]
  },
  {
   "cell_type": "code",
   "execution_count": 17,
   "metadata": {},
   "outputs": [],
   "source": [
    "def emit_growth_phase_noise(betay, Vcc, frev, Eb, CDeltaPhi, PSD_phi, rho_b): \n",
    "    \n",
    "    ey_rate = betay*(Vcc*frev/(2*Eb))**2*CDeltaPhi*PSD_phi\n",
    "    \n",
    "    result = integrate.quad(lambda vb: rho_b(vb), -np.inf, np.inf)\n",
    "    \n",
    "    return 2*result[0]*ey_rate"
   ]
  },
  {
   "cell_type": "code",
   "execution_count": 9,
   "metadata": {},
   "outputs": [],
   "source": [
    "def emit_growth_amplitude_noise(betay, Vcc, frev, Eb, CDeltaA, PSD_A, rho_b):\n",
    "    \n",
    "    ey_rate = betay*(Vcc*frev/(2*Eb))**2*CDeltaA*PSD_A\n",
    "    \n",
    "    result = integrate.quad(lambda vb: rho_b(vb), -np.inf, np.inf)\n",
    "    \n",
    "    \n",
    "    return 4*result[0]*ey_rate"
   ]
  },
  {
   "cell_type": "markdown",
   "metadata": {},
   "source": [
    "### SPS parameters"
   ]
  },
  {
   "cell_type": "code",
   "execution_count": 10,
   "metadata": {},
   "outputs": [
    {
     "name": "stdout",
     "output_type": "stream",
     "text": [
      "PSD phi = 1.6767e-10 rad^2/Hz\n"
     ]
    }
   ],
   "source": [
    "betay = 76 # m\n",
    "# Beam parameters\n",
    "Vcc = 1e6# V\n",
    "frev = 43.45e3 # Hz\n",
    "Eb = 270e9 # eV\n",
    "CDeltaPhi = 0.52 # approx\n",
    "scale_factor = Eb/Vcc # scaling factor to rms noise, σ\n",
    "PSD_phi = 2.3e-21*(scale_factor)**2 # rad^2/Hz\n",
    "print('PSD phi = {} rad^2/Hz'.format(PSD_phi))\n",
    "beta_0 = 0.999999\n",
    "gamma_0 = 287.7"
   ]
  },
  {
   "cell_type": "markdown",
   "metadata": {},
   "source": [
    "### Function for tune distribution"
   ]
  },
  {
   "cell_type": "code",
   "execution_count": 11,
   "metadata": {},
   "outputs": [],
   "source": [
    "def tune_distribution(x, mu, b):\n",
    "    if x >= 0:\n",
    "        return (1/b) * np.exp(-(x-mu)/b)\n",
    "    if x < 0:\n",
    "        return 0"
   ]
  },
  {
   "cell_type": "code",
   "execution_count": 12,
   "metadata": {},
   "outputs": [],
   "source": [
    "rho_b = lambda vb : tune_distribution(vb, 0.18, 1/0.00146)"
   ]
  },
  {
   "cell_type": "markdown",
   "metadata": {},
   "source": [
    "### Call the function computing the emittance"
   ]
  },
  {
   "cell_type": "code",
   "execution_count": 16,
   "metadata": {},
   "outputs": [
    {
     "name": "stdout",
     "output_type": "stream",
     "text": [
      "1.0002628345349438\n"
     ]
    }
   ],
   "source": [
    "ey_geom_rate_phi = emit_growth_phase_noise(betay, Vcc, frev, Eb, CDeltaPhi, PSD_phi, rho_b)\n",
    "ey_norm_rate_phi = ey_geom_rate_phi*beta_0*gamma_0"
   ]
  },
  {
   "cell_type": "code",
   "execution_count": 14,
   "metadata": {},
   "outputs": [
    {
     "name": "stdout",
     "output_type": "stream",
     "text": [
      "Phase noise with PSD=1.6767e-10 rad^2/Hz: dey/dt normalised = 24.6915241092181 nm/s\n"
     ]
    }
   ],
   "source": [
    "print('Phase noise with PSD={} rad^2/Hz: dey/dt normalised = {} nm/s'.format(PSD_phi, ey_norm_rate_phi*1e9))"
   ]
  },
  {
   "cell_type": "code",
   "execution_count": null,
   "metadata": {},
   "outputs": [],
   "source": []
  },
  {
   "cell_type": "code",
   "execution_count": null,
   "metadata": {},
   "outputs": [],
   "source": []
  },
  {
   "cell_type": "code",
   "execution_count": null,
   "metadata": {},
   "outputs": [],
   "source": []
  },
  {
   "cell_type": "code",
   "execution_count": null,
   "metadata": {},
   "outputs": [],
   "source": []
  },
  {
   "cell_type": "code",
   "execution_count": null,
   "metadata": {},
   "outputs": [],
   "source": []
  },
  {
   "cell_type": "code",
   "execution_count": null,
   "metadata": {},
   "outputs": [],
   "source": []
  }
 ],
 "metadata": {
  "kernelspec": {
   "display_name": "Python 3",
   "language": "python",
   "name": "python3"
  },
  "language_info": {
   "codemirror_mode": {
    "name": "ipython",
    "version": 3
   },
   "file_extension": ".py",
   "mimetype": "text/x-python",
   "name": "python",
   "nbconvert_exporter": "python",
   "pygments_lexer": "ipython3",
   "version": "3.7.3"
  }
 },
 "nbformat": 4,
 "nbformat_minor": 4
}
