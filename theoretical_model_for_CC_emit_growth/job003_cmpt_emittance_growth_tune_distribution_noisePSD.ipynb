{
 "cells": [
  {
   "cell_type": "markdown",
   "metadata": {},
   "source": [
    "## Compute the emittance growth for white noise case including the contribution of the tune distribution "
   ]
  },
  {
   "cell_type": "code",
   "execution_count": 1,
   "metadata": {},
   "outputs": [],
   "source": [
    "import scipy.integrate as integrate\n",
    "import numpy as np\n",
    "import pickle\n",
    "import matplotlib.pyplot as plt"
   ]
  },
  {
   "cell_type": "code",
   "execution_count": 85,
   "metadata": {},
   "outputs": [],
   "source": [
    "def emit_growth_phase_noise(betay, Vcc, frev, Eb, CDeltaPhi, noise_psd, rho_b): \n",
    "    \n",
    "    ey_rate = betay*(Vcc*frev/(2*Eb))**2*CDeltaPhi\n",
    "    \n",
    "    \n",
    "    #result = integrate.quad(lambda vb: noise_psd(vb*frev)*rho_b(vb), 0.1, 2)\n",
    "    x = np.linspace(0.,1, 100000)\n",
    "    dx = x[1]-x[0]\n",
    "    y = np.array(noise_psd(x*frev)*rho_b(x))\n",
    "    result = integrate.trapz(y,dx=dx)\n",
    "    \n",
    "    print(result)\n",
    "    \n",
    "    print(2*ey_rate)\n",
    "    return result*ey_rate"
   ]
  },
  {
   "cell_type": "code",
   "execution_count": 3,
   "metadata": {},
   "outputs": [],
   "source": [
    "def expon_distribution(x, mu, b): \n",
    "    return np.heaviside(x-mu, 1)*(1/b) * np.exp(-(x-mu)/b)\n",
    "  "
   ]
  },
  {
   "cell_type": "code",
   "execution_count": 26,
   "metadata": {},
   "outputs": [
    {
     "data": {
      "text/plain": [
       "(1.0000000003544283, 1.3045775827781477e-09)"
      ]
     },
     "execution_count": 26,
     "metadata": {},
     "output_type": "execute_result"
    }
   ],
   "source": [
    "integrate.quad(lambda vb: rho_b(vb), 0.1, 2)"
   ]
  },
  {
   "cell_type": "code",
   "execution_count": 27,
   "metadata": {},
   "outputs": [],
   "source": [
    "def gaussian_distribution(x, mu, c, alpha):\n",
    "    return alpha*np.exp(-(x-mu)**2/(2*c**2))"
   ]
  },
  {
   "cell_type": "markdown",
   "metadata": {},
   "source": [
    "### SPS parameters"
   ]
  },
  {
   "cell_type": "code",
   "execution_count": 28,
   "metadata": {},
   "outputs": [],
   "source": [
    "betay = 76 # m\n",
    "# Beam parameters\n",
    "Vcc = 1e6# V\n",
    "frev = 43.45e3 # Hz\n",
    "Eb = 270e9 # eV\n",
    "CDeltaPhi = 0.52 # approx\n",
    "scale_factor = Eb/Vcc # scaling factor to rms noise, σ\n",
    "beta_0 = 0.999999\n",
    "gamma_0 = 287.7"
   ]
  },
  {
   "cell_type": "markdown",
   "metadata": {},
   "source": [
    "### Function for tune distribution"
   ]
  },
  {
   "cell_type": "code",
   "execution_count": 48,
   "metadata": {},
   "outputs": [],
   "source": [
    "rho_b = lambda vb : expon_distribution(vb, 0.18, 0.00146)"
   ]
  },
  {
   "cell_type": "markdown",
   "metadata": {},
   "source": [
    "### Compute the PSD of the signal"
   ]
  },
  {
   "cell_type": "code",
   "execution_count": 88,
   "metadata": {},
   "outputs": [],
   "source": [
    "PSD_vb = 3.2e-22 #1.58e-20  # rad^2/Hz\n",
    "alpha = PSD_vb*(scale_factor)**2 # scaled to the simulations\n",
    "mu = 0.18*frev\n",
    "c = 0.06*frev\n",
    "noise_psd = lambda f : gaussian_distribution(f, mu, c, alpha)"
   ]
  },
  {
   "cell_type": "code",
   "execution_count": 89,
   "metadata": {},
   "outputs": [
    {
     "data": {
      "text/plain": [
       "2.3327999999999998e-11"
      ]
     },
     "execution_count": 89,
     "metadata": {},
     "output_type": "execute_result"
    }
   ],
   "source": [
    "noise_psd(7821) # test psd tat the betatron sideband"
   ]
  },
  {
   "cell_type": "code",
   "execution_count": 90,
   "metadata": {},
   "outputs": [
    {
     "data": {
      "text/plain": [
       "[<matplotlib.lines.Line2D at 0x7f2cf0948e10>]"
      ]
     },
     "execution_count": 90,
     "metadata": {},
     "output_type": "execute_result"
    },
    {
     "data": {
      "image/png": "[encoded data removed]",
      "text/plain": [
       "<Figure size 432x288 with 1 Axes>"
      ]
     },
     "metadata": {
      "needs_background": "light"
     },
     "output_type": "display_data"
    }
   ],
   "source": [
    "x = np.linspace(0.15,0.2, 10000)\n",
    "plt.plot(x, rho_b(x))\n",
    "plt.plot(x, 1e11*noise_psd(x*frev))\n",
    "plt.plot(x, rho_b(x)*1e9*noise_psd(x*frev))"
   ]
  },
  {
   "cell_type": "markdown",
   "metadata": {},
   "source": [
    "### Call the function computing the emittance"
   ]
  },
  {
   "cell_type": "code",
   "execution_count": 91,
   "metadata": {},
   "outputs": [
    {
     "name": "stdout",
     "output_type": "stream",
     "text": [
      "2.3365352444443795e-11\n",
      "0.5117277558299039\n"
     ]
    }
   ],
   "source": [
    "ey_geom_rate_phi = emit_growth_phase_noise(betay, Vcc, frev, Eb, CDeltaPhi, noise_psd, rho_b)\n",
    "ey_norm_rate_phi = ey_geom_rate_phi*beta_0*gamma_0"
   ]
  },
  {
   "cell_type": "code",
   "execution_count": 87,
   "metadata": {},
   "outputs": [
    {
     "name": "stdout",
     "output_type": "stream",
     "text": [
      "dey/dt = 84.92349329646109 nm/s\n"
     ]
    }
   ],
   "source": [
    "print('dey/dt = {} nm/s'.format(ey_norm_rate_phi*1e9))"
   ]
  },
  {
   "cell_type": "code",
   "execution_count": 92,
   "metadata": {},
   "outputs": [
    {
     "name": "stdout",
     "output_type": "stream",
     "text": [
      "dey/dt = 1.7199694844852875 nm/s\n"
     ]
    }
   ],
   "source": [
    "print('dey/dt = {} nm/s'.format(ey_norm_rate_phi*1e9))"
   ]
  },
  {
   "cell_type": "markdown",
   "metadata": {},
   "source": [
    "print('dey/dt = {} nm/s'.format(ey_norm_rate_phi*1e9))"
   ]
  },
  {
   "cell_type": "code",
   "execution_count": null,
   "metadata": {},
   "outputs": [],
   "source": []
  },
  {
   "cell_type": "code",
   "execution_count": null,
   "metadata": {},
   "outputs": [],
   "source": []
  },
  {
   "cell_type": "code",
   "execution_count": null,
   "metadata": {},
   "outputs": [],
   "source": []
  }
 ],
 "metadata": {
  "kernelspec": {
   "display_name": "Python 3",
   "language": "python",
   "name": "python3"
  },
  "language_info": {
   "codemirror_mode": {
    "name": "ipython",
    "version": 3
   },
   "file_extension": ".py",
   "mimetype": "text/x-python",
   "name": "python",
   "nbconvert_exporter": "python",
   "pygments_lexer": "ipython3",
   "version": "3.7.3"
  }
 },
 "nbformat": 4,
 "nbformat_minor": 4
}
