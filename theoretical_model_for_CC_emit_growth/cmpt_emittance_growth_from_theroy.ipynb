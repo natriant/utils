{
 "cells": [
  {
   "cell_type": "markdown",
   "metadata": {},
   "source": [
    "The formulas are based on Eq. (20) and (21) from PhysRevSTAB.18.101001"
   ]
  },
  {
   "cell_type": "markdown",
   "metadata": {},
   "source": [
    "We cosnider:\n",
    "- no dependence on tune distribution\n",
    "- overlapse only with the firt betatron sideband\n",
    "\n",
    "Note: In (20), the noise PSD is sampled twice at +/- the betatron tune. Similarly, in (22), the noise PSD is sampled four times at the two synchrotron sidebands of each of the two betatron sidebands. So, you need a factor of 2 in your expression for phase noise and a factor of 4 for that of amplitude noise (assuming of course that the noise is the same at the those sidebands). by Themis"
   ]
  },
  {
   "cell_type": "code",
   "execution_count": 1,
   "metadata": {},
   "outputs": [],
   "source": [
    "def emit_growth_phase_noise(betay, Vcc, frev, Eb, CDeltaPhi, PSD_phi):\n",
    "    ey_rate = betay*(Vcc*frev/(2*Eb))**2*CDeltaPhi*PSD_phi\n",
    "    return 2*ey_rate"
   ]
  },
  {
   "cell_type": "code",
   "execution_count": 2,
   "metadata": {},
   "outputs": [],
   "source": [
    "def emit_growth_amplitude_noise(betay, Vcc, frev, Eb, CDeltaA, PSD_A):\n",
    "    ey_rate = betay*(Vcc*frev/(2*Eb))**2*CDeltaA*PSD_A\n",
    "    return 4*ey_rate"
   ]
  },
  {
   "cell_type": "markdown",
   "metadata": {},
   "source": [
    "### HL-LHC parameters"
   ]
  },
  {
   "cell_type": "code",
   "execution_count": 3,
   "metadata": {},
   "outputs": [],
   "source": [
    "betay = 4000 # m\n",
    "# Beam parameters\n",
    "Vcc = 3e6 # V\n",
    "frev = 11245 # Hz\n",
    "Eb = 7e12 # eV\n",
    "CDeltaPhi = 0.72 # approx, from Fig.3\n",
    "CDeltaA = 0.14 # approx, from Fig,4\n",
    "PSD_phi = 0.14e-10 # PSD at vb rad^2/Hz\n",
    "PSD_A = 0.33e-10 # PSD at vb 1/Hz\n",
    "beta_0 = 0.999999\n",
    "gamma_0 = 7460"
   ]
  },
  {
   "cell_type": "code",
   "execution_count": 4,
   "metadata": {},
   "outputs": [],
   "source": [
    "ey_geom_rate_phi = emit_growth_phase_noise(betay, Vcc, frev, Eb, CDeltaPhi, PSD_phi)\n",
    "ey_norm_rate_phi = ey_geom_rate_phi*beta_0*gamma_0"
   ]
  },
  {
   "cell_type": "code",
   "execution_count": 5,
   "metadata": {},
   "outputs": [],
   "source": [
    "ey_geom_rate_A = emit_growth_amplitude_noise(betay, Vcc, frev, Eb, CDeltaA, PSD_A)\n",
    "ey_norm_rate_A = ey_geom_rate_A*beta_0*gamma_0"
   ]
  },
  {
   "cell_type": "code",
   "execution_count": 6,
   "metadata": {},
   "outputs": [
    {
     "name": "stdout",
     "output_type": "stream",
     "text": [
      "Phase noise with PSD=1.4e-11 rad^2/Hz: dey/dt normalised = 3.492965289042646 nm/s\n"
     ]
    }
   ],
   "source": [
    "print('Phase noise with PSD={} rad^2/Hz: dey/dt normalised = {} nm/s'.format(PSD_phi, ey_norm_rate_phi*1e9))"
   ]
  },
  {
   "cell_type": "code",
   "execution_count": 7,
   "metadata": {},
   "outputs": [
    {
     "name": "stdout",
     "output_type": "stream",
     "text": [
      "Amplitude noise with PSD=3.3e-11 1/Hz: dey/dt normalised = 3.201884848289093 nm/s\n"
     ]
    }
   ],
   "source": [
    "print('Amplitude noise with PSD={} 1/Hz: dey/dt normalised = {} nm/s'.format(PSD_A, ey_norm_rate_A*1e9))"
   ]
  },
  {
   "cell_type": "markdown",
   "metadata": {},
   "source": [
    "### SPS parameters"
   ]
  },
  {
   "cell_type": "code",
   "execution_count": 39,
   "metadata": {},
   "outputs": [
    {
     "name": "stdout",
     "output_type": "stream",
     "text": [
      "PSD phi = 1.6777905638665135e-10 rad^2/Hz\n"
     ]
    }
   ],
   "source": [
    "betay = 76 # m\n",
    "# Beam parameters\n",
    "Vcc = 1e6# V\n",
    "frev = 43.45e3 # Hz\n",
    "Eb = 270e9 # eV\n",
    "CDeltaPhi = 0.52 # approx\n",
    "A = 1e-8 # rms kick in the simulation\n",
    "scale_factor = Eb/Vcc # scaling factor to rms noise, σ\n",
    "A = 1e-8 \n",
    "PSD_phi = (A*scale_factor)**2/frev\n",
    "print('PSD phi = {} rad^2/Hz'.format(PSD_phi))\n",
    "beta_0 = 0.999999\n",
    "gamma_0 = 287.7\n",
    "PSD_A = (A*scale_factor)**2/frev\n",
    "CDeltaA = 0.24 # approx"
   ]
  },
  {
   "cell_type": "code",
   "execution_count": 40,
   "metadata": {},
   "outputs": [],
   "source": [
    "ey_geom_rate_phi = emit_growth_phase_noise(betay, Vcc, frev, Eb, CDeltaPhi, PSD_phi)\n",
    "ey_norm_rate_phi = ey_geom_rate_phi*beta_0*gamma_0"
   ]
  },
  {
   "cell_type": "code",
   "execution_count": 41,
   "metadata": {},
   "outputs": [],
   "source": [
    "ey_geom_rate_A = emit_growth_amplitude_noise(betay, Vcc, frev, Eb, CDeltaA, PSD_A)\n",
    "ey_norm_rate_A = ey_geom_rate_A*beta_0*gamma_0"
   ]
  },
  {
   "cell_type": "code",
   "execution_count": 42,
   "metadata": {},
   "outputs": [
    {
     "name": "stdout",
     "output_type": "stream",
     "text": [
      "Phase noise with PSD=1.6777905638665135e-10 rad^2/Hz: dey/dt normalised = 24.70109173888356 nm/s\n"
     ]
    }
   ],
   "source": [
    "print('Phase noise with PSD={} rad^2/Hz: dey/dt normalised = {} nm/s'.format(PSD_phi, ey_norm_rate_phi*1e9))"
   ]
  },
  {
   "cell_type": "code",
   "execution_count": 43,
   "metadata": {},
   "outputs": [
    {
     "name": "stdout",
     "output_type": "stream",
     "text": [
      "Amplitude noise with PSD=1.6777905638665135e-10 1/Hz: dey/dt normalised = 22.801007758969437 nm/s\n"
     ]
    }
   ],
   "source": [
    "print('Amplitude noise with PSD={} 1/Hz: dey/dt normalised = {} nm/s'.format(PSD_A, ey_norm_rate_A*1e9))"
   ]
  },
  {
   "cell_type": "code",
   "execution_count": null,
   "metadata": {},
   "outputs": [],
   "source": []
  },
  {
   "cell_type": "code",
   "execution_count": null,
   "metadata": {},
   "outputs": [],
   "source": []
  },
  {
   "cell_type": "code",
   "execution_count": null,
   "metadata": {},
   "outputs": [],
   "source": []
  }
 ],
 "metadata": {
  "kernelspec": {
   "display_name": "Python 3",
   "language": "python",
   "name": "python3"
  },
  "language_info": {
   "codemirror_mode": {
    "name": "ipython",
    "version": 3
   },
   "file_extension": ".py",
   "mimetype": "text/x-python",
   "name": "python",
   "nbconvert_exporter": "python",
   "pygments_lexer": "ipython3",
   "version": "3.7.3"
  }
 },
 "nbformat": 4,
 "nbformat_minor": 4
}
