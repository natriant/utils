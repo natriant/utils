{
 "cells": [
  {
   "cell_type": "markdown",
   "metadata": {},
   "source": [
    "### The objective of this script is to generate the sequence of noise kicks, that are used for the simulations with Sixtracklib and PyHEADTAIL, such as they correspond to a measured spectrum.\n",
    "\n",
    "**Methodology**\n",
    "1) Load the measure spectrum, power spectral density in (dBc/Hz)\n",
    "\n",
    "2) Convert the power spectral density in rad^2/Hz\n",
    "\n",
    "3) Inverse Fourier transform of the square root of the noise power. Follow the procedure in PSD_to_NoiseSignal.ipynb\n",
    "\n",
    "4) Scaling factor to the CC kick (both for RFMultipole in Sixtracklib and the momentum kick in PyHEADTAIL\n",
    "\n",
    "5) Sanity check: Compute and plot the PSD of the resulted signal. Is it the same with the measured one?"
   ]
  },
  {
   "cell_type": "code",
   "execution_count": 64,
   "metadata": {},
   "outputs": [],
   "source": [
    "import numpy as np\n",
    "import pandas as pd\n",
    "import pickle as pkl\n",
    "import matplotlib.pyplot as plt"
   ]
  },
  {
   "cell_type": "code",
   "execution_count": 65,
   "metadata": {},
   "outputs": [],
   "source": [
    "params = {'legend.fontsize': 16,\n",
    "          'axes.labelsize': 17,\n",
    "          'xtick.labelsize': 17,\n",
    "          'ytick.labelsize': 17}\n",
    "\n",
    "plt.rc('text', usetex=False)\n",
    "plt.rcParams.update(params)"
   ]
  },
  {
   "cell_type": "markdown",
   "metadata": {},
   "source": [
    "1) Load the data in a data frame and make them numpy.array for easier analysis"
   ]
  },
  {
   "cell_type": "code",
   "execution_count": 66,
   "metadata": {},
   "outputs": [],
   "source": [
    "df = pd.read_csv(\"coast3EX-10DBm.csv\")"
   ]
  },
  {
   "cell_type": "code",
   "execution_count": 67,
   "metadata": {},
   "outputs": [
    {
     "data": {
      "text/html": [
       "<div>\n",
       "<style scoped>\n",
       "    .dataframe tbody tr th:only-of-type {\n",
       "        vertical-align: middle;\n",
       "    }\n",
       "\n",
       "    .dataframe tbody tr th {\n",
       "        vertical-align: top;\n",
       "    }\n",
       "\n",
       "    .dataframe thead th {\n",
       "        text-align: right;\n",
       "    }\n",
       "</style>\n",
       "<table border=\"1\" class=\"dataframe\">\n",
       "  <thead>\n",
       "    <tr style=\"text-align: right;\">\n",
       "      <th></th>\n",
       "      <th>Offset Frequency (Hz)</th>\n",
       "      <th>Phase Noise (dBc/Hz)</th>\n",
       "    </tr>\n",
       "  </thead>\n",
       "  <tbody>\n",
       "    <tr>\n",
       "      <th>0</th>\n",
       "      <td>1000.000000</td>\n",
       "      <td>-103.746045</td>\n",
       "    </tr>\n",
       "    <tr>\n",
       "      <th>1</th>\n",
       "      <td>1018.009751</td>\n",
       "      <td>-103.823889</td>\n",
       "    </tr>\n",
       "    <tr>\n",
       "      <th>2</th>\n",
       "      <td>1036.343854</td>\n",
       "      <td>-104.874646</td>\n",
       "    </tr>\n",
       "    <tr>\n",
       "      <th>3</th>\n",
       "      <td>1055.008148</td>\n",
       "      <td>-104.950599</td>\n",
       "    </tr>\n",
       "    <tr>\n",
       "      <th>4</th>\n",
       "      <td>1074.008583</td>\n",
       "      <td>-105.575700</td>\n",
       "    </tr>\n",
       "    <tr>\n",
       "      <th>...</th>\n",
       "      <td>...</td>\n",
       "      <td>...</td>\n",
       "    </tr>\n",
       "    <tr>\n",
       "      <th>383</th>\n",
       "      <td>931091.255809</td>\n",
       "      <td>-144.238890</td>\n",
       "    </tr>\n",
       "    <tr>\n",
       "      <th>384</th>\n",
       "      <td>947859.977652</td>\n",
       "      <td>-143.591741</td>\n",
       "    </tr>\n",
       "    <tr>\n",
       "      <th>385</th>\n",
       "      <td>964930.700003</td>\n",
       "      <td>-143.434868</td>\n",
       "    </tr>\n",
       "    <tr>\n",
       "      <th>386</th>\n",
       "      <td>982308.861817</td>\n",
       "      <td>-143.406605</td>\n",
       "    </tr>\n",
       "    <tr>\n",
       "      <th>387</th>\n",
       "      <td>1000000.000000</td>\n",
       "      <td>-143.759454</td>\n",
       "    </tr>\n",
       "  </tbody>\n",
       "</table>\n",
       "<p>388 rows × 2 columns</p>\n",
       "</div>"
      ],
      "text/plain": [
       "     Offset Frequency (Hz)  Phase Noise (dBc/Hz)\n",
       "0              1000.000000           -103.746045\n",
       "1              1018.009751           -103.823889\n",
       "2              1036.343854           -104.874646\n",
       "3              1055.008148           -104.950599\n",
       "4              1074.008583           -105.575700\n",
       "..                     ...                   ...\n",
       "383          931091.255809           -144.238890\n",
       "384          947859.977652           -143.591741\n",
       "385          964930.700003           -143.434868\n",
       "386          982308.861817           -143.406605\n",
       "387         1000000.000000           -143.759454\n",
       "\n",
       "[388 rows x 2 columns]"
      ]
     },
     "execution_count": 67,
     "metadata": {},
     "output_type": "execute_result"
    }
   ],
   "source": [
    "df"
   ]
  },
  {
   "cell_type": "markdown",
   "metadata": {},
   "source": [
    "2) Convert the power spectral density in rad^2/Hz\n",
    "\n",
    "\\begin{equation}\n",
    "S(f) = 2 \\cdot 10^{L(f)/10}\n",
    "\\end{equation}\n",
    "\n",
    "where $\\rm S(f)$ the power spectral density in $ \\rm rad^2/Hz$ and $\\rm L(f)$ the measurement in $ \\rm dBc/Hz$.\n",
    "More in the presentation of 8July2020."
   ]
  },
  {
   "cell_type": "code",
   "execution_count": 68,
   "metadata": {},
   "outputs": [],
   "source": [
    "psd = 2*10**(np.array(df['Phase Noise (dBc/Hz)'])/10) # rad^2/Hz, type: numpy.array\n",
    "freq = np.array(df['Offset Frequency (Hz)'])"
   ]
  },
  {
   "cell_type": "markdown",
   "metadata": {},
   "source": [
    "#### Linear interpolation\n",
    "\n",
    "The measured data are equally spaced in logarithmic scale. We need to do a linear interpolation on the poewer spectral density to the wanted frequency array. \n",
    "\n",
    "- Sampling: dt = 1 (sequence of noise kicks applied every turn)\n",
    "- Sampling frequency: 1/dt\n",
    "- Length of signal: N, equals the turns of the simulations"
   ]
  },
  {
   "cell_type": "code",
   "execution_count": 69,
   "metadata": {},
   "outputs": [],
   "source": [
    "dt = 1\n",
    "df = 1/dt\n",
    "N = 1e5/2\n",
    "freq_3 = np.arange(0, N)*df\n",
    "\n",
    "xx = np.interp(freq_3, freq, psd) # linear interpolation of the psd"
   ]
  },
  {
   "cell_type": "code",
   "execution_count": 126,
   "metadata": {},
   "outputs": [],
   "source": [
    "# Convert the noise power to fft amplitude, A(f(k))\n",
    "A = np.sqrt(xx*df*(N**2))\n",
    "A[0] = 0 # set the 0 component to 0\n",
    "A[freq_3 > 43.45e3] = np.sqrt(1e-15*df*N**2)  # For frequencies higher than the revolution frequency set very close to 0\n",
    "# optional, only if you want to set the frequencies from 0-1kHz close to 0. \n",
    "A[freq_3 < 1e3] = np.sqrt(1e-15*df*N**2) "
   ]
  },
  {
   "cell_type": "code",
   "execution_count": 127,
   "metadata": {},
   "outputs": [],
   "source": [
    "def psd_to_noiseKicks(A, freq_3):\n",
    "    \n",
    "    #Give each spectral component a random phase, uniformly distributed between 0 and the frange, Phi(f(k))\n",
    "    phi = np.exp(1j*2*np.pi*np.random.uniform(0,1,len(freq_3)))\n",
    "    # Construct the FFT signal \n",
    "    phaseerrorsfft = A*phi\n",
    "    # complex conjugate of all but the first element\n",
    "    phaseerrorsfft_conj = np.conj(phaseerrorsfft[1:])\n",
    "    # Reverse the list\n",
    "    reversed_list = phaseerrorsfft_conj[::-1]\n",
    "    # merge them\n",
    "    merged_list = list(phaseerrorsfft) + list(reversed_list)\n",
    "    merged_list[0] = 0\n",
    "    phaseerrors = np.real(np.fft.ifft(merged_list))\n",
    "    \n",
    "    return phaseerrors"
   ]
  },
  {
   "cell_type": "markdown",
   "metadata": {},
   "source": [
    "### Save the phase error kicks in a pickle file"
   ]
  },
  {
   "cell_type": "code",
   "execution_count": 128,
   "metadata": {},
   "outputs": [
    {
     "name": "stdout",
     "output_type": "stream",
     "text": [
      "100000\n",
      "100000\n",
      "100000\n",
      "100000\n",
      "100000\n"
     ]
    }
   ],
   "source": [
    "for i in range(5):\n",
    "    my_errors = list(psd_to_noiseKicks(A, freq_3))\n",
    "    my_errors.append(my_errors[-1]) # add two times the last element\n",
    "    print(len(my_errors))\n",
    "    with open('./output/PN_upto1KzCloseto0_{}.pkl'.format(i), 'wb') as f:\n",
    "        pkl.dump(my_errors, f)"
   ]
  },
  {
   "cell_type": "code",
   "execution_count": null,
   "metadata": {},
   "outputs": [],
   "source": []
  }
 ],
 "metadata": {
  "kernelspec": {
   "display_name": "Python 3",
   "language": "python",
   "name": "python3"
  },
  "language_info": {
   "codemirror_mode": {
    "name": "ipython",
    "version": 3
   },
   "file_extension": ".py",
   "mimetype": "text/x-python",
   "name": "python",
   "nbconvert_exporter": "python",
   "pygments_lexer": "ipython3",
   "version": "3.7.3"
  }
 },
 "nbformat": 4,
 "nbformat_minor": 4
}
