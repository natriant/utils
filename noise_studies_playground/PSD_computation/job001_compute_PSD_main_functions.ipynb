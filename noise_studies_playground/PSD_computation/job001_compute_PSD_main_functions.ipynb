{
 "cells": [
  {
   "cell_type": "markdown",
   "metadata": {},
   "source": [
    "###  **Compute the total power and the PSD of noise signal**\n",
    "\n",
    "Some defintions\n",
    "\n",
    "1) **Power spectral density (PSD)** is a measure of power per unit frequency, with units in rad^2/Hz or V^2/Hz for phase and amplitude noise respectively. \n",
    "\n",
    "\n",
    "2) The **total noise power, P,** is the integrated noise over the whole spectrum. E.g. If we have white noise of PSD α over a frequency band from 0 to 43 kHZ (the SPS revolution frequency). The total noise power would be α*43e3. For a statistical process the total noise power equals the variance (σ^2).\n",
    "\n",
    "\n",
    "- In our example the noise signal is a sequence of the noise kicks over turns.\n",
    "- Thererfore, it is a discrete signal over time, $y_n$.\n",
    "- The signal sampled at discrete times $y_n=y(n \\Delta t)$ for a total measurement period of $T=N\\Delta t$.\n",
    "- $1 \\leq n \\leq N$. In other words N is the length of our signal.\n",
    "\n",
    "The total noise power is given by:\n",
    "\n",
    "\\begin{equation}\n",
    "P = \\frac{\\Delta t}{T} \\sum_{n=0}^{N-1} \\mid y_n \\mid ^2 = \\frac{1}{N^2} \\sum_{n=0}^{N-1} \\mid Y_k \\mid ^2 \n",
    "\\end{equation}\n",
    "\n",
    "where $Y_k$ is the discrete Fourier transform of $y_n$. Note that the two terms are equal as a result of the Parseval's theorem.\n",
    "\n",
    "Note that in the expressions above the transform $Y_k$ is not in unitary form i.e. not normalised with $1 / \\sqrt{N}$. Specifically:\n",
    "\n",
    "\\begin{equation}\n",
    "Y_k = \\sum_{n=0}^{N-1} y_n e^{-\\frac{i 2\\pi}{N} kn}\n",
    "\\end{equation}\n",
    "\n",
    "which is also the result of the **numpy.fft.fft** function.\n",
    "\n",
    "\n",
    "The PSD is given by:\n",
    "\n",
    "\\begin{equation}\n",
    "S_{xx} = \\frac{\\mid Y_k \\mid ^2 }{\\Delta f N^2} \n",
    "\\end{equation}\n",
    "\n",
    "where $\\Delta f$ is the sampling frequency.\n",
    "\n",
    "**Note:** To obtain representative values of the power spectral density one should use the average of 1000 or more $\\mid Y_k \\mid ^2$."
   ]
  },
  {
   "cell_type": "code",
   "execution_count": 4,
   "metadata": {},
   "outputs": [],
   "source": [
    "import numpy as np\n",
    "import matplotlib.pyplot as plt"
   ]
  },
  {
   "cell_type": "markdown",
   "metadata": {},
   "source": [
    "#### Function for creating the noise signal"
   ]
  },
  {
   "cell_type": "code",
   "execution_count": 5,
   "metadata": {},
   "outputs": [],
   "source": [
    "def create_noise(N, colored=False):        \n",
    "    if colored: # A.Wolski's method\n",
    "        phi_0 = 1e-8  # amplitude of noise, aka stdPhaseNoise \n",
    "        Delta_psi = 0.18 # the peak of the spectrum\n",
    "\n",
    "        psi_t_list = []\n",
    "        psi_t = 0\n",
    "\n",
    "        # parameters for ksi\n",
    "        mean = 0.0\n",
    "        std = 0.06\n",
    "        for i in range(N):\n",
    "            psi_t_list.append(psi_t)\n",
    "            ksi = np.random.normal(mean, std)  # different seed on each turn\n",
    "            psi_t = psi_t + 2 * np.pi * Delta_psi + 2 * np.pi * ksi\n",
    "\n",
    "        # Construct the noise signal\n",
    "        y = phi_0 * np.cos(psi_t_list)\n",
    "        \n",
    "    else:\n",
    "        mu, stdPhaseNoise = 0, 1e-8\n",
    "        y = np.random.normal(mu, stdPhaseNoise, N)\n",
    "    \n",
    "    return y"
   ]
  },
  {
   "cell_type": "code",
   "execution_count": 6,
   "metadata": {},
   "outputs": [],
   "source": [
    "def compute_total_power(N, frev, noise_flag):\n",
    "    time = np.arange(N)/frev # convert from turns to time\n",
    "    Dt = time[1]-time[0] # sampling (s)\n",
    "    freq = np.linspace(0, N/time[-1], N)\n",
    "    Df = freq[1]-freq[0]\n",
    "    \n",
    "    \n",
    "    y_noise = create_noise(N, noise_flag)\n",
    "    fft = np.fft.fft(y_noise)\n",
    "    \n",
    "    \n",
    "    # the two methods should give the same due to the Parsheval's theorem\n",
    "    total_power = np.sum(y_noise**2)*Dt/time[-1] # rad^2 or V^2 for phase and amplitude noise respectively\n",
    "    total_power_fft = np.sum(np.abs(fft)**2)/N**2 # rad^2 or V^2\n",
    "    var = np.var(y_noise) # it should be equal to the total power\n",
    "    \n",
    "    return total_power, total_power_fft, var"
   ]
  },
  {
   "cell_type": "code",
   "execution_count": 52,
   "metadata": {},
   "outputs": [],
   "source": [
    "def compute_PSD(N, frev, noise_flag):\n",
    "    time = np.arange(N)/frev # convert from turns to time\n",
    "    Dt = time[1]-time[0] # sampling (s)\n",
    "    freq = np.linspace(0, N/time[-1], N)\n",
    "    Df = freq[1]-freq[0]\n",
    "   \n",
    "    #### To obtain a more precise value of PSD, we use the average of 10000 FFTs\n",
    "    fft_list = []\n",
    "    for i in range(1000):\n",
    "        y_noise = create_noise(N, noise_flag)\n",
    "        fft = np.fft.fft(y_noise)\n",
    "        fft_list.append(fft)\n",
    "        \n",
    "    mean_dft = np.mean(np.abs(fft_list)**2, axis=0)\n",
    "    PSD = mean_dft/(Df*N**2) # power spectral density\n",
    "    \n",
    "    \n",
    "    # compute the PSD at the frequency of interest. \n",
    "    # In our case in the betatron frequency, vb. \n",
    "    # find the closest value to the vb at the frequency list\n",
    "    vb = 0.18\n",
    "    closest_to_vb = freq[min(range(len(freq)), key=lambda i: abs(freq[i] - vb*frev))] # Hz\n",
    "    PSD_vb_index = [i for i in range(len(freq)) if freq[i] == closest_to_vb]\n",
    "    PSD_vb = PSD[PSD_vb_index] # rad^2/Hz or V^2/Hz\n",
    "    \n",
    "    \n",
    "    return PSD, freq, PSD_vb"
   ]
  },
  {
   "cell_type": "markdown",
   "metadata": {},
   "source": [
    "#### Define sampling parameters"
   ]
  },
  {
   "cell_type": "code",
   "execution_count": 43,
   "metadata": {},
   "outputs": [],
   "source": [
    "N = 1000 # length of the signal\n",
    "frev = 43.45e3 # the revolution frequency of SPS\n",
    "noise_flag = False # False for white noise, True for colroed noise"
   ]
  },
  {
   "cell_type": "code",
   "execution_count": 44,
   "metadata": {},
   "outputs": [],
   "source": [
    "P1, P2, var = compute_total_power(N, frev, noise_flag)"
   ]
  },
  {
   "cell_type": "code",
   "execution_count": 45,
   "metadata": {},
   "outputs": [
    {
     "name": "stdout",
     "output_type": "stream",
     "text": [
      "1.0357726400599371e-16 1.0347368674198771e-16 1.0343368707686447e-16\n"
     ]
    }
   ],
   "source": [
    "print(P1, P2, var)"
   ]
  },
  {
   "cell_type": "code",
   "execution_count": 50,
   "metadata": {},
   "outputs": [],
   "source": [
    "PSD, freq, PSD_vb = compute_PSD(N, frev, noise_flag)"
   ]
  },
  {
   "cell_type": "code",
   "execution_count": 51,
   "metadata": {},
   "outputs": [
    {
     "data": {
      "text/plain": [
       "array([2.2493917e-21])"
      ]
     },
     "execution_count": 51,
     "metadata": {},
     "output_type": "execute_result"
    }
   ],
   "source": [
    "PSD_vb"
   ]
  },
  {
   "cell_type": "code",
   "execution_count": 17,
   "metadata": {},
   "outputs": [],
   "source": [
    "params = {'axes.labelsize': 17,\n",
    "          'xtick.labelsize': 17,\n",
    "          'ytick.labelsize': 17}\n",
    "\n",
    "plt.rc('text', usetex=False)\n",
    "plt.rcParams.update(params)"
   ]
  },
  {
   "cell_type": "code",
   "execution_count": 20,
   "metadata": {},
   "outputs": [
    {
     "data": {
      "image/png": "[encoded data removed]",
      "text/plain": [
       "<Figure size 432x288 with 1 Axes>"
      ]
     },
     "metadata": {
      "needs_background": "light"
     },
     "output_type": "display_data"
    }
   ],
   "source": [
    "plt.plot(np.array(freq)/1000, PSD, c ='k')\n",
    "plt.xlabel('Frequency (kHz)', fontsize=17)\n",
    "plt.ylabel(' S'+ r'$_{\\Delta \\phi}$'+ '(rad'+r'$^2$'+'/Hz)', fontsize=17)\n",
    "plt.grid(linestyle='--')\n",
    "#plt.ylim(1e-21, 4e-21)\n",
    "plt.xlim(0, 43.45)\n",
    "plt.tight_layout()\n",
    "#plt.savefig('PSD_rmsksi6e-2.png')"
   ]
  },
  {
   "cell_type": "code",
   "execution_count": null,
   "metadata": {},
   "outputs": [],
   "source": []
  }
 ],
 "metadata": {
  "kernelspec": {
   "display_name": "Python 3",
   "language": "python",
   "name": "python3"
  },
  "language_info": {
   "codemirror_mode": {
    "name": "ipython",
    "version": 3
   },
   "file_extension": ".py",
   "mimetype": "text/x-python",
   "name": "python",
   "nbconvert_exporter": "python",
   "pygments_lexer": "ipython3",
   "version": "3.7.3"
  }
 },
 "nbformat": 4,
 "nbformat_minor": 4
}
