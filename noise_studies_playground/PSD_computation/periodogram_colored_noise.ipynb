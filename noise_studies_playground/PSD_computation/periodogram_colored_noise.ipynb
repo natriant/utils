{
 "cells": [
  {
   "cell_type": "code",
   "execution_count": 92,
   "metadata": {},
   "outputs": [],
   "source": [
    "from scipy import signal\n",
    "import numpy as np\n",
    "import matplotlib.pyplot as plt"
   ]
  },
  {
   "cell_type": "code",
   "execution_count": 273,
   "metadata": {},
   "outputs": [],
   "source": [
    "N = 1000\n",
    "turns = np.arange(N)*1/(frev)\n",
    "T = turns[1] - turns[0]  # sampling interval = 1\n",
    "fs = 1 / T  # sampling frequency\n",
    "frev = 43.45e3\n",
    "#fs = fs*frev*2 # The factor of 2 is needed as we take only half of the sample for the periodogram function"
   ]
  },
  {
   "cell_type": "code",
   "execution_count": 274,
   "metadata": {},
   "outputs": [],
   "source": [
    "phi_0 = 1e-8  # amplitude of noise, aka stdPhaseNoise \n",
    "Delta_psi = 0.18 # the peak of the spectrum\n",
    "\n",
    "psi_t_list = []\n",
    "psi_t = 0\n",
    "\n",
    "# parameters for ksi\n",
    "mean = 0.0\n",
    "std = 0.04\n",
    "for i in turns:\n",
    "    psi_t_list.append(psi_t)\n",
    "    ksi = np.random.normal(mean, std)  # different seed on each turn\n",
    "    psi_t = psi_t + 2 * np.pi * Delta_psi + 2 * np.pi * ksi\n",
    "\n",
    "# Construct the noise signal\n",
    "y = phi_0 * np.cos(psi_t_list)"
   ]
  },
  {
   "cell_type": "code",
   "execution_count": 275,
   "metadata": {},
   "outputs": [
    {
     "data": {
      "image/png": "[encoded data removed]",
      "text/plain": [
       "<Figure size 432x288 with 1 Axes>"
      ]
     },
     "metadata": {
      "needs_background": "light"
     },
     "output_type": "display_data"
    }
   ],
   "source": [
    "f, Pxx_den = signal.periodogram(y, fs)\n",
    "plt.semilogy(f, Pxx_den)\n",
    "plt.xlabel('frequency [Hz]')\n",
    "plt.ylabel('PSD [V**2/Hz]')\n",
    "plt.show()"
   ]
  },
  {
   "cell_type": "code",
   "execution_count": 276,
   "metadata": {},
   "outputs": [
    {
     "data": {
      "text/plain": [
       "2.2852921511468117e-21"
      ]
     },
     "execution_count": 276,
     "metadata": {},
     "output_type": "execute_result"
    }
   ],
   "source": [
    "np.mean(Pxx_den)"
   ]
  },
  {
   "cell_type": "code",
   "execution_count": 277,
   "metadata": {},
   "outputs": [
    {
     "data": {
      "text/plain": [
       "1.0000000000000001e-16"
      ]
     },
     "execution_count": 277,
     "metadata": {},
     "output_type": "execute_result"
    }
   ],
   "source": [
    "1e-8**2\n"
   ]
  },
  {
   "cell_type": "code",
   "execution_count": 278,
   "metadata": {},
   "outputs": [
    {
     "name": "stdout",
     "output_type": "stream",
     "text": [
      "The total noise power as obtained from signal processing is 9.929594396732897e-17\n"
     ]
    }
   ],
   "source": [
    "print('The total noise power as obtained from signal processing is {}'.format(np.mean(Pxx_den*frev)))"
   ]
  },
  {
   "cell_type": "code",
   "execution_count": 279,
   "metadata": {},
   "outputs": [
    {
     "name": "stdout",
     "output_type": "stream",
     "text": [
      "The PSD at vb 4.711662931366446e-19 A.U^2/Hz\n"
     ]
    }
   ],
   "source": [
    "print('The PSD at vb {} A.U^2/Hz'.format(np.max(PSD_vb)))"
   ]
  },
  {
   "cell_type": "code",
   "execution_count": 280,
   "metadata": {},
   "outputs": [],
   "source": [
    "# confirm that is indeed at vb\n",
    "index = np.argmax(Pxx_den)"
   ]
  },
  {
   "cell_type": "code",
   "execution_count": 281,
   "metadata": {},
   "outputs": [
    {
     "data": {
      "text/plain": [
       "7821.0"
      ]
     },
     "execution_count": 281,
     "metadata": {},
     "output_type": "execute_result"
    }
   ],
   "source": [
    "0.18*frev"
   ]
  },
  {
   "cell_type": "code",
   "execution_count": 249,
   "metadata": {},
   "outputs": [
    {
     "ename": "SyntaxError",
     "evalue": "invalid syntax (<ipython-input-249-4815e317559c>, line 1)",
     "output_type": "error",
     "traceback": [
      "\u001b[0;36m  File \u001b[0;32m\"<ipython-input-249-4815e317559c>\"\u001b[0;36m, line \u001b[0;32m1\u001b[0m\n\u001b[0;31m    to maximum den einai sto vb\u001b[0m\n\u001b[0m             ^\u001b[0m\n\u001b[0;31mSyntaxError\u001b[0m\u001b[0;31m:\u001b[0m invalid syntax\n"
     ]
    }
   ],
   "source": [
    "to maximum den einai sto vb"
   ]
  },
  {
   "cell_type": "code",
   "execution_count": null,
   "metadata": {},
   "outputs": [],
   "source": []
  },
  {
   "cell_type": "code",
   "execution_count": null,
   "metadata": {},
   "outputs": [],
   "source": []
  }
 ],
 "metadata": {
  "kernelspec": {
   "display_name": "Python 3",
   "language": "python",
   "name": "python3"
  },
  "language_info": {
   "codemirror_mode": {
    "name": "ipython",
    "version": 3
   },
   "file_extension": ".py",
   "mimetype": "text/x-python",
   "name": "python",
   "nbconvert_exporter": "python",
   "pygments_lexer": "ipython3",
   "version": "3.7.3"
  }
 },
 "nbformat": 4,
 "nbformat_minor": 4
}
