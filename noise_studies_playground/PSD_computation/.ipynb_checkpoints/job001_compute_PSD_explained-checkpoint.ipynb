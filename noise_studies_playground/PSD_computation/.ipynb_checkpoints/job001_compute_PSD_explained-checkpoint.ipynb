{
 "cells": [
  {
   "cell_type": "markdown",
   "metadata": {},
   "source": [
    "###  **Compute the total power and the PSD of noise signal**\n",
    "\n",
    "Some defintions\n",
    "\n",
    "1) **Power spectral density (PSD)** is a measure of power per unit frequency, with units in rad^2/Hz or V^2/Hz for phase and amplitude noise respectively. \n",
    "\n",
    "\n",
    "2) The **total noise power, P,** is the integrated noise over the whole spectrum. E.g. If we have white noise of PSD α over a frequency band from 0 to 43 kHZ (the SPS revolution frequency). The total noise power would be α*43e3. For a statistical process the total noise power equals the variance (σ^2).\n",
    "\n",
    "\n",
    "- In our example the noise signal is a sequence of the noise kicks over turns.\n",
    "- Thererfore, it is a discrete signal over time, $y_n$.\n",
    "- The signal sampled at discrete times $y_n=y(n \\Delta t)$ for a total measurement period of $T=N\\Delta T$.\n",
    "- $1 \\leq n \\leq N$. In other words N is the length of our signal.\n",
    "\n",
    "The total noise power is given by:\n",
    "\n",
    "\\begin{equation}\n",
    "P = \\frac{\\Delta t}{T} \\sum_{n=0}^{N-1} \\mid y_n \\mid ^2 = \\frac{1}{N^2} \\sum_{n=0}^{N-1} \\mid Y_k \\mid ^2 \n",
    "\\end{equation}\n",
    "\n",
    "where $Y_k$ is the discrete Fourier transform of $y_n$.\n",
    "\n",
    "Note that in the expressions above the transform $Y_k$ is not in unitary form i.e. not normalised with $1 / \\sqrt{N}$. Specifically:\n",
    "\n",
    "\\begin{equation}\n",
    "Y_k = \\sum_{n=0}^{N-1} y_n e^{-\\frac{i 2\\pi}{N} kn}\n",
    "\\end{equation}\n",
    "\n",
    "which is also the resuls of the **numpy.fft.fft** function."
   ]
  },
  {
   "cell_type": "code",
   "execution_count": 1,
   "metadata": {},
   "outputs": [],
   "source": [
    "import numpy as np\n",
    "import matplotlib.pyplot as plt"
   ]
  },
  {
   "cell_type": "markdown",
   "metadata": {},
   "source": [
    "#### Function for creating the noise signal"
   ]
  },
  {
   "cell_type": "code",
   "execution_count": 87,
   "metadata": {},
   "outputs": [],
   "source": [
    "def create_noise(N, colored=False):        \n",
    "    if colored: # A.Wolski's method\n",
    "        phi_0 = 1e-8  # amplitude of noise, aka stdPhaseNoise \n",
    "        Delta_psi = 0.18 # the peak of the spectrum\n",
    "\n",
    "        psi_t_list = []\n",
    "        psi_t = 0\n",
    "\n",
    "        # parameters for ksi\n",
    "        mean = 0.0\n",
    "        std = 0.04\n",
    "        for i in range(N):\n",
    "            psi_t_list.append(psi_t)\n",
    "            ksi = np.random.normal(mean, std)  # different seed on each turn\n",
    "            psi_t = psi_t + 2 * np.pi * Delta_psi + 2 * np.pi * ksi\n",
    "\n",
    "        # Construct the noise signal\n",
    "        y = phi_0 * np.cos(psi_t_list)\n",
    "        \n",
    "    else:\n",
    "        mu, stdPhaseNoise = 0, 1e-8\n",
    "        y = np.random.normal(mu, stdPhaseNoise, N)\n",
    "    \n",
    "    return y"
   ]
  },
  {
   "cell_type": "markdown",
   "metadata": {},
   "source": [
    "#### Define sampling parameters"
   ]
  },
  {
   "cell_type": "code",
   "execution_count": 88,
   "metadata": {},
   "outputs": [],
   "source": [
    "N = 1000 # length of the signal\n",
    "frev = 43.45e3 # the revolution frequency of SPS\n",
    "time = np.arange(N)/frev # convert from turns to time"
   ]
  },
  {
   "cell_type": "code",
   "execution_count": 89,
   "metadata": {},
   "outputs": [],
   "source": [
    "Dt = time[1]-time[0] # sampling (s)"
   ]
  },
  {
   "cell_type": "code",
   "execution_count": 90,
   "metadata": {},
   "outputs": [],
   "source": [
    "freq = np.linspace(0, N/time[-1], N)"
   ]
  },
  {
   "cell_type": "code",
   "execution_count": 91,
   "metadata": {},
   "outputs": [
    {
     "data": {
      "text/plain": [
       "43493.49349349349"
      ]
     },
     "execution_count": 91,
     "metadata": {},
     "output_type": "execute_result"
    }
   ],
   "source": [
    "freq[-1]"
   ]
  },
  {
   "cell_type": "code",
   "execution_count": 92,
   "metadata": {},
   "outputs": [],
   "source": [
    "Df = freq[1]-freq[0]"
   ]
  },
  {
   "cell_type": "markdown",
   "metadata": {},
   "source": [
    "#### To obtain a precise value of PSD, we use the average of 10000 FFTs"
   ]
  },
  {
   "cell_type": "code",
   "execution_count": 95,
   "metadata": {},
   "outputs": [],
   "source": [
    "fft_list = []\n",
    "for i in range(10000):\n",
    "    y_noise = create_noise(N, True)\n",
    "    fft = np.fft.fft(y_noise)\n",
    "    fft_list.append(fft)"
   ]
  },
  {
   "cell_type": "markdown",
   "metadata": {},
   "source": [
    "##### For the computation of the total power the information from one signal and one FFT are enough"
   ]
  },
  {
   "cell_type": "code",
   "execution_count": 96,
   "metadata": {},
   "outputs": [
    {
     "name": "stdout",
     "output_type": "stream",
     "text": [
      "5.0398811532351346e-17\n",
      "5.0348412720818983e-17\n"
     ]
    }
   ],
   "source": [
    "# the two methods should give the same due to the Parsheval's theorem\n",
    "total_power_white = np.sum(y_noise**2)*Dt/time[-1] # rad^2 or V^2 for phase and amplitude noise respectively\n",
    "total_power_white_fft = np.sum(np.abs(fft)**2)/N**2 # rad^2 or V^2\n",
    "print(total_power_white)\n",
    "print(total_power_white_fft)"
   ]
  },
  {
   "cell_type": "code",
   "execution_count": 78,
   "metadata": {},
   "outputs": [
    {
     "data": {
      "text/plain": [
       "1.0307894953377441e-16"
      ]
     },
     "execution_count": 78,
     "metadata": {},
     "output_type": "execute_result"
    }
   ],
   "source": [
    "# The variance of the signal should be equal to the total noise power\n",
    "np.var(y_noise)"
   ]
  },
  {
   "cell_type": "code",
   "execution_count": 79,
   "metadata": {},
   "outputs": [],
   "source": [
    "mean_dft = np.mean(np.abs(fft_list)**2, axis=0)\n",
    "PSD = mean_dft/(Df*N**2)"
   ]
  },
  {
   "cell_type": "code",
   "execution_count": 80,
   "metadata": {},
   "outputs": [
    {
     "data": {
      "text/plain": [
       "Text(0, 0.5, 'PSD (rad$^2$/Hz)')"
      ]
     },
     "execution_count": 80,
     "metadata": {},
     "output_type": "execute_result"
    },
    {
     "data": {
      "image/png": "[encoded data removed]",
      "text/plain": [
       "<Figure size 432x288 with 1 Axes>"
      ]
     },
     "metadata": {
      "needs_background": "light"
     },
     "output_type": "display_data"
    }
   ],
   "source": [
    "plt.plot(freq, PSD)\n",
    "plt.xlabel('Frequency (Hz)')\n",
    "plt.ylabel('PSD (rad'+r'$^2$'+'/Hz)')"
   ]
  },
  {
   "cell_type": "markdown",
   "metadata": {},
   "source": [
    "### Find the PSD at the betatron frequency"
   ]
  },
  {
   "cell_type": "code",
   "execution_count": 81,
   "metadata": {},
   "outputs": [
    {
     "name": "stdout",
     "output_type": "stream",
     "text": [
      "7821.0\n"
     ]
    }
   ],
   "source": [
    "vb = 0.18 * frev # Hz\n",
    "print(vb)"
   ]
  },
  {
   "cell_type": "code",
   "execution_count": 82,
   "metadata": {},
   "outputs": [],
   "source": [
    "# Find closest value in a list\n",
    "def closest(lst, K):\n",
    "    return lst[min(range(len(lst)), key=lambda i: abs(lst[i] - K))]"
   ]
  },
  {
   "cell_type": "code",
   "execution_count": 83,
   "metadata": {},
   "outputs": [],
   "source": [
    "closest_vb_in_f = closest(list(freq), vb)"
   ]
  },
  {
   "cell_type": "code",
   "execution_count": 84,
   "metadata": {},
   "outputs": [],
   "source": [
    "PSD_vb_index = [i for i in range(len(freq)) if freq[i] == closest_vb_in_f]\n",
    "PSD_vb = PSD[PSD_vb_index]"
   ]
  },
  {
   "cell_type": "code",
   "execution_count": 85,
   "metadata": {},
   "outputs": [
    {
     "data": {
      "text/plain": [
       "[180]"
      ]
     },
     "execution_count": 85,
     "metadata": {},
     "output_type": "execute_result"
    }
   ],
   "source": [
    "PSD_vb_index"
   ]
  },
  {
   "cell_type": "code",
   "execution_count": 86,
   "metadata": {},
   "outputs": [
    {
     "data": {
      "text/plain": [
       "array([2.28234477e-21])"
      ]
     },
     "execution_count": 86,
     "metadata": {},
     "output_type": "execute_result"
    }
   ],
   "source": [
    "PSD_vb"
   ]
  },
  {
   "cell_type": "code",
   "execution_count": null,
   "metadata": {},
   "outputs": [],
   "source": []
  },
  {
   "cell_type": "code",
   "execution_count": null,
   "metadata": {},
   "outputs": [],
   "source": []
  }
 ],
 "metadata": {
  "kernelspec": {
   "display_name": "Python 3",
   "language": "python",
   "name": "python3"
  },
  "language_info": {
   "codemirror_mode": {
    "name": "ipython",
    "version": 3
   },
   "file_extension": ".py",
   "mimetype": "text/x-python",
   "name": "python",
   "nbconvert_exporter": "python",
   "pygments_lexer": "ipython3",
   "version": "3.7.3"
  }
 },
 "nbformat": 4,
 "nbformat_minor": 4
}
